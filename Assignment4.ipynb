{
 "cells": [
  {
   "cell_type": "markdown",
   "metadata": {},
   "source": [
    "#Assignment4"
   ]
  },
  {
   "cell_type": "markdown",
   "metadata": {},
   "source": [
    "##1. 파일 s.txt 내의 다음 내용과 함께 아래 문제의 코드를 제시하시오.\n",
    "\n",
    "\n",
    "pig ham\n",
    "\n",
    "\n",
    " cat dog\n",
    " \n",
    " \n",
    " ham bird\n",
    " \n",
    " \n",
    " dog pig\n"
   ]
  },
  {
   "cell_type": "code",
   "execution_count": 1,
   "metadata": {
    "collapsed": true
   },
   "outputs": [],
   "source": [
    "import os\n",
    "\n",
    "s = \"pig ham\\ncat dog\\nham bird\\ndog pig\"\n",
    "f = open('s.txt','w')\n",
    "f.write(s)\n",
    "f.close()"
   ]
  },
  {
   "cell_type": "markdown",
   "metadata": {},
   "source": [
    "###1) 파일 s.txt을 읽어서 각 라인에 있는 첫 번째 단어(문자열) 자체들을 기준으로 라인별 정렬후 파일 s1.txt에 그 결과를 기록하는 코드를 작성하시오. 즉, 프로그램 수행 후 s1.txt에 있는 파일 내용은 다음과 같다.\n",
    "\n",
    "cat dog\n",
    "\n",
    " dog pig\n",
    " \n",
    " ham bird\n",
    " \n",
    " pig ham\n"
   ]
  },
  {
   "cell_type": "code",
   "execution_count": 24,
   "metadata": {
    "collapsed": false
   },
   "outputs": [
    {
     "name": "stdout",
     "output_type": "stream",
     "text": [
      "cat dog\n",
      "dog pig\n",
      "ham bird\n",
      "pig ham\n"
     ]
    }
   ],
   "source": [
    "f = file('s.txt','r')\n",
    "\n",
    "temp = f.read()\n",
    "\n",
    "content = temp.split('\\n')\n",
    "\n",
    "content.sort()\n",
    "\n",
    "s1 = ''\n",
    "\n",
    "for x in range(0,len(content)):\n",
    "    s1 += content[x]\n",
    "    if x != len(content)-1:\n",
    "        s1 += '\\n'\n",
    "f.close()\n",
    "\n",
    "f1 = file('s1.txt','w')\n",
    "f1.write(s1)\n",
    "print s1\n",
    "f1.close()"
   ]
  },
  {
   "cell_type": "markdown",
   "metadata": {},
   "source": [
    "###2) 파일 s.txt을 읽어서 각 라인에 있는 두 번째 단어(문자열) 자체들을 기준으로 라인별 정렬후 파일 s2.txt에 그 결과를 기록하는 코드를 작성하시오. 즉, 프로그램 수행 후 s2.txt에 있는 파일 내용은 다음과 같다.\n",
    "\n",
    "ham bird\n",
    "\n",
    " cat dog\n",
    " \n",
    " pig ham\n",
    " \n",
    " dog pig"
   ]
  },
  {
   "cell_type": "code",
   "execution_count": 33,
   "metadata": {
    "collapsed": false
   },
   "outputs": [
    {
     "name": "stdout",
     "output_type": "stream",
     "text": [
      "ham bird\n",
      "cat dog\n",
      "pig ham\n",
      "dog pig\n"
     ]
    }
   ],
   "source": [
    "f = file('s.txt','r')\n",
    "\n",
    "temp1 = f.read()\n",
    "\n",
    "content1 = temp1.split('\\n')\n",
    "\n",
    "\n",
    "\n",
    "def second(s):\n",
    "    result = s.split(' ')\n",
    "    return result[1]\n",
    "\n",
    "content1.sort(key=second)\n",
    "\n",
    "s2 = ''\n",
    "\n",
    "for x in range(0,len(content1)):\n",
    "    s2 += content1[x]\n",
    "    if x != len(content1)-1:\n",
    "        s2 += '\\n'\n",
    "f.close()\n",
    "\n",
    "f2 = file('s2.txt','w')\n",
    "f2.write(s2)\n",
    "print s2\n",
    "f2.close()"
   ]
  },
  {
   "cell_type": "markdown",
   "metadata": {},
   "source": [
    "###3) 파일 s.txt을 읽어서 각 라인들에 있는 모든 단어들을 순차적으로 다시 나열하되 각 라인에 세 개의 단어들이 오도록 하여 s3.txt에 기록하는 코드를 작성하시오. 즉, 프로그램 수행 후 s3.txt에 있는 파일 내용은 다음과 같다.\n",
    "\n",
    "pig ham cat\n",
    "\n",
    " dog ham bird\n",
    " \n",
    " dog pig\n"
   ]
  },
  {
   "cell_type": "code",
   "execution_count": 40,
   "metadata": {
    "collapsed": false
   },
   "outputs": [
    {
     "name": "stdout",
     "output_type": "stream",
     "text": [
      "pig ham cat\n",
      "dog ham bird\n",
      "dog pig \n"
     ]
    }
   ],
   "source": [
    "f = file('s.txt','r')\n",
    "\n",
    "temp2 = f.read()\n",
    "\n",
    "content2 = temp2.split()\n",
    "\n",
    "s3 =''\n",
    "\n",
    "for x in range(0,len(content2)):\n",
    "    s3 += content2[x]\n",
    "    if(x%3==2):\n",
    "        s3 += '\\n'\n",
    "    else:\n",
    "        s3 += ' '\n",
    "    \n",
    "f.close()\n",
    "\n",
    "f3 = file('s3.txt','w')\n",
    "f3.write(s3)\n",
    "print s3\n",
    "f3.close()"
   ]
  },
  {
   "cell_type": "markdown",
   "metadata": {},
   "source": [
    "##2. 다음과 같은 조건들을 참고하여 회원 가입 및 로그인 프로그램을 작성하시오."
   ]
  },
  {
   "cell_type": "markdown",
   "metadata": {},
   "source": [
    "###1) 프로그램 시작 후 다음과 같은 메시지가 출력되어 1, 2, 3 중 하나의 값을 입력 받도록 한다.\n",
    "\n",
    "Welcome to Our Service\n",
    "\n",
    "1.Sign Up\n",
    "\n",
    "2.Sign In\n",
    "\n",
    "3.Quit\n",
    "###2) 1을 선택하면 ID, Password, Name, School의 4가지 정보를 입력받아 파일에 저장하는 프로그램을 작성한다.\n",
    "\n",
    "◾2-1) 입력된 내용은 access.txt 라는 이름의 텍스트 파일 내에 저장된다. \n",
    "\n",
    "◾2-2) access.txt 파일의 각 라인에는 가입된 회원 각각의 정보가 \"[id]: [password], [name], [school]\" 형태로 저장된다.\n",
    "\n",
    "◾2-3) 즉, 가입 회원이 10명이면 access.txt 파일 내에 라인 수도 정확히 10개이다.\n",
    "\n",
    "◾2-4) 암호화 방식은 sha 모듈을 활용한다. sha 모듈 활용 방법은 본 문제의 마지막에 제시된 sha 활용 예를 참고한다.◦즉, access.txt 파일 내에 password 정보는 암호화 되어 저장되어야 한다.\n",
    "\n",
    "◾2-5) 회원 정보를 입력 받을 때 id를 입력 받은 직후 access.txt를 확인하여 이미 존재하는 id가 입력되었다면 다음 메시지를 출력하고 id 정보를 다시 입력받는다.◦Sorry, the entered ID is already used.\n",
    "\n",
    "\n",
    "###3) 2를 선택하면 ID, Password의 2가지 정보를 입력받는 프로그램을 작성한다.\n",
    "◾3-1) 입력된 ID 정보가 access.txt에 존재하지 않으면 다음과 같은 메시지를 출력하고 다시 입력받는다.◦Sorry, you are not a registered member.\n",
    "\n",
    "◾3-2) 입력된 ID가 올바르게 존재하지만 Password 정보가 access.txt 파일에 있는 정보와 불일치하면 다음과 같은 메시지를 출력하고 Password를 다시 입력받는다.◦Sorry, the entered password is not correct.\n",
    "\n",
    "◦이 때에도 사용자가 입력한 Password 정보와 함께 sha 모듈이 활용되어야 한다.\n",
    "\n",
    "◾3-3) 입력된 ID와 Password가 모두 올바르면 다음과 같은 메시지를 출력한다.\n",
    "\n",
    "◦Hello [name]!\n",
    "\n",
    "◦위 [name]에는 access.txt에 기록되어 있는 name 정보를 출력한다.\n",
    "\n",
    "\n",
    "###4) 3을 선택하면 프로그램이 끝난다.\n"
   ]
  },
  {
   "cell_type": "code",
   "execution_count": 1,
   "metadata": {
    "collapsed": false
   },
   "outputs": [
    {
     "name": "stdout",
     "output_type": "stream",
     "text": [
      "Welcome to Our Service\n",
      "\n",
      "1.Sign Up\n",
      "2.Sign In\n",
      "3.Quit\n",
      "Menu : 1\n",
      "ID : test1\n",
      "Password : 12345\n",
      "Name : hyunsu\n",
      "School : koreatech\n",
      "Welcome to Our Service\n",
      "\n",
      "1.Sign Up\n",
      "2.Sign In\n",
      "3.Quit\n",
      "Menu : 1\n",
      "ID : test2\n",
      "Password : 23456\n",
      "Name : suhyun\n",
      "School : koreatech\n",
      "Welcome to Our Service\n",
      "\n",
      "1.Sign Up\n",
      "2.Sign In\n",
      "3.Quit\n",
      "Menu : 1\n",
      "ID : test2\n",
      "Sorry, the entered ID is already used\n",
      "ID : test3\n",
      "Password : 34567\n",
      "Name : woohyun\n",
      "School : koreatech\n",
      "Welcome to Our Service\n",
      "\n",
      "1.Sign Up\n",
      "2.Sign In\n",
      "3.Quit\n",
      "Menu : 2\n",
      "ID : test\n",
      "Password : 23456\n",
      "Sorry, you are not a registered member\n",
      "\n",
      "Welcome to Our Service\n",
      "\n",
      "1.Sign Up\n",
      "2.Sign In\n",
      "3.Quit\n",
      "Menu : 2\n",
      "ID : test1\n",
      "Password : 34567\n",
      "Sorry, the entered password is not correct\n",
      "\n",
      "Welcome to Our Service\n",
      "\n",
      "1.Sign Up\n",
      "2.Sign In\n",
      "3.Quit\n",
      "Menu : 2\n",
      "ID : test1\n",
      "Password : 12345\n",
      "Hello hyunsu!\n",
      "Welcome to Our Service\n",
      "\n",
      "1.Sign Up\n",
      "2.Sign In\n",
      "3.Quit\n",
      "Menu : 3\n",
      "End Service\n"
     ]
    }
   ],
   "source": [
    "import sha\n",
    "\n",
    "def display():\n",
    "    print 'Welcome to Our Service\\n\\n1.Sign Up\\n2.Sign In\\n3.Quit'\n",
    "\n",
    "end = 0\n",
    "while end == 0:\n",
    "    display()\n",
    "    n = input(\"Menu : \")\n",
    "    f = open('access.txt','a+')\n",
    "    access = f.readlines()\n",
    "    userinfo = []\n",
    "    errorcnt = 0\n",
    "    for x in range(0,len(access)):\n",
    "        temp = access[x].split(':')\n",
    "        info = temp[1].split(',')\n",
    "        userinfo.append([temp[0], info[0], info[1], info[2]])\n",
    "            \n",
    "    if n == 1:\n",
    "        newuser = ''\n",
    "        newuserid = raw_input(\"ID : \")\n",
    "        check = 0\n",
    "        while check < len(userinfo):\n",
    "            if newuserid == userinfo[check][0]:\n",
    "                print 'Sorry, the entered ID is already used'\n",
    "                check = 0\n",
    "                newuserid = raw_input(\"ID : \")\n",
    "            else:\n",
    "                check += 1\n",
    "                \n",
    "        newuser += newuserid\n",
    "        newuser += ':'\n",
    "        newuserpwd = raw_input(\"Password : \")\n",
    "        newuserpwdsha = sha.new(newuserpwd).hexdigest()\n",
    "        newuser += newuserpwdsha\n",
    "        newuser += ','\n",
    "        newusername = raw_input(\"Name : \")\n",
    "        newuser += newusername\n",
    "        newuser += ','\n",
    "        newusersh = raw_input(\"School : \")\n",
    "        newuser += newusersh\n",
    "        f.write(newuser)\n",
    "        f.write('\\n')\n",
    "\n",
    "    elif n == 2:\n",
    "        userid = raw_input(\"ID : \")\n",
    "        userpwd = raw_input(\"Password : \")\n",
    "        userpwdsha = sha.new(userpwd).hexdigest()\n",
    "\n",
    "        for x in range(0,len(userinfo)):\n",
    "            if userid == userinfo[x][0]:\n",
    "                if userpwdsha == userinfo[x][1]:\n",
    "                    print 'Hello ' + userinfo[x][2] + '!'\n",
    "                    break\n",
    "                else:\n",
    "                    print 'Sorry, the entered password is not correct\\n'\n",
    "                    break;\n",
    "            else:\n",
    "                errorcnt += 1         \n",
    "        if errorcnt == len(userinfo):\n",
    "             print 'Sorry, you are not a registered member\\n'\n",
    "\n",
    "    elif n == 3:\n",
    "        print \"End Service\",\n",
    "        f.close()\n",
    "        end = 1\n",
    "    else:\n",
    "        print \"error, Please input value is 1 or 2 or 3\\n\"\n",
    "    "
   ]
  },
  {
   "cell_type": "markdown",
   "metadata": {},
   "source": [
    "##3. range() 함수와 유사한 frange() 함수를 다음 조건을 참고하여 만드시오.\n",
    "•1) frange()의 인자 구성은 다음과 같이 range와 동일하지만 각 인수들은 음수를 받지 않는다고 가정한다.\n",
    "\n",
    "range(stop)\n",
    "\n",
    " range(start, stop[, step])\n",
    "\n",
    "\n",
    "•2) frange() 함수의 인자에 대한 기본 시작(start) 값은 0.0이고, 기본 단계(step) 값은 0.1이다. \n",
    "\n",
    "\n",
    "•3) frange 사용 예\n",
    "\n",
    "◾3-1) frange(0.5)◦[0.0, 0.1, 0.2, 0.3, 0.4]\n",
    "\n",
    "◾3-2) frange(1.0, 2.0)◦[1.0, 1.1, 1.2, 1.3, 1.4, 1.5, 1.6, 1.7, 1.8, 1.9]\n",
    "\n",
    "◾3-3) frange(2.2, 4.0, 0.5)◦[2.2, 2.7, 3.2, 3.7]\n",
    "\n",
    "\n"
   ]
  },
  {
   "cell_type": "code",
   "execution_count": 11,
   "metadata": {
    "collapsed": false
   },
   "outputs": [
    {
     "name": "stdout",
     "output_type": "stream",
     "text": [
      "[0.0, 0.1, 0.2, 0.3, 0.4]\n",
      "[1.0, 1.1, 1.2, 1.3, 1.4, 1.5, 1.6, 1.7, 1.8, 1.9]\n",
      "[2.2, 2.7, 3.2, 3.7]\n"
     ]
    }
   ],
   "source": [
    "def frange(a, b=0.0, step=0.1):\n",
    "    if a > b:\n",
    "        start = b\n",
    "        stop = a\n",
    "    else:\n",
    "        start = a\n",
    "        stop = b\n",
    "    L = []\n",
    "    while start < stop:\n",
    "        L.append(round(start,2))\n",
    "        start += step\n",
    "\n",
    "    print L\n",
    "\n",
    "frange(0.5)\n",
    "frange(1.0,2.0)\n",
    "frange(2.2,4.0,0.5)"
   ]
  },
  {
   "cell_type": "code",
   "execution_count": 12,
   "metadata": {
    "collapsed": false
   },
   "outputs": [
    {
     "name": "stdout",
     "output_type": "stream",
     "text": [
      "[0.0, 0.1, 0.2, 0.30000000000000004, 0.4]\n",
      "[1.0, 1.1, 1.2000000000000002, 1.3000000000000003, 1.4000000000000004, 1.5000000000000004, 1.6000000000000005, 1.7000000000000006, 1.8000000000000007, 1.9000000000000008]\n",
      "[2.2, 2.7, 3.2, 3.7]\n"
     ]
    }
   ],
   "source": [
    "def frange(a, b=0.0, step=0.1):\n",
    "    if a > b:\n",
    "        start = b\n",
    "        stop = a\n",
    "    else:\n",
    "        start = a\n",
    "        stop = b\n",
    "    L = []\n",
    "    while start < stop:\n",
    "        L.append(start)\n",
    "        start += step\n",
    "\n",
    "    print L\n",
    "\n",
    "frange(0.5)\n",
    "frange(1.0,2.0)\n",
    "frange(2.2,4.0,0.5)\n"
   ]
  },
  {
   "cell_type": "markdown",
   "metadata": {},
   "source": [
    "값이 왜 이렇게 나오는지 원인을 찾지 못하여 위처럼 round 함수를 사용하였습니다."
   ]
  },
  {
   "cell_type": "markdown",
   "metadata": {},
   "source": [
    "##4.가변인수를 받는 함수 sum()을 다음과 같은 조건을 참고하여 구현하시오\n",
    "•sum() 사용 예 \n",
    "\n",
    "◾sum()◦0\n",
    "\n",
    "◾sum(1, 2)◦3\n",
    "\n",
    "◾sum(1, 2, 3, 4, 5)◦15\n",
    "\n",
    "◾sum(1, 5, 7, 2, -10)◦5\n",
    "\n",
    "\n"
   ]
  },
  {
   "cell_type": "code",
   "execution_count": 16,
   "metadata": {
    "collapsed": false
   },
   "outputs": [
    {
     "name": "stdout",
     "output_type": "stream",
     "text": [
      "0\n",
      "3\n",
      "15\n",
      "5\n"
     ]
    }
   ],
   "source": [
    "def sum(*num):\n",
    "    if num == None:\n",
    "        print 0\n",
    "    else:\n",
    "        sumvalue = 0\n",
    "        for x in range(0,len(num)):\n",
    "            sumvalue += num[x]\n",
    "        print sumvalue\n",
    "    \n",
    "sum()\n",
    "sum(1,2)\n",
    "sum(1,2,3,4,5)\n",
    "sum(1,5,7,2,-10)"
   ]
  },
  {
   "cell_type": "markdown",
   "metadata": {},
   "source": [
    "##5.여러 단어로 이루어진 문자열을 입력받아 각 단어의 첫글자로 이루어진 단어를 대문자로 출력하는 myinitial() 함수를 다음 조건을 참고하여 작성하시오.\n",
    "•1) 다음에 제시되는 함수들을 모두 이용해야 한다. \n",
    "\n",
    "◾split\n",
    "\n",
    "◾map\n",
    "\n",
    "◾join\n",
    "\n",
    "•2) myinitial() 함수 사용 예\n",
    "\n",
    "◾myinitial(\"as soon as possible\")\n",
    "\n",
    "◦ASAP\n",
    "\n",
    "\n"
   ]
  },
  {
   "cell_type": "code",
   "execution_count": 25,
   "metadata": {
    "collapsed": false
   },
   "outputs": [
    {
     "name": "stdout",
     "output_type": "stream",
     "text": [
      "ASAP\n"
     ]
    }
   ],
   "source": [
    "def myinitial(s):\n",
    "    up = s.upper()\n",
    "    L = up.split()\n",
    "    \n",
    "    initial = map(front,L)\n",
    "    print ''.join(initial)\n",
    "    \n",
    "def front(c):\n",
    "    return c[0]\n",
    "\n",
    "myinitial(\"as soon as possible\")"
   ]
  },
  {
   "cell_type": "markdown",
   "metadata": {},
   "source": [
    "##6. 음이 아닌 정수 n를 입력받으면 n! (factorial)을 계산하는 myfact() 함수를 재귀적 함수로 구현하시오.\n",
    "\n",
    "•[옵션] 참을 수 있는 정도 만큼의 수행시간을 직접 기다려보면서 n을 늘려보도록 합시다. \n"
   ]
  },
  {
   "cell_type": "code",
   "execution_count": 34,
   "metadata": {
    "collapsed": false
   },
   "outputs": [
    {
     "name": "stdout",
     "output_type": "stream",
     "text": [
      "24215638650792346558700053691985855570120556040258652734839783267039961720178323593174739047913617079695531502689473012213820889134885853992818438056445080201482863675240494802269823110125881000284687377104376400792200165127855908498047507347955446603093964326987087311394274684237308398502911304969719715098068025497504900730580217016573270011698467378924291550780873605154736879542602554635558428265690302091342359471863508627516511203478353542187151045838267239168928747525890559708487655213488727530884968558716385000436989129479527833010340517760688345368715729020015336862534353876914871201776699205878662858555857265544230999178449256448000000000000000000000000000000000000000000000000000000000000000000000000000000000000\n"
     ]
    }
   ],
   "source": [
    "def myfact(n):\n",
    "    if n == 0:\n",
    "        return 1\n",
    "    else:\n",
    "        return n*myfact(n-1)\n",
    "    \n",
    "print myfact(345)"
   ]
  },
  {
   "cell_type": "markdown",
   "metadata": {
    "collapsed": true
   },
   "source": [
    "##7.(서술형) import string 과 from string import * 의 차이점을 설명하시오"
   ]
  },
  {
   "cell_type": "markdown",
   "metadata": {},
   "source": [
    "import string 은 가장 기본적인 형태로 string 모듈의 이름공간이 그대로 유지되므로 메소드를 string.xxx 형태로 사용하지만 from string import* 은 해당 모듈에 존재하는 '__'로 시작되는 이름을 제외한 모든 이름들을 현재 공간이름으로 불러와 메소드를 string을 붙이지않고 사용할 수 있다."
   ]
  },
  {
   "cell_type": "markdown",
   "metadata": {},
   "source": [
    "##8. 프로젝트 오일러10\n",
    "10 이하의 소수를 모두 더하면 2 + 3 + 5 + 7 = 17 이 됩니다.\n",
    "\n",
    "이백만(2,000,000) 이하 소수의 합은 얼마입니까?\n"
   ]
  },
  {
   "cell_type": "code",
   "execution_count": 9,
   "metadata": {
    "collapsed": false
   },
   "outputs": [
    {
     "name": "stdout",
     "output_type": "stream",
     "text": [
      "45675864\n"
     ]
    }
   ],
   "source": [
    "prime = [2]\n",
    "find = 0\n",
    "for x in range(2,30000):\n",
    "    for y in range(0,len(prime)):\n",
    "        if x%prime[y] == 0:\n",
    "            find = 1\n",
    "            break;\n",
    "    if find == 0:\n",
    "        prime.append(x)\n",
    "    else:\n",
    "        find = 0   \n",
    "        \n",
    "print sum(prime)"
   ]
  },
  {
   "cell_type": "markdown",
   "metadata": {},
   "source": [
    "더 이상 크기를 키우면 너무 오래 걸려서 30000까지만 했습니다."
   ]
  },
  {
   "cell_type": "markdown",
   "metadata": {},
   "source": [
    "##9. 프로젝트 오일러11\n",
    "아래와 같은 20×20 격자가 있습니다.\n",
    "\n",
    "08 02 22 97 38 15 00 40 00 75 04 05 07 78 52 12 50 77 91 08\n",
    "\n",
    " 49 49 99 40 17 81 18 57 60 87 17 40 98 43 69 48 04 56 62 00\n",
    " \n",
    " 81 49 31 73 55 79 14 29 93 71 40 67 53 88 30 03 49 13 36 65\n",
    " \n",
    " 52 70 95 23 04 60 11 42 69 24 68 56 01 32 56 71 37 02 36 91\n",
    " \n",
    " 22 31 16 71 51 67 63 89 41 92 36 54 22 40 40 28 66 33 13 80\n",
    " \n",
    " 24 47 32 60 99 03 45 02 44 75 33 53 78 36 84 20 35 17 12 50\n",
    " \n",
    " 32 98 81 28 64 23 67 10 26 38 40 67 59 54 70 66 18 38 64 70\n",
    " \n",
    " 67 26 20 68 02 62 12 20 95 63 94 39 63 08 40 91 66 49 94 21\n",
    " \n",
    " 24 55 58 05 66 73 99 26 97 17 78 78 96 83 14 88 34 89 63 72\n",
    " \n",
    " 21 36 23 09 75 00 76 44 20 45 35 14 00 61 33 97 34 31 33 95\n",
    " \n",
    " 78 17 53 28 22 75 31 67 15 94 03 80 04 62 16 14 09 53 56 92\n",
    " \n",
    " 16 39 05 42 96 35 31 47 55 58 88 24 00 17 54 24 36 29 85 57\n",
    " \n",
    " 86 56 00 48 35 71 89 07 05 44 44 37 44 60 21 58 51 54 17 58\n",
    " \n",
    " 19 80 81 68 05 94 47 69 28 73 92 13 86 52 17 77 04 89 55 40\n",
    " \n",
    " 04 52 08 83 97 35 99 16 07 97 57 32 16 26 26 79 33 27 98 66\n",
    " \n",
    " 88 36 68 87 57 62 20 72 03 46 33 67 46 55 12 32 63 93 53 69\n",
    " \n",
    " 04 42 16 73 38 25 39 11 24 94 72 18 08 46 29 32 40 62 76 36\n",
    " \n",
    " 20 69 36 41 72 30 23 88 34 62 99 69 82 67 59 85 74 04 36 16\n",
    " \n",
    " 20 73 35 29 78 31 90 01 74 31 49 71 48 86 81 16 23 57 05 54\n",
    " \n",
    " 01 70 54 71 83 51 54 69 16 92 33 48 61 43 52 01 89 19 67 48 \n",
    " \n",
    "\n",
    "위에서 대각선 방향으로 연속된 붉은 숫자 네 개의 곱은 26 × 63 × 78 × 14 = 1788696 입니다.\n",
    "\n",
    "그러면 수평, 수직, 또는 대각선 방향으로 연속된 숫자 네 개의 곱 중 최대값은 얼마입니까?\n"
   ]
  },
  {
   "cell_type": "code",
   "execution_count": 24,
   "metadata": {
    "collapsed": false
   },
   "outputs": [
    {
     "name": "stdout",
     "output_type": "stream",
     "text": [
      "70600674\n"
     ]
    }
   ],
   "source": [
    "fretwork = [[8,2,22,97,38,15,0,40,0,75,4,5,7,78,52,12,50,77,91,8],\n",
    "            [49,49,99,40,17,81,18,57,60,87,17,40,98,43,69,48,4,56,62,0],\n",
    "           [81,49,31,73,55,79,14,29,93,71,40,67,53,88,30,3,49,13,36,65],\n",
    "           [52,70,95,23,4,60,11,42,69,24,68,56,1,32,56,71,37,2,36,91],\n",
    "           [22,31,16,71,51,67,63,89,41,92,36,54,22,40,40,28,66,33,13,80],\n",
    "           [24,47,32,60,99,3,45,2,44,75,33,53,78,36,84,20,35,17,12,50],\n",
    "           [32,98,81,28,64,23,67,10,26,38,40,67,59,54,70,66,18,38,64,70],\n",
    "           [67,26,20,68,2,62,12,20,95,63,94,39,63,8,40,91,66,49,94,21],\n",
    "           [24,55,58,5,66,73,99,26,97,17,78,78,96,83,14,88,34,89,63,72],\n",
    "           [21,36,23,9,75,0,76,44,20,45,35,14,0,61,33,97,34,31,33,95],\n",
    "           [78,17,53,28,22,75,31,67,15,94,3,80,4,62,16,14,9,53,56,92],\n",
    "           [16,39,5,42,96,35,31,47,55,58,88,24,0,17,54,24,36,29,85,57],\n",
    "           [86,56,0,48,35,71,89,7,5,44,44,37,44,60,21,58,51,54,17,58],\n",
    "           [19,80,81,68,5,94,47,69,28,73,92,13,86,52,17,77,4,89,55,40],\n",
    "           [4,52,8,83,97,35,99,16,7,97,57,32,16,26,26,79,33,27,98,66],\n",
    "           [88,36,68,87,57,62,20,72,3,46,33,67,46,55,12,32,63,93,53,69],\n",
    "           [4,42,16,73,38,25,39,11,24,94,72,18,8,46,29,32,40,62,76,36],\n",
    "           [20,69,36,41,72,30,23,88,34,62,99,69,82,67,59,85,74,4,36,16],\n",
    "           [20,73,35,29,78,31,90,1,74,31,49,71,48,86,81,16,23,57,5,54],\n",
    "           [1,70,54,71,83,54,54,69,16,92,33,48,61,43,52,1,89,19,67,48]]\n",
    "\n",
    "rawmax = 0\n",
    "colmax = 0\n",
    "leftmax = 0\n",
    "rightmax = 0\n",
    "\n",
    "for x in range(0,20):\n",
    "    for y in range(0,16):\n",
    "        if fretwork[x][y]*fretwork[x][y+1]*fretwork[x][y+2]*fretwork[x][y+3] > rawmax:\n",
    "            rawmax = fretwork[x][y]*fretwork[x][y+1]*fretwork[x][y+2]*fretwork[x][y+3]\n",
    "\n",
    "for x in range(0,16):\n",
    "    for y in range(0,20):\n",
    "        if fretwork[x][y]*fretwork[x+1][y]*fretwork[x+2][y]*fretwork[x+3][y] > colmax:\n",
    "            colmax = fretwork[x][y]*fretwork[x+1][y]*fretwork[x+2][y]*fretwork[x+3][y]\n",
    "\n",
    "for x in range(0,16):\n",
    "    for y in range(0,16):\n",
    "        if fretwork[x][y]*fretwork[x+1][y+1]*fretwork[x+2][y+2]*fretwork[x+3][y+3] > rightmax:\n",
    "            rightmax = fretwork[x][y]*fretwork[x+1][y+1]*fretwork[x+2][y+2]*fretwork[x+3][y+3]\n",
    "\n",
    "for x in range(0,16):\n",
    "    for y in range(19,3,-1):\n",
    "        if fretwork[x][y]*fretwork[x+1][y-1]*fretwork[x+2][y-2]*fretwork[x+3][y-3] > leftmax:\n",
    "            leftmax = fretwork[x][y]*fretwork[x+1][y-1]*fretwork[x+2][y-2]*fretwork[x+3][y-3]\n",
    "\n",
    "print max(rawmax,colmax,rightmax,leftmax)"
   ]
  },
  {
   "cell_type": "markdown",
   "metadata": {},
   "source": [
    "##10. 프로젝트 오일러12\n",
    "1부터 n까지의 자연수를 차례로 더하여 구해진 값을 삼각수라고 합니다.\n",
    "\n",
    "예를 들어 7번째 삼각수는 1 + 2 + 3 + 4 + 5 + 6 + 7 = 28이 됩니다.\n",
    "\n",
    "이런 식으로 삼각수를 구해 나가면 다음과 같습니다.\n",
    "\n",
    "1, 3, 6, 10, 15, 21, 28, 36, 45, 55, ...\n",
    "\n",
    "이 삼각수들의 약수를 구해봅시다.\n",
    "\n",
    " 1: 1\n",
    " \n",
    " 3: 1, 3\n",
    " \n",
    " 6: 1, 2, 3, 6\n",
    " \n",
    "10: 1, 2, 5, 10\n",
    "\n",
    "15: 1, 3, 5, 15\n",
    "\n",
    "21: 1, 3, 7, 21\n",
    "\n",
    "28: 1, 2, 4, 7, 14, 28 \n",
    "\n",
    "위에서 보듯이, 5개 이상의 약수를 갖는 첫번째 삼각수는 28입니다.\n",
    "\n",
    "그러면 500개 이상의 약수를 갖는 가장 작은 삼각수는 얼마입니까?\n"
   ]
  },
  {
   "cell_type": "code",
   "execution_count": 2,
   "metadata": {
    "collapsed": false
   },
   "outputs": [
    {
     "name": "stdout",
     "output_type": "stream",
     "text": [
      "73920\n"
     ]
    }
   ],
   "source": [
    "trinum = [1]\n",
    "\n",
    "end = 1\n",
    "num = 3\n",
    "index = 1\n",
    "while end == 1:\n",
    "    trinum.append(sum(range(1,num)))\n",
    "    divisor = 0\n",
    "    for x in range(1,trinum[index]+1):\n",
    "        if trinum[index]%x == 0:\n",
    "            divisor += 1\n",
    "    if divisor >= 100:\n",
    "        end = 0\n",
    "        print trinum[index]\n",
    "    else:\n",
    "        num += 1\n",
    "        index += 1\n"
   ]
  },
  {
   "cell_type": "markdown",
   "metadata": {},
   "source": [
    "if divisor >= 100: 부분에서 500을 넣으면 답이 나올 것 같으나 제 PC에서는 멈춰버립니다."
   ]
  },
  {
   "cell_type": "markdown",
   "metadata": {},
   "source": [
    "##11. 프로젝트 오일러 13\n",
    "\n",
    "아래에 50자리 숫자가 100개 있습니다. 이것을 모두 더한 값의 첫 10자리는 얼마입니까?\n",
    "\n",
    "37107287533902102798797998220837590246510135740250\n",
    "46376937677490009712648124896970078050417018260538\n",
    "74324986199524741059474233309513058123726617309629\n",
    "91942213363574161572522430563301811072406154908250\n",
    "23067588207539346171171980310421047513778063246676\n",
    "89261670696623633820136378418383684178734361726757\n",
    "28112879812849979408065481931592621691275889832738\n",
    "44274228917432520321923589422876796487670272189318\n",
    "47451445736001306439091167216856844588711603153276\n",
    "70386486105843025439939619828917593665686757934951\n",
    "62176457141856560629502157223196586755079324193331\n",
    "64906352462741904929101432445813822663347944758178\n",
    "92575867718337217661963751590579239728245598838407\n",
    "58203565325359399008402633568948830189458628227828\n",
    "80181199384826282014278194139940567587151170094390\n",
    "35398664372827112653829987240784473053190104293586\n",
    "86515506006295864861532075273371959191420517255829\n",
    "71693888707715466499115593487603532921714970056938\n",
    "54370070576826684624621495650076471787294438377604\n",
    "53282654108756828443191190634694037855217779295145\n",
    "36123272525000296071075082563815656710885258350721\n",
    "45876576172410976447339110607218265236877223636045\n",
    "17423706905851860660448207621209813287860733969412\n",
    "81142660418086830619328460811191061556940512689692\n",
    "51934325451728388641918047049293215058642563049483\n",
    "62467221648435076201727918039944693004732956340691\n",
    "15732444386908125794514089057706229429197107928209\n",
    "55037687525678773091862540744969844508330393682126\n",
    "18336384825330154686196124348767681297534375946515\n",
    "80386287592878490201521685554828717201219257766954\n",
    "78182833757993103614740356856449095527097864797581\n",
    "16726320100436897842553539920931837441497806860984\n",
    "48403098129077791799088218795327364475675590848030\n",
    "87086987551392711854517078544161852424320693150332\n",
    "59959406895756536782107074926966537676326235447210\n",
    "69793950679652694742597709739166693763042633987085\n",
    "41052684708299085211399427365734116182760315001271\n",
    "65378607361501080857009149939512557028198746004375\n",
    "35829035317434717326932123578154982629742552737307\n",
    "94953759765105305946966067683156574377167401875275\n",
    "88902802571733229619176668713819931811048770190271\n",
    "25267680276078003013678680992525463401061632866526\n",
    "36270218540497705585629946580636237993140746255962\n",
    "24074486908231174977792365466257246923322810917141\n",
    "91430288197103288597806669760892938638285025333403\n",
    "34413065578016127815921815005561868836468420090470\n",
    "23053081172816430487623791969842487255036638784583\n",
    "11487696932154902810424020138335124462181441773470\n",
    "63783299490636259666498587618221225225512486764533\n",
    "67720186971698544312419572409913959008952310058822\n",
    "95548255300263520781532296796249481641953868218774\n",
    "76085327132285723110424803456124867697064507995236\n",
    "37774242535411291684276865538926205024910326572967\n",
    "23701913275725675285653248258265463092207058596522\n",
    "29798860272258331913126375147341994889534765745501\n",
    "18495701454879288984856827726077713721403798879715\n",
    "38298203783031473527721580348144513491373226651381\n",
    "34829543829199918180278916522431027392251122869539\n",
    "40957953066405232632538044100059654939159879593635\n",
    "29746152185502371307642255121183693803580388584903\n",
    "41698116222072977186158236678424689157993532961922\n",
    "62467957194401269043877107275048102390895523597457\n",
    "23189706772547915061505504953922979530901129967519\n",
    "86188088225875314529584099251203829009407770775672\n",
    "11306739708304724483816533873502340845647058077308\n",
    "82959174767140363198008187129011875491310547126581\n",
    "97623331044818386269515456334926366572897563400500\n",
    "42846280183517070527831839425882145521227251250327\n",
    "55121603546981200581762165212827652751691296897789\n",
    "32238195734329339946437501907836945765883352399886\n",
    "75506164965184775180738168837861091527357929701337\n",
    "62177842752192623401942399639168044983993173312731\n",
    "32924185707147349566916674687634660915035914677504\n",
    "99518671430235219628894890102423325116913619626622\n",
    "73267460800591547471830798392868535206946944540724\n",
    "76841822524674417161514036427982273348055556214818\n",
    "97142617910342598647204516893989422179826088076852\n",
    "87783646182799346313767754307809363333018982642090\n",
    "10848802521674670883215120185883543223812876952786\n",
    "71329612474782464538636993009049310363619763878039\n",
    "62184073572399794223406235393808339651327408011116\n",
    "66627891981488087797941876876144230030984490851411\n",
    "60661826293682836764744779239180335110989069790714\n",
    "85786944089552990653640447425576083659976645795096\n",
    "66024396409905389607120198219976047599490197230297\n",
    "64913982680032973156037120041377903785566085089252\n",
    "16730939319872750275468906903707539413042652315011\n",
    "94809377245048795150954100921645863754710598436791\n",
    "78639167021187492431995700641917969777599028300699\n",
    "15368713711936614952811305876380278410754449733078\n",
    "40789923115535562561142322423255033685442488917353\n",
    "44889911501440648020369068063960672322193204149535\n",
    "41503128880339536053299340368006977710650566631954\n",
    "81234880673210146739058568557934581403627822703280\n",
    "82616570773948327592232845941706525094512325230608\n",
    "22918802058777319719839450180888072429661980811197\n",
    "77158542502016545090413245809786882778948721859617\n",
    "72107838435069186155435662884062257473692284509516\n",
    "20849603980134001723930671666823555245252804609722\n",
    "53503534226472524250874054075591789781264330331690"
   ]
  },
  {
   "cell_type": "code",
   "execution_count": 34,
   "metadata": {
    "collapsed": false,
    "scrolled": false
   },
   "outputs": [
    {
     "name": "stdout",
     "output_type": "stream",
     "text": [
      "5537376230\n"
     ]
    }
   ],
   "source": [
    "import math\n",
    "\n",
    "f = open('number.txt','r')\n",
    "\n",
    "number = f.readlines()\n",
    "\n",
    "longnum = []\n",
    "for x in range(0,len(number)):\n",
    "    longnum.append(long(number[x][0:50]))\n",
    "\n",
    "nsum = sum(longnum)\n",
    "numdigit = int(math.log10(nsum))+1\n",
    "front10 = nsum / pow(10,numdigit-10)\n",
    "\n",
    "f.close()\n",
    "print front10"
   ]
  },
  {
   "cell_type": "markdown",
   "metadata": {},
   "source": [
    "##12. 프로젝트 오일러 14\n",
    "양의 정수 n에 대하여, 다음과 같은 계산 과정을 반복하기로 합니다.\n",
    "\n",
    "n → n / 2  (n이 짝수일 때)\n",
    "n → 3 n + 1 (n이 홀수일 때)\n",
    "\n",
    "13에 대하여 위의 규칙을 적용해보면 아래처럼 10번의 과정을 통해 1이 됩니다.\n",
    "\n",
    "13 → 40 → 20 → 10 → 5 → 16 → 8 → 4 → 2 → 1\n",
    "\n",
    "아직 증명은 되지 않았지만, 이런 과정을 거치면 어떤 수로 시작해도 마지막에는 1로 끝나리라 생각됩니다. \n",
    "(역주: 이것은 콜라츠 추측 Collatz Conjecture이라고 하며, 이런 수들을 우박수 hailstone sequence라 부르기도 합니다)\n",
    "\n",
    "그러면, 백만(1,000,000) 이하의 수로 시작했을 때 1까지 도달하는데 가장 긴 과정을 거치는 숫자는 얼마입니까?\n",
    "\n",
    "참고: 계산 과정 도중에는 숫자가 백만을 넘어가도 괜찮습니다.\n"
   ]
  },
  {
   "cell_type": "code",
   "execution_count": 41,
   "metadata": {
    "collapsed": false
   },
   "outputs": [
    {
     "name": "stdout",
     "output_type": "stream",
     "text": [
      "837799 524\n"
     ]
    }
   ],
   "source": [
    "maxcnt = 0\n",
    "stone = 0\n",
    "for x in range(800000,1000000):\n",
    "    hail = x\n",
    "    cnt = 0\n",
    "    while hail > 1:\n",
    "        if hail%2 == 0:\n",
    "            hail /= 2\n",
    "            cnt += 1\n",
    "        else:\n",
    "            hail = hail*3 + 1\n",
    "            cnt += 1\n",
    "    if cnt > maxcnt:\n",
    "        maxcnt = cnt\n",
    "        stone = x\n",
    "        \n",
    "print stone, maxcnt\n"
   ]
  },
  {
   "cell_type": "markdown",
   "metadata": {},
   "source": [
    "##13. 프로젝트 오일러 15\n",
    "아래와 같은 2 × 2 격자의 왼쪽 위 모서리에서 출발하여 오른쪽 아래 모서리까지 도달하는 길은 모두 6가지가 있습니다 (거슬러 가지는 않기로 합니다).\n",
    "\n",
    "\n",
    "\n",
    "그러면 20 × 20 격자에는 모두 몇 개의 경로가 있습니까?\n"
   ]
  },
  {
   "cell_type": "code",
   "execution_count": 4,
   "metadata": {
    "collapsed": false
   },
   "outputs": [
    {
     "name": "stdout",
     "output_type": "stream",
     "text": [
      "137846528820\n"
     ]
    }
   ],
   "source": [
    "def dijkstra(n):\n",
    "    return combination(2*n,n)\n",
    "    \n",
    "def combination(a,b):\n",
    "    return myfact(a)/myfact(a-b)/myfact(b)    \n",
    "    \n",
    "def myfact(n):\n",
    "    if n == 0:\n",
    "        return 1\n",
    "    else:\n",
    "        return n*myfact(n-1)\n",
    "    \n",
    "fretworknum = 20\n",
    "print dijkstra(fretworknum)"
   ]
  },
  {
   "cell_type": "markdown",
   "metadata": {},
   "source": [
    "위 문제는 다익스트라 알고리즘에 적용시킬 수 있고 nXn 격자의 최단경로를 구하는 문제와 같다. nXn 격자의 최단경로의 개수는 2nCn 과 같으므로 위와같이 간단히 구할 수 있다."
   ]
  },
  {
   "cell_type": "markdown",
   "metadata": {},
   "source": [
    "##14. 이전 Assignment 3의 마지막 문제는 웹 URL로 지정된 웹페이지를 문자열로 가져와 모든 HTML 태그 및 CSS와 Javascript를 제외한 순수 텍스트를 얻어내고 그 안에 존재하는 단어를 추출하여 각 단어들에 대해 출현빈도를 사전형태({'world': 2, 'hello': 1, 'python': 1})로 저장하여 출력하는 것이었다. 이번에는 Assignment 3를 확장하여 다음과 같은 조건을 만족하도록 구현하시오.\n",
    "•1) 다음 사이트에서 제시되는 영어 불용어를 참고하여 이전 숙제에서 구성했던 단어 사전에서 영어 불용어들을 모두 제거하는 코드를 추가하시오.\n",
    "\n",
    "◾http://egloos.zum.com/wyb330/v/3029348\n",
    "\n",
    "◾영어 불용어: [ 'a', 'and', 'are', 'as', 'at', 'be', 'but', 'by', 'for', 'if', 'in', 'into', 'is', 'it', 'no', 'not', 'of', 'on', 'or', 's', 'such', 't', 'that', 'the', 'their', 'then', 'there', 'these', 'they', 'this', 'to', 'was', 'will', 'with']\n",
    "\n",
    "•2) 각 URL로 지정된 웹페이지의 HTML 소스를 파일로 저장하시오.\n",
    "\n",
    "◾URL이 http://URL 이라면 파일명은 URL.html 이다. \n",
    "\n",
    "◾예: URL이 http://www.cnn.com 이라면 파일명은 www.cnn.com.html 이다. \n",
    "\n",
    "•3) 단어의 출현빈도가 담긴 사전 객체를 위 HTML 소스 파일과 동일한 폴더에 파일로 저장하시오.\n",
    "\n",
    "◾파일입출력 (E-learning 13주차) 마지막에 학습한 pickle 모듈을 활용하시오. \n",
    "\n",
    "◾URL이 http://URL 이라면 사전 객체를 담고 있는 파일명은 URL.words.frequency 이다.\n",
    "\n",
    "◾예: URL이 http://www.cnn.com 이라면 파일명은 www.cnn.com.words.frequency 이다.\n",
    "\n",
    "•4) 최소 5개 이상의 영어 웹 사이트에 대한 HTML 소스 파일과 단어 출현빈도 파일을 저장하시오.\n",
    "\n",
    "◾즉, 총 10개의 파일을 동일한 폴더에 생성하시오.\n",
    "\n",
    "◾[주의] 영어 웹사이트 URL로만 5개 이상\n",
    "\n",
    "•5) 위 문제에서 저장한 모든 words.frequency 파일들을 객체로 다시 로드하여 본인이 저장하여 분석한 사이트들에서 가장 많이 출현한 단어 3개를 뽑아 제시하시오.\n",
    "\n",
    "◾반드시 pickle 모듈로 저장한 5개 이상의 words.frequency를 다시 5개 이상의 사전 객체로 로드 하는 코드가 추가되어야 함\n",
    "\n"
   ]
  },
  {
   "cell_type": "code",
   "execution_count": 16,
   "metadata": {
    "collapsed": false
   },
   "outputs": [
    {
     "name": "stdout",
     "output_type": "stream",
     "text": [
      "{'ieNum0ryieNumpreIndocumendocumenModeccheifiNNieNumieNum': 1, 'Killer': 2, 'dlgrdienrlbckgroundnonedlv2dldeign9': 1, 'Powered': 1, 'IE11PLUS': 2, 'requePh2Fvr': 1, 'ClueleNo': 1, 'min265pgeNmehomepge': 1, 'cldiblenew': 1, 'dlRoCookieVlmin52C14478186122902CdlSickyBuT2C14278113080002C12C13076300562C12C6357966062C12C5582322082C12C02C12C14578671512C12C17268830482C12C2433917212C12C10506028852C12C18103664782C12C1143239502C12C13791136902C12C1913786752C12C3763508802C12C4271917982C12C2622919262C12C3026350772C12C1436796902C12C153820892C12C45828772C12C16238624532C12C6153450032C12C14550594592C12C13070280232C12C11579037432C12C18187251932C12C12518066242C12C11232882372C12C12006401062C12C12801630032C12C7391687762C12C8212856712C12C10880165602C12C8782040792C12C58425062C12C15256010272C12C14748116452C12C5441637642C12C12459457382C12C2736066962C12C13804388312C12C1674665128vr': 1, 'ge': 1, 'gc': 2, 'glbLocTZCookieVer1vr': 1, 'go': 1, 'children': 1, 'ArryifdindexOf1prm0urlPr1fori0i': 1, 'wierTexconfigwieruTexdocUrlconfigurldocTileconfigilewierTexwierTexreplceiledocTilewierTexwierTexreplceurldocUrlnmericlehreolShreervicefcebookwiergooglepluemildeferCoun1emplewierwierSuurlurlviencodeURIComponenconfigwiervihhgencodeURIComponenconfigwierhhgexencodeURIComponenwierTexemilileencodeURIComponendocTileurlencodeURIComponendocUrldgiolhreemilemilUrlhphreolcomendmilolhre': 1, 'olheder': 2, 'jxCcheNumcv6vr': 1, 'relly': 1, 'ruck': 1, 'mod24x7lide6': 1, '0': 9, '2015nbp': 1, 'humb': 2, 'dlNewDeignruevr': 1, 'Now': 1, 'lehumbgmodpddingop26pximpornpddingboom13pximpornpgepor': 1, 'bnullifgbgmchrc': 1, 'dblApnIcidundefineddblApnIcidruereurnvr': 1, 'cgclNmevr': 1, 'mpid3': 1, 'evere': 1, 'recipe': 1, 'befonize11pxpoiionrelivefonweighboldleerpcing0color999pgeopic': 1, 'fvorie': 1, 'uoborderboom6px': 1, '498602': 1, 'P': 1, 'highpying': 1, 'SlidehowPly': 1, 'Former': 2, 'ifelfcmpignIdelfiHomepgeruehiieIHomepgefuncionvr': 1, 'cook': 1, 'wwwolcomwwwolcolcwminwelcomecreenolcomminwwelcomecreenolcomnminwelcomecreenolcomminnwelcomecreenolcomwbwelcomecreenolcomnbwelcomecreenolcomwelcomeolcomwwwwelcomecreenolcomfvoriebeolcomliveevenolcomliveolcom': 1, 'Where': 1, 'look': 3, 'videobuondiplynoneimpornpgefinnceol20': 1, 'eurlhpwwwimcompopupvr': 1, 'ArrydlImpdl1ruevr': 1, 'Reiler': 1, 'gun': 1, 'hederlogofilerprogidDXImgeTrnformMicroofAlphImgeLoderrchpporlolcdncomp5v12714clogoIEpng': 1, 'videobuondiplynoneimpornmedi': 1, 'Ge': 4, 'IE11': 1, 'IE10': 1, 'olfooererchbuonwidh106pxmedi': 1, 'hivr': 1, 'bill': 1, 'Mnger': 1, 'ArryrebuildUrlFuncLkfuncioncifprSripLinullprSripLilengh': 1, 'RegExpvideovideoidprSripLiLkimprefiimerebuildUrlFuncnew': 1, 'inerview': 2, '52000': 1, 'nbp': 1, 'ol20videonvmrginop37pxpgelifeyle': 1, 'Amnd\\xa1\\xaf': 1, 'cyber': 1, 'minwidh986pxol20': 1, '19': 1, 'minwidh768pxol20': 1, 'Smih': 1, 'Grb': 1, 'Word': 1, 'rough': 1, 'heing': 1, 'Bhroom': 1, 'even': 1, '0pxiVericlPgeol20': 1, '0bNeubUrlnewUrl1ifypeof': 1, 'Ingrm': 2, 'Pue': 2, 'fmily': 1, 'yVlpreInpriecirclegreycbckgroundizeplipx13vr': 1, '0urlPrdpliprmnew': 1, 'Dumbe': 1, 'Wihou': 1, 'Cruz': 1, 'Amendol': 1, 'ol20Syle': 1, 'new': 4, 'bemrginlef5pxmedi': 1, 'public': 1, 'Aronu': 1, 'dlRoCookieNmedlugRonvr': 1, 'Wellne': 1, 'olndloneerchquerywidh57': 1, 'grce': 1, 'dlSegSource11111111111111111111111111111111111111111vr': 1, 'oldier': 2, 'civilizion': 2, 'olhrepgece2015': 1, 'Mn': 1, 'heigh14pxpgeporol20': 1, 'here': 1, 'Plne': 1, 'ching': 1, '0ghrefnullghreflengh': 1, 'drem': 2, 'Fny': 1, 'ccounolvcvr': 1, 'My': 3, 'populr': 1, 'dlRoMx2400000vr': 1, 'medicl': 1, 'lidehowmodgmodmrginop30pximpornpgenew': 1, 'bu': 1, 'receive': 1, 'brce': 1, 'k': 1, 'ool': 1, 'imgwidhuoheighuorecenfeuremrgin0recipeofhedy': 1, 'idRdrCkiBNmolcomvr': 1, 'drw': 1, 'Jennifer': 2, 'ifurlubringurllengh1urllenghurlurlubring0urllengh1ihomepgeelfieHomepgeBehviorIdiHomePgeurlcchereurn': 1, 'Reuer': 1, 'MS': 1, '649': 1, 'weird': 1, 'dre': 1, 'honor': 1, 'ough': 1, 'Devil': 1, 'min265prop54porl265prop58265prop64grviy265prop66min5265prop12documenURL265prop54porlrymmhpPrefixMTMHPmmhpPrefixmmhpSuffixMTMHPmmhpSuffixccheryifMTMHPieIHomepgehomerMTMHPcmpignIdccheifypeof': 1, 'pcnmin5': 1, 'Wlker': 1, 'Top': 1, 'Aul': 1, 'wih': 5, 'DWTS': 1, 'Juin': 3, 'liopLevel': 5, 'revelion': 1, 'egmenvr': 1, 'moueleve': 1, 'Police': 1, 'olhedererchbuonwidh106pxol20': 1, 'mxwidh479pxpge2014review': 1, 'ouchendfuncionvr': 1, 'from': 3, 'dcllfuncionifhdeecdobjdpxcdclldobjreurn': 1, 'IcookiedlredveToCookieruecookieExpiry2460601000grdeIndex0minPgeOnlyruedibleIfExinnouncemennewbrexprompHOW': 1, 'LIVE': 1, 'olhederquerywidh407pxfonize20pxol20': 1, 'chief': 1, 'live': 2, 'Fc': 1, 'fer': 9, 'ip': 1, 'imelinericle': 2, 'olcrollcurinerchbuonminwidh124pxmedi': 1, 'noReponiveTouch': 6, 'more': 1, '2016': 4, 'Sr': 1, 'Smre': 1, 'heir': 1, 'Rule': 2, 'ol20Sylechooenewhedlinepddingop26pxpddingboom19pxiVericlPgeol20': 1, 'dlImpnew': 1, 'olfooerquerywidh120pxol20': 1, 'Kendll': 1, 'olfooerquerywidh65impornfonize20pxol20': 1, 'Time': 2, 'Ber': 1, 'dicing': 1, '1748950': 1, 'Se': 5, 'wve': 1, 'Chnge': 1, 'miundernding': 2, '0whilewbwreurn': 1, 'dlugruevr': 1, 'imelineribuionmrginop0pxpddingboom15pxmedi': 1, 'Video': 2, 'mo': 2, 'work': 1, 'inide': 3, 'hireplcereplcefuncion': 1, 'lredy': 1, 'deh': 1, 'vow': 1, 'del': 2, '4801986176813201': 1, 'onir': 1, 'v': 1, 'Conen': 1, 'Our': 1, 'ern': 1, 'my': 3, 'pevpromo': 2, 'Inc': 2, 'chnge': 1, 'mxwidh479pxol20': 1, 'Le': 1, 'dlIem13076300566357966065582322080145786715117268830482433917211050602885181036647811432395013791136901913786753763508804271917982622919263026350771436796901538208945828771623862453615345003145505945913070280231157903743181872519312518066241123288237120064010612801630037391687768212856711088016560878204079584250615256010271474811645544163764124594573827360669613804388311674665128vr': 1, 'Mil': 3, 'mgLnkpoiionrelivezindex2op0cobrndhmpg': 1, 'popcb3columnrm': 1, 'repor': 1, '2pxcobrndhmpg': 1, 'wor': 2, 'upGeing': 1, '100bckgroundmlinergrdienlef111': 1, 'lehumb': 3, 'dlCollecionIdvr': 1, 'Wch': 2, '265undefined265null265cmpignhomer265prop62videonovideoifypeof': 1, 'ciizen': 1, 'globlclreporuieolvcvr': 1, 'pngrid7vr': 1, 'HIV': 1, 'bckgroundurlhpporlolcdncomp5form6464xc5dbb66f31f417384dbbf7081951571pngpgepeedic00kd6q9W5png': 1, 'diblefmruevr': 1, 'reponive': 6, 'Edelmn': 1, '1': 2, 'mngeMn9869331526076893315260480320933152601024986900768754fi850202486RRRRrueifmnnullmnnonehmlAdWHmnRRRRjxfi850202486': 1, '100bckgroundlinergrdieno': 1, 'irrike': 1, 'comonu': 3, 'void': 1, '265undefined265nullvr': 1, 'Improve': 1, 'STD': 1, 'Lower': 1, 'mod24x7lide3': 1, 'meeor': 1, '140': 1, 'Shelon': 1, 'nonPeronlBucke89vr': 1, 'omoe': 1, 'recenroundbou': 2, 'Hive': 1, 'norepe': 2, 'fe': 1, 'Syrin': 1, 'Kelly': 3, 'Snpch': 1, 'heme': 1, 'plyliMod': 1, 'fn': 2, 'View': 1, 'vbclvidovervr': 1, 'All': 1, '10pxmrgin0': 1, 'eUrlhpporlolcdncomp5v12714': 1, 'Previou': 2, 'preidenil': 2, 'opic': 2, 'dlSourceBlcklivr': 1, 'Newleer': 1, 'dlugPlcemen1967vr': 1, 'cExpTime1200000vr': 1, 'lbCbrvideodeeplink': 1, 'egg': 1, 'wing': 1, 'homervr': 1, 'dloverridedflevr': 1, 'Blue': 1, 'collpeOffvr': 1, 'p23vr': 1, 'over': 3, 'find': 2, '9pxcobrndhmpg': 1, 'wkwrd': 3, 'Trigger': 1, 'X': 1, 'ifdocumendocumenMode8documengeElemenByTgNmehml0clNmeMSIE': 1, 'ciie': 1, 'PorlRighAdWrpperdchoiceremoveClrighdfeedbckremoveClrigho': 1, 'cker': 1, 'fir': 2, 'elevr': 1, 'olfooererchbuonwidh110pxol20': 1, 'dellenenbled': 6, 'overrideAdverIndexvr': 1, 'Leonid': 2, 'lo': 2, 'll': 4, 'AOL': 19, 'dfeedbckrigh0pgeopic': 1, 'lk': 2, 'lh': 1, 'li': 3, 'pck': 2, 'mdrwMod1pddinglef35pxhnvDrwerWr': 1, 'dlugGDKhpipigrvcdncomgdkgdk025breminjvr': 1, 'Spce': 1, '2015': 3, 'World': 2, 'idCookieRefrehBeforeExpiredTime1vr': 1, 'cndide': 2, 'CIA': 1, 'pce': 3, 'glbLocTZCookieExpSec43200': 1, 'imelineconen': 2, 'evening': 1, 'idEnbledruevr': 1, 'Bobby': 2, 'Mobile': 2, 'col4': 2, '1447816212312': 1, 'col3': 2, 'lunch': 1, 'e3ck0jb0ffuncionvr': 1, 'Rome': 2, 'p23molp23vr': 1, '0rnpren': 5, 'om1ifypeofpcnundefinedoindexOfpcn1oopcnmkm0koifcfhrefcindexOfm1cubring06olfhrefccindexOf1mjfprenNodebNexrcIdjnbNrebuildHrefWihIcidfunciondbvr': 1, 'now': 1, 'ifdocumendocumenMode11documengeElemenByTgNmehml0clNmeMSIE': 1, '4803986376833203': 1, 'videolighboxechfuncionidxobjvr': 1, 'fernoon': 1, 'eifdindexOf1reurn': 1, 'Simple': 1, 'hnvdrwconen': 3, 'lphopciy80opciy8poiionbolueop0lef0bckgroundcolorfffwidh539pxheigh36pxzindex1hnvDrwerWr': 1, 'drop': 2, 'Pri': 6, 'Kylie': 1, 'ruereurn': 1, 'hederlogoglobllink': 1, 'found': 1, 'lehumbgmodpddingboom13pximpornpgelifeyle': 1, 'logoTClick': 1, 'fmPlidvr': 1, 'Accoun': 2, 'olid': 2, 'dbbNwipefuncionbdcbdireciondifypeofcundefinediNNcc': 1, 'A': 1, 'en': 1, 'ol20': 6, 'ee': 1, 'nbcid': 1, '0windowlocionhrefmyLclUrlrdocumendominbrekeleiffqdnfqdnhpfqdndocumencookieckNmfqdnwindowlocionhreffqdnrdocumendominfuncion': 1, 'Thre': 1, 'qulifying': 1, 'egUerId0egSegIdMN3egColIduprod5dlfunciongvr': 1, 'Germny': 1, 'nbclickIE': 1, 'bodyonhmpgnpfuncionevenifevennpPoin': 1, 'Type': 1, 'ep': 1, 'whip': 1, 'More': 8, 'fmverion3vr': 1, '205044': 1, 'reveled': 2, 'ffordble': 1, 'ry': 1, 'inerplnery': 2, 'mobileModuleCollpe': 1, 're': 1, 'Job': 1, 'bli': 1, 'Joe': 1, '7': 2, 'bepgefoobllem': 1, 'ihomepgehiieSeHomepgefuncionurlifurlnulldocumenbodyeHomePgeurlelfconrucorMTMHPnew': 1, 'dSeMOAT1': 1, 'mxwidh767px': 1, 'h2mrgin24px': 1, 'Illured': 1, 'winer': 1, 'Anonymou': 2, 'ryTypekilodcche': 1, 'geing': 1, 'mxwidh985px': 1, 'mnhun': 1, 'Voer': 1, 'Houe': 1, 'orm': 1, 'lump': 1, 'lmo': 1, 'Tlk': 1, 'ISIS': 4, 'egGenerionUrlidjpvr': 1, 'ryifwindowdocumenredyfuncionfori0i': 1, 'olhrepdding0': 1, 'rcBnpddingop10pxcobrndhmpg': 1, 'Inernionl': 1, 'Sringprooyperimfuncionreurn': 1, 'oprigh': 1, 'Money': 1, 'refugee': 1, 'pzvr': 1, 'Sign': 2, 'hnvDefulHighlighLinkedTexody': 1, 'NASA': 3, 'Counry': 1, 'imeline': 2, 'humbiem': 2, 'pge': 6, 'Working': 1, 'objhicqgcreeElemencripn0pmpexjvcripkcifuncionreurn': 1, '0prSripLii1plibrekfori0i': 1, 'olcrollcurinqueryfonize16pxiVericlPgeol20': 1, 'iHovr': 1, 'olyfiler': 1, 'hould': 2, 'Quoe': 1, 'olhedererchbuonol20': 1, 'hredervice': 3, 'heigh14pxpgelifeyleol20': 1, 'lnidec1lnk1hovercolor008ee1imporndlv2dldeign9': 1, 'ifdocumendocumenMode10documengeElemenByTgNmehml0clNmeMSIE': 1, 'NY': 1, 'Holidy': 1, 'uocobrndhmpg': 1, 'croll': 1, 'gmchjkencodeURIComponennpggmchdclkgrebuildMehodNmggmchrufnc': 1, 'pomccheddfunciondifdifdiddobjdocumengeElemenByIddidifypeof': 1, '2': 1, 'mod24x7lide2': 1, 'pgepeedlzyLodImgeoverrideAribueFuncion': 7, 'Suck': 1, 'hundred': 1, 'friend': 1, 'erverMmddyyyy11172015vr': 1, '24yerold': 1, 'lidehowmodgmodmrginop30pximpornpgelifeyle': 1, 'pevpromomrginop36pxmrginboom19pxpgefinnce': 1, '17h': 1, 'hun': 1, 'ime': 3, 'Kornienko': 3, 'cboxOpionhml': 1, '265undefined265null265chnneluolporl265linkInernlFilerjvcripolcommpquecomdl265linkTrckVrprop20265pgeNmehomepge': 1, 'Denver': 1, 'Gurding': 1, 'copy': 1, 'lidehowmodgmodmrginop30pximpornpgefinnce': 1, 'November': 1, 'PDA': 2, 'upec': 1, '11': 1, 'hedingdiplynonevericlSlidehowborderopnonemrginop0vericlSlidehow': 1, 'Love': 1, '14': 1, 'dlgrdienlrbckgroundmozlinergrdienlef111': 1, 'double': 1, 'cobrndmin5': 6, 'lehumbgmodpddingboom13pximpornpgeenerinmen': 1, 'molcom': 1, 'egEnbledflevr': 1, 'r': 2, 'rce': 3, 'Enerinmen': 6, 'hpporlolcdncomp5form263194480515748d418d870e064d5f6be66png': 2, 'Miller': 2, 'Blck': 1, 'Allime': 1, 'fering': 1, 'ifdocumendocumenMode9documengeElemenByTgNmehml0clNmeMSIE': 1, 'Puin': 1, 'edocumencookiepliforvr': 1, 'Oliver': 1, 'hnvDrwerWr': 1, 'Floor': 1, 'gCvr': 1, 'rqServerNmewwwolcomcookieerrpmo1rr1114478162123110': 1, 'prk': 1, 'ol20Sylechooenewhedlinepddingop26pximpornpgelifeyle': 1, 'Mnge': 1, 'prmlodynmicledvr': 1, 'clim': 1, 'border': 1, 'Clorie': 1, 'forced': 1, 'ubchnnel': 6, 'Food': 1, 'gmodpdding23px': 1, 'mngeMn9869330986976893309869480320933098691024986900768754fi8502024876121rueifmnnullmnnonehmlAdWHmn6121exfi850202487': 1, 'mxwidh767pxvericlSlidehowmrginop48pxmedi': 1, 'SyleMePrey': 1, 'olhedererchbuonwidh120pxol20': 1, 'Seonl': 1, 'roue': 1, 'hiylebehviorurldefulhomepgehieHomePgehpwwwolcommmhpopinnewol': 1, 'olconenddClhre1ifypeofSHAREDSERVICESundefinedSHAREDSERVICESSHAREDSERVICEShredervicericlebodyopconfigSHAREDSERVICEShredervicericlebodyophrevr': 1, 'funcion': 2, 'jrvr': 1, 'Pul': 1, 'begin': 1, 'Off': 2, 'exec': 1, 'Flu': 1, 'price': 1, 'M': 1, '30pxhAdPuhdown': 1, 'wire': 1, 'modpgepeedic1JiBnMqyl6Sgif': 1, 'fce': 2, 'Thi': 1, 'mngeMn9869332049776893320497480320933204971024986900768754fi850202485LBLBrueifmnnullmnnonehmlAdWHmnLBLBjxcfi850202485': 1, 'device': 1, 'dloffe0vr': 1, 'The': 6, 'Peyon': 1, 'why': 1, 'police': 1, '4802986276823202': 5, 'Bridge': 1, '100bckgroundolinergrdienlef111': 1, 'Google': 1, 'don': 1, 'Sehwk': 1, 'opcolorop0111colorop100rnprenbckgroundwebkilinergrdienlef111': 1, 'cover': 1, 'gin': 1, 'enSrcBn': 1, 'uwdoifcwreurn': 1, 'hndle': 1, 'filing': 1, 'lomorehumbenerinmenpddingop26pximpornpgelifeyle': 1, 'cjb0cedeTimeoufuncioncinew': 1, 'logoHicidolcomlogorefrehol20': 1, 'Trending': 1, 'lfnvbgbckgroundnonemedi': 1, 'Privcy': 1, 'dobjobjecypeof': 1, 'prie': 1, 'Ilin': 2, 'ending': 1, 'imgwidh300pxheigh200pxpecilEven': 1, 'ever': 1, 'dlcurr1vr': 1, 'dynmicled': 1, 'chicken': 1, 'rouble': 1, 'Sneky': 1, 'divhnvdrw': 3, 'We': 1, 'Freh': 2, 'dlcvr': 1, 'winner': 1, 'hopeful': 1, 'French': 1, 'Wh': 1, 'only': 11, 'HuffPo': 5, 'rick': 1, 'enSrcBnwidh100poiionrelivecobrndhmpg': 1, 'employee': 1, '8': 1, 'Wy': 2, 'Chrlie': 2, 'hir': 2, '0vr': 1, '10': 2, 'Amid': 1, 'dd': 3, 'Thee': 1, 'Trick': 1, 'hnvDrwerWrpddingop0pnol20fixed': 1, 'eier': 1, 'plumme': 1, 'errori': 2, '11documengeElemenByTgNmehml0clNmeMSIE': 1, 'during': 2, 'clccounolvcvr': 1, 'ppddingboom2pxlidehowmrginboom6pxpopulrvideo5minminwrppergmodplid531267mnidpopulrvideo5minminplyliModmrginop21pxpgelifeyleol20': 1, 'Locion': 2, 'him': 1, 'edimenionwidh510heigh575vr': 1, 'ie8': 1, 'ghnv1': 5, 'Help': 2, 'erverDy3AOLrepCollAdflevr': 1, 'be': 4, 'h': 3, 'Vicor': 1, 'ipdolcompcmrcuolcomclnidolhpempleminggrid7cobrndmin5plid673187mnclifeylenewfeedeverydyhelhhl493367mncpornewihl58322levebckpixel668684mncnewfeedlifeyleolhl669346GreeingRule62771mobileviewlink667657mncnewfeedenerinmenol546664logo616545fooerlinkrefreh667636mncnewfeedol484235followolnew531191crollcurin670374neworkbnnerpromo673173mnclifeylenewfeedeverydyhelh1307630056dl11628891qnvmilquicknvglobl56266724x7feedmodule56266324x7feed667660mncnewfeedfinnceol673516logo657200grviycenerwell551857fooerbckoop670640hnv2013622832locl667592grviyrwd2673164mncpornewi667650mncnewfeedenerinmenolhl667633mncnewfeedolhl593164fooerlinkcopyrighonly673160pecileven2559357qnvquicknvmenuquicknvglobl667653mncnewfeedfinnceolhl673161pecilevenpromo2673521rendingnow667655mncnewfeedlifeyleol666689followolfooer500471weher531189qnvcrollcurinquicknvmilcrollcurinquicknv478072mnc438057ockmrkemrkev2673594pecilevennew2673595chooenewlinkpch559408uermenu1uxiegUerIdxiegSegIdcidegColId1upgrdeIEflebeconIcidPernnew': 1, 'pevpromomxheigh214px': 1, 'exploive': 1, 'Wlmr': 1, 'brcing': 1, 'Open': 1, 'Mrhwn': 1, 'Icon': 2, 'olfooererchbuonwidh120pxmedi': 1, 'pelling': 1, 'For': 1, 'Rheumoid': 1, 'refrehvr': 1, 'Tyon': 1, 'Fox': 1, '4805986576853205': 12, 'up': 2, '84px': 1, '265ueruhenicedfle265mmxgorueifp23indexOfmegeoverlyfireworkcone': 1, 'Obm': 1, 'Pek': 1, 'AOLundefinedAOLifArryprooypeindexOfArryprooypeindexOffuncionbvr': 1, 'olhederquerywidh218pxol20': 1, 'John': 1, 'lidehowmodgmodmrginop30pximpornpgeenerinmen': 1, 'geTidNoRdrBDmnLApndwwwolcomvr': 1, 'Rui': 1, 'Jindl': 2, 'dlugPeronlieEnbledflevr': 1, 'GOP': 1, 'recll': 1, '3': 2, 'minwidh480pxol20': 1, 'Sheen': 2, 'dlDeignVerion8vr': 1, '0eebconinueeeprmreurn': 1, 'bodyonclickhecchubmifuncionevr': 1, 'endure': 1, 'Weher': 6, 'ockmrke': 1, '0bb0ifMhbbInfiniyb0ifb': 1, 'holidy': 1, 'FOX': 1, 'ifbnullifenullepuhb0eleebifypeof': 1, 'dlv2dldeign8lerniveB': 1, 'wh': 1, '0mod24x7': 1, 'job': 2, 'upenion': 2, 'wr': 1, 'dSeInView0': 1, 'group': 1, 'debu': 1, '100filerprogidDXImgeTrnformMicroofgrdienrColorr111111endColorr00000000GrdienType1vericlSlidehowgmodborderboomnoneimpornpdding3px': 1, '1vr': 1, 'kep': 1, 'MkeThiMyHomepgevr': 1, 'dlPueOnTbOuflevr': 1, '0ffreplcehreurn': 1, 'llegedly': 1, 'urprie': 1, 'Whie': 1, 'cobrndmin5vr': 1, 'dlv2dldeign8lerniveDoffmoueener': 1, 'dchoicepddingop11pxwebkifullcreenwebkifullpgemedifuureroo': 1, 'Chronic': 1, 'Wildc': 1, 'neceiy': 2, 'dlRoCookieFlg1vr': 1, 'Sion': 1, 'Yer': 2, 'prequel': 1, 'ihomepgefleryifurlnullifelfieHomepgeBehviorIdiHomePgeurlihomepgerueele': 1, 'ck': 5, 'widh80heigh80crollingflecloeBuonflecolorboxcboxOpioneprevenDeful': 1, 'olfooererchbuonol20': 1, 'dbifdindexOficid': 1, 'cn': 2, 'hedline': 1, 'olfooerquerywidh350pxfonize20pxol20': 1, 'quoeform': 1, 'TMZ': 1, 'por': 2, 'Scoumer': 1, 'vfifmvvlhkeleuevfjrifoihojpkqypepqrcjpmej1qonlodqonredyechngefuncionifnqredySeqredySelodedqredySecompleecjn1ljpqonlodqonredyechngenulldremoveChildqdinerBeforeqdfirChildreurncjgeJSwindowAolAolAolgeJSdocumenbNcfgholcom': 1, 'Hed': 1, 'mxwidh479pxccnmrgin20px': 1, 'minwidh297px': 2, 'Join': 1, 'minwidh768px': 1, 'Broher': 1, 'enSrcpoiionbolueop16pxlef127pxcobrndhmpg': 1, 'Lifeyle': 6, 'IE9': 1, 'IE8': 1, 'b0b': 1, 'Dibee': 1, 'Bur': 2, 'Wr': 1, 'py': 1, 'IE7': 1, 'behvior': 2, 'cugh': 1, 'Your': 1, 'Reggie': 2, 'wy': 3, 'rewHrefifcurrHrefindexOfhp': 1, '500': 1, 'lzyLodJvcripvr': 1, 'idCookieTimeou259200vr': 1, 'rcBxdiplyblockwidh539pxborder2px': 1, 'life': 3, 'lived': 1, 'mch': 1, 'Splh': 1, 'gmodborderboomnoneiVericlPgeol20': 1, 'mege': 1, 'beconSwipeCllDelypreInvr': 1, 'dedly': 2, 'dbeconAOLheBeconTileporlheAOLDLGmificionConfiggrdePrey': 1, 'monh': 1, 'repond': 1, 'noneimpornmrginboom23pximpornmedi': 1, 'lomorehumbporpddingop27pximpornplyliModcrouelClpddingop41pximpornpddingboom36pximpornmnidporocilgmodborderboomnoneimpornpddingop16pximpornpgepor': 1, 'Unexpeced': 1, 'urlPr0eubr0elengh1elereurn': 1, 'lfuncion': 1, 'inmodrrdgmodmrginop30pxoljobmodulepddingop30pximpornborderboommedium': 1, 'And': 2, '16px': 1, 'ronu': 3, 'Cn': 2, 'developing': 1, 'oMergedJSCllbckvr': 1, 'Puck': 1, 'cvr': 1, 'dlMobileDurion1vr': 1, 'n': 3, 'will': 2, 'defin': 1, 'mxwidh985pxcobrndcnd': 1, 'bued': 1, 'Rockee': 1, 'Follow': 1, 'dSeOhATkvpopcb3columnrm': 1, 'urlhpporlolcdncomp5form58305x44d3f8865404d199dbfb1c4334eccpngpgepeedickECpolY2png': 1, 'gmodopAdmrginop0rendv2': 1, 'Cu': 1, 'Neherlnd': 1, 'pound': 1, '8pxbckgroundcolorfffcobrndhmpg': 1, 'ol20videonvmrginop36pxpgenew': 1, 'heigh14pxpgenewol20': 2, 'cnceled': 1, 'wke': 2, 'Finnce': 2, 'weemrginop0': 1, 'bou': 3, 'rin': 1, 'vr': 19, 'Wood': 1, 'DJIA': 1, 'rik': 1, 'in': 16, 'neworkbnnerpromo': 1, 'Anion': 2, 'You': 1, 'Ahm': 1, 'hbNgenid11rueflevr': 1, 'plyop44lef44widh64pxheigh64px': 1, 'hederlogoglobl': 1, 'SmpP': 1, 'olhrepge2015wrdeon': 1, 'ifelfieHomepgeBehviorIdiHomePgeurlihomepgerueele': 1, 'Deined': 1, 'honrSonronrionfuncionhvr': 1, 'idUrlhpcodwolcomxynchmpghp1iddefulvr': 1, 'mmhpPrefixvr': 1, 'INFORMED': 1, 'Sory': 1, 'remedie': 1, 'food': 1, 'indefiniely': 1, 'fleeleifbifiddEvenLieneriddEvenLienercrollffleiddEvenLienerreizeffleeleifichEvenichEvenoncrollfichEvenonreizefb1jpuhdreurn': 1, '1800bnnerpgerefrehincivemegehppigrviycomv2hnvplcemen1967fr60': 1, 'big': 3, 'Roing': 1, 'f0documengeElemenByTgNmeimgehpoolcdncomjxgifdclenghbgfuncioniifircircircirc0hhfford0d': 1, 'Sill': 1, 'bid': 1, 'cookieSickyBuerTimempdlSickyBuT1427811308000AOLmobileDibleAuoRoefleAOLbleDibleAuoRoefleAOLdekopDibleAuoRoefle': 1, 'week': 2, 'pecilevennewhederexligncenerborderboomnonefonweighinherifonize18pxpddingop5pxpecilEven': 1, 'conen': 1, 'mxwidh767pxpgeopic': 1, 'Bck': 2, 'I': 2, 'Meeor': 1, 'min265pfxIDcm265prop1min265prop2min265eVr14min5': 1, 'L': 1, '003': 1, 'onjmdnlenghpform0m': 1, 'IE10PLUS': 2, 'defe': 1, '004': 1, 'nnul': 1, 'YOU': 1, 'xVlpreInpriecirclegreycbckgroundizeplipx0xVlVlxVlpx': 1, 'IE': 1, 'mouelevedlimgdlv2dldeign8lerniveA': 1, 'Downlod': 1, 'kid': 1, 'howDLSourceTexflevr': 1, 'Richrdon': 1, 'off': 1, 'Agin': 1, 'plybuonoverdiplynonemedi': 1, 'voluminou': 1, 'i': 3, 'ourcedlfindpnourceexifourceTMZourceTIMEourceForuneremoveClcl': 1, 'olconenhre1': 3, 'Helh': 3, 'dimBeUrihpporlolcdncomdim3porlvr': 1, 'dlEnbleSourceIndicorflevr': 1, 'AolgeJShpoolcdncomoolbeconminjfuncionfori0i': 1, 'ARE': 1, 'Porfolio': 1, 'In': 4, 'MkeThiMyHomepge': 1, 'opdborderboomnone': 1, 'nb': 1, 'dric': 3, 'CDC': 1, 'mngeMn9869330986876893309868480320933098681024986768fi85020248830075rueifmnnullmnnonedSeTypeFhmlAdWHmn30075dSeType': 1, 'izingMehodcrop': 1, 'Fridy': 1, 'being': 2, 'rcBnbckgroundcolore81d82fonweighnormlpoiionboluerigh0op0colorfffpdding11px': 1, 'Mke': 1, 'dggeElemenByTgNmehed0gdocumenElemencefbhfuncion': 1, 'divulge': 1, 'Nigh': 1, 'dundefinedndelebNeplid1mnid1mpid1mlid1lnid1icid1ncid1did1nid1pnIcidGlb1viderie1viduoply1vidid1cid1rc1dclk1nifpnullplengh': 1, 'mdrwModwidh400pxpgbg': 1, 'Mucle': 1, 'Tip': 1, 'yer': 1, 'Journli': 2, 'devicenvigoruerAgenoLowerCeifdevicemchiphoneipodipddlv2dldeign8offmoueener': 1, 'Be': 1, 'bence': 1, 'quicknvgloblblequicknvlef10pxnnouncemennewbr': 1, 'eliminion': 1, 'Spor': 7, 'Bo': 2, 'rnprenimporncobrndcnd': 1, 'yVlpxpriecirclegreycbckgroundizeVlpriecirclepinkcbckgroundizeVlifgeDeviceSe': 1, 'ele': 4, 'expoe': 1, 'AOLimgeCrediAOLimgeCrediopiondefulSyleruewrpperfleeOffefleAOLimgeCredidibleForAOLheBeconEnbledrueAOLheBeconSelecorboncw': 1, 'Serche': 1, '4': 1, 'Forune': 1, 'Depie': 1, '5': 1, 'idchoiceepdiplynone': 1, 'By': 1, 'Know': 1, 'Pfrin': 1, 'On': 1, 'Sefni': 1, 'mmhpSuffixvr': 1, 'College': 1, 'Germn': 1, 'Sringcounfuncion': 1, 'wiver': 1, 'bow': 1, 'conceive': 1, 'know': 1, 'origUrlhp3A2F2Fwwwolcom2FSonrfuncionkvr': 1, 'Americ': 3, 'Ou': 1, 'overrideAdverflevr': 1, 'urkey': 1, 'Rouey': 1, 'Difference': 1, 'dlPlyBuonTexPlyvr': 1, 'imelineexcerp': 2, 'incree': 1, 'imelineribuionmrginop6pxdellenenbled': 1, 'dlEnbleSwipeflevr': 1, 'foMergedJSCllbckpuhfuncionifdocumencreeEvenvr': 1, 'Wler': 2, 'olndloneercherchbuonwidh37dellenenbled': 1, 'lehumbgmodpddingboom34pximpornpgenew': 1, 'gfclNmeeggmchz13id': 1, 'h2mrginboom12pxol20': 1, 'minwidh768pxpgeopic': 1, 'hung': 1, 'nvlngifypeofnvigorlngugeringreurnnvigorlngugeoLowerCeeleifypeofnvigoruerLngugeringreurnnvigoruerLngugeoLowerCeelereurn': 1, 'DegeTimecfcenullbEgdChEgdBhElzyLodIniEpgepeedlzyLodInifle': 1, 'chilengh': 1, 'creen': 11, 'MLB': 1, 'on': 13, 'Evcued': 1, 'mmhpBnner': 1, 'Overock': 1, 'Avoid': 1, 'limrginop24pxpddingop27pxccn': 1, 'Sui': 1, 'mdrwMod1': 1, 'vidIemDeilwidh200pxmedi': 1, 'revel': 4, 'lmmed': 1, 'Nex': 2, 'minwidh768pxpgeenerinmenol20': 1, 'New': 17, 'dldurion8000vr': 1, 'dbeconbonrr': 1, 'Funcion': 1, 'enSrc': 5, 'Life': 1, 'olhederolgloblheder': 1, 'hcker': 1, 'documencreeEvenHTMLEveniniEvenBeconLodedrueruedocumendipchEvenbNexrcIdfuncionfdvr': 1, 'for': 11, 'Mel': 1, 'hower': 1, 'imgdiplynoneimporniVericlPgeol20': 1, 'gve': 1, 'Bieber': 2, 'perfec': 1, 'gvr': 1, 'brbie': 1, 'b2b2b2pdding8px': 1, 'Ticke': 1, 'Reiree': 1, 'Are': 1, 'bd': 2, 'olhederquerywidh260pximpornfonize20pxol20': 1, 'Term': 1, 'fmlodynmicledfmvr': 1, 'elfhihiiHomepgeflehimmhpUrlhpwwwolcomhicmpignIdhimmhpPrefixhomehimmhpSuffixhphimmhpPrefixhomehimmhpSuffixhphiieHomepgeBehviorIddocumenbodyhiconrucorfuncionelfieHomepgeBehviorIdylebehviorurldefulhomepgeelfiHomepgeelfieIHomepgeifelfiHomepgeelfcmpignIdhomeieele': 1, 'ccep': 1, '300': 1, 'Up': 2, 'lidehowmodgmodmrginop30pximpornmnidnewocilgmodborderboomnoneimpornpddingop6pximpornccnmrgin0brighSpopdding0mrgin21px': 1, 'rue': 1, 'zombie': 1, 'Knick': 2, 'vidcnovrdvr': 1, 'ribue': 1, 'middrw': 3, '0px': 3, 'by': 3, '24pxpgeopic': 1, 'Wolfgng': 1, 'Sco': 3, 'ol': 1, 'world': 1, 'AP': 1, 'of': 16, 'hereYouve': 1, 'ockquoeinpuwidh66ol20': 1, 'o': 29, 'Milk': 1, 'chnnel': 6, 'vclodynmicledvideoconfigvr': 1, '8px': 1, 'dlPueBuonTexPuevr': 1, 'pgeopic': 1, '0bNedclk11ifelelenghwhilelmelhmindexOfmmubring0hmubrh1ifnindexOfm01nm0bNem0m11ifm0mchincidgnullvr': 1, 'Theroux': 2, 'ou': 3, '4807986776873207': 2, 'dlv2onmoueup': 1, 'uppor': 1, 'Exercie': 2, 'dlSlideCounDivider': 1, 'drmic': 1, 'vlue': 1, 'bbNgepnIcidGlbrueruefleifhbevNdHrefghrefifypeofbeconIcidPernundefinedreurnifevNdHrefmchbeconIcidPernreurnmpbNgeemplecobbNgecobrndmidbNgemnid1lidbNgelnid1pidbNgeplid1newIcidPrmicidencodeURIComponenmpcobmidlidpidnewHrefbNrebuildHrefWihIcidghrefnewIcidPrmghrefnewHref': 1, 'brehking': 1, 'Cup': 1, 'h3': 1, 'ifypeof': 2, 'lomorehumbnewpddingop26pximpornpgeenerinmen': 1, 'AFC': 1, 'down': 1, '0ruFuncrebuildUrlFuncmehNmnewUrlruFuncghrefifnewUrlnullnewUrllengh': 1, 'e6e6e6ccn': 1, 'cloed': 1, 'Reerved': 1, 'dlcopy': 1, 'Buine': 3, 'your': 3, 'Week': 1, 'mifire': 1, 'mke': 3, 'plybckgroundrnpren': 1, 'preidency': 1, '0impornvericlSlidehow': 1, 'bluhing': 1, 'dlugPgeNmevr': 1, 'dwrp': 1, 'ifdocumendocumenMode7documengeElemenByTgNmehml0clNmeMSIE': 1, 'DilyFinnce': 1, 'Republicn': 1, 'Homepge': 1, 'hiNiled': 1, 'hem': 2, 'livid': 1, 'pconinSlidehowechfuncionifhichildrenlengh': 1, 'plyliModcrouelCl': 2, 'Lynch': 1, 'urlelfmmhpUrlvr': 1, 'dlreumeDurion2000vr': 1, 'dlol41vr': 1, 'Moynhn': 1, 'becoming': 2, 'Feedbck': 2, 'mkeover': 1, 'dmge': 1, 'mrkdown': 1, 'dSeAdURLdlodv7hml': 1, 'NASDAQ': 1, 'hi': 4, 'MAKERS': 1, 'Fi': 1, 'mod24x7lide5': 1, 'line': 1, 'Quiz': 1, 'deployed': 2, 'he': 20, 'hnvDrwerWrmrginboom2pxwebkifullcreenwebkifullpgemedifuureroo': 1, 'ubpr': 1, 'Tel': 1, 'ke': 1, 'Tuedy': 2, 'Jeff': 1, 'egCookieFormVerion3vr': 1, 'dmi': 1, 'Reynold': 3, 'olhedererchbuonwidh102pxol20': 1, 'rrerchnmrginboom7px': 1, 'benefi': 1, 'wipeviewcivelenghdldlv2': 1, 'ul': 2, 'Supiciou': 1, 'CloerKilling': 1, 'dldlv2ifdlv2': 1, 'Suffer': 1, 'windowdpcmwindowdpcmrckwindowdpcmrckrecordImprfuncionb': 1, 'hiory': 1, '150': 1, 'Righ': 1, 'erverHour22vr': 1, 'Porche': 1, 'USA': 1, 'lrming': 1, 'Slidehow': 1, 'Trooper': 1, 'Hebdo': 1, '60dy': 1, 'dlugPeronlieflevr': 1, 'evidence': 1, 'How': 2, 'Mikhil': 3, 'hppie': 1, 'Locl': 2, 'Th': 1, 'errorim': 2, '20': 1, 'Acro': 1, 'righ111': 1, 'bdKeep': 1, 'mod24x7lide1': 1, 'Everydy': 1, 'remrk': 1, 'imgwidh97pxidchoiceepdiplynonepriefgdchoicediplynonedchoicediplynonedivfeedbckpddingrigh8pxbnnerceneredpromooverflowhiddenlfnvwr': 1, 'Fcebook': 2, 'no': 2, 'enbleCSBeconGlbruevr': 1, 'TT': 1, 'iAlmo': 1, 'nd': 24, '41': 1, 'gre': 1, 'nnounced': 1, 'Dncing': 1, 'pecilEven': 2, 'hre': 5, 'you': 2, 'IEieNum': 1, 'heigh14pxpgefinnceol20': 1, 'Penger': 1, 'Twier': 2, 'mngeMn9867684809342646132093426461480320fi85020248932050rueifmnnullmnnonehmlAdWHmn32050ffi850202489': 1, 'videoPlyli': 1, 'Refugee': 1, 'ecMruevr': 1, 'morelinklineheigh20pxol20': 1, 'Arhrii': 1, 'Shower': 1, 'Pelicn': 1, 'Look': 1, 'Mddon': 1, 'mod24x7lide7': 1, 'Abou': 3, 'A1C': 1, 'mod24x7lide4': 1, 'CNN': 2, 'queion': 1, 'cluilfindClhiincidvr': 1, 'Chilling': 1, 'Hrvrd': 1, 'urpriingly': 1, 'e': 1, 'Ad': 2, 'Hedline': 1, 'olhederquerywidh374pxol20': 1, '1209600': 1, 'eon': 1, 'mod24x7lide8': 1, 'Wih': 2, 'currHrefobjrhrefvr': 1, 'wipeviewciveifclvr': 1, 'remin': 1, 'Objeccldibledlfwdruecldiblecrollcurinhowruecldibledlpueruecldibledlplyruecldiblemilpreviewruecldibledlbwdruecldibleomhnvruevr': 1, 'mgLnkwidh974pxmrgin0': 1, 'Bnier': 1, 'chromeOneClickcurorpoiner': 1, '100bckgroundwebkigrdienlinerlef': 1}\n"
     ]
    }
   ],
   "source": [
    "import string\n",
    "import pickle\n",
    "\n",
    "f = open('www.aol.com.html.txt','r')\n",
    "source = f.read()\n",
    "\n",
    "string1 = ''\n",
    "string2 = ''\n",
    "string3 = ''\n",
    "string4 = ''\n",
    "\n",
    "notuse = [ 'a', 'and', 'are', 'as', 'at', 'be', 'but', 'by', 'for',\n",
    "          'if', 'in', 'into', 'is', 'it', 'no', 'not', 'of', 'on', 'or',\n",
    "          's', 'such', 't', 'that', 'the', 'their', 'then', 'there', \n",
    "          'these', 'they', 'this', 'to', 'was', 'will', 'with']\n",
    "l = []\n",
    "r = []\n",
    "k = []\n",
    "p = []\n",
    "\n",
    "for line in source.splitlines():\n",
    "    line = line.lstrip()\n",
    "    for word in line:\n",
    "        if word == '<':\n",
    "            string1 += '\\n'\n",
    "        string1 += word\n",
    "        if word == '>':\n",
    "            string1 += '\\n'\n",
    "            \n",
    "for line in string1.splitlines():\n",
    "    line = line.lstrip()\n",
    "    for word in line:\n",
    "        string2 += word\n",
    "    l.append(string2)\n",
    "    string2 = ''\n",
    "\n",
    "for x in range(0,len(l)):\n",
    "    if l[x] != '':\n",
    "        r.append(l[x])\n",
    "\n",
    "for x in range(0,len(r)):\n",
    "    if (r[x][0] == '<') or (r[x][0] == '/') or (r[x][0] == '-'):\n",
    "        r[x] = ''\n",
    "        \n",
    "for x in range(0,len(r)):\n",
    "    if r[x] != '':\n",
    "        k.append(r[x])\n",
    "        \n",
    "for x in range(0,len(k)):\n",
    "    string3 += k[x]\n",
    "    string3 += ' '\n",
    "\n",
    "\n",
    "limit = len(string3)\n",
    "\n",
    "x = 0\n",
    "\n",
    "while x<limit:\n",
    "    for y in range(0,len(string.punctuation)):\n",
    "        if string3[x] == string.punctuation[y]:\n",
    "            string3 = string3.replace(string3[x],'')\n",
    "            limit = len(string3)\n",
    "    for y in range(0,len(notuse)):\n",
    "        if string3[x] == notuse[y]:\n",
    "            string3 = string3.replace(string3[x],'')\n",
    "            limit = len(string3)\n",
    "    x += 1\n",
    "    \n",
    "p = string3.split()\n",
    "words = {}\n",
    "frequency = {}\n",
    "\n",
    "for i in p:\n",
    "    if not i in words.keys():\n",
    "        words[i]=1\n",
    "    else:\n",
    "        words[i]=words[i]+1\n",
    "        \n",
    "format = \"%s : %d\"\n",
    "  \n",
    "for i in words:\n",
    "    frequency[i] = words[i]\n",
    "    \n",
    "print frequency\n",
    "f.close()\n",
    "save = open('www.aol.com.words.frequency.txt','w')\n",
    "pickle.dump(frequency,save)\n",
    "save.close()"
   ]
  },
  {
   "cell_type": "code",
   "execution_count": 18,
   "metadata": {
    "collapsed": false
   },
   "outputs": [
    {
     "name": "stdout",
     "output_type": "stream",
     "text": [
      "{'gown': 1, 'Whingon': 2, 'pleenlyouuri20151012rchiecurewhruinpornellubouruinndpornindexhmlhedlineWh': 1, 'mny': 1, 'Arbic': 3, 'Chow': 2, 'people': 4, 'onechild': 1, 'vill': 1, 'ge': 3, 'globl': 1, 'lyouurivideoworld20151117frnceruiuniedeepupckginiibremcgurkinvmnpourcnnhedlineUS': 1, 'frion': 1, 'urlcdnopimizelycomj128727546jCNNOubrinVideoKPISrc': 1, 'conroveril': 1, 'exenive': 1, 'creed': 1, 'plce': 2, 'Feure': 4, 're': 9, 'icecphumbnilhpi2cdnurnercomcnnnexdme151113133013yoroiceee1mll11jpgduriondecripionlyouiconTypeglleryuri20151109pornnkournikovennipormrkeingponorhipindexhmlhedlineHow': 1, 'documen': 1, 'migh': 1, 'young': 1, 'geAirporDirporuerviceHohpervicefgovCNNBnnerBrekpoin': 1, 'former': 1, 'More\\xa1\\xa6': 2, '0': 8, 'Chriine': 1, 'c1451080CNNCNNXSremUrl': 1, 'overnighlyouiconTypevideouri20151112hoelgllerymlyirinforereorindexhmlhedline12': 1, 'Privcy': 3, 'pper': 2, 'include': 2, 'ConenmegeTexWe': 1, '23mch': 1, 'very': 1, 'could': 3, 'browe': 1, 'fvorie': 2, 'voerhumbnilhpi2cdnurnercomcnnnexdme151114144356donldrumpnovember132015mll11jpgduriondecripionlyouuri20151116helhlkingokidrgicevendviceprenindexhmlhedlineHow': 1, 'nion': 1, 'viul': 2, 'rueenbleZoneOubrin': 1, 'feedbck': 1, 'ciySerchweherciySerchenbleInHederrueenbleInFooerruegeForecwehergeForecerviceCiySerchHohpwehercnncomerviceForecHohpwehercnncomoredLocionAmoun6CNNZone': 1, 'dekopSSID': 1, 'prod': 1, 'prize': 1, 'heigh234': 1, 'die': 2, 'cme': 1, 'gun': 2, 'jde': 2, 'NEEDLES': 1, 'moreu003c': 1, 'unuul': 1, 'windowediiondTrge': 1, 'leephumbnilhpi2cdnurnercomcnnnexdme15102318135803cnnphooyrinchildreneemll11jpgduriondecripionWhen': 1, 'foobll': 2, 'round': 3, 'Turkey': 1, 'Screw': 2, 'CNNconenModel': 1, 'Novk': 1, 'cnnmobileweblinkg2CNNAirporDelyConfig': 1, 'informion': 1, 'inerview': 1, 'bleeding': 1, 'ued': 1, 'climed': 2, 'everhumbnilhpi2cdnurnercomcnnnexdme151117102052crgenfeivlprofilemll11jpgduriondecripionlyouuri20151117foodnddrinkingporeling100yerindexhmlhedlineWorld': 1, 'relxing': 1, 'Should': 1, 'Projec': 1, 'mznkey3288': 1, 'hrehold640': 1, 'flowerhumbnilhpi2cdnurnercomcnnnexdme151117161328fherexplinprierrorckoyoungonorig00000000mll11jpgdurion0103decripionA': 1, 'croe': 1, 'ediion': 4, 'inconvenien': 2, 'Red': 1, 'blue': 2, 'Inl': 1, 'communice': 1, 'enbleGlleryAd': 1, 'u003crong': 3, 'Generl': 1, 'Pul': 1, 'fmily': 1, 'cell': 2, 'womn': 4, 'Link': 1, 'nex': 3, 'Lubu003c': 1, 'errori': 4, 'exhued': 1, 'cn': 1, 'public': 1, 'meex': 2, 'CNNcom': 2, 'cherlyouuri20151005middleeyzidiwomenuicideiniicpiviyindexhmlhedlineWomen': 1, 'Wennmn': 1, 'degree': 1, 'oldier': 1, 'Freedom': 1, 'never': 1, 'rerehumbnilhpi2cdnurnercomcnnnexdme151112120511mlyirinforereordilngkwimll11jpgduriondecripionlyouiconTypeglleryuri20151112opiniongllerynowleoprdindexhmlhedlineGloomy': 1, 'here': 2, 'Mu': 2, 'Bre': 1, 'c1351000': 1, '2015humbnilhpi2cdnurnercomcnnnexdme151112172906rudeucbinemll11jpgduriondecripionlyouuri20151116opinioncloingmigrionrouewonoperrorimindexhmlhedlineMigrn': 1, 'pgeTophedlineuhorhowNmeiAricleVideoCollecionflepublihDe20151118T030110ZpgeBrndingdefulbrndingconenpgedefulbrndingconenzonedefulbrndingconenconinerdefuldefiningmomenbrndingconencrd': 1, 'Mx': 1, 'Thurdy': 1, 'ricleLiuri20151117europegermnyneherlndoccercnceledindexhmlhedlineu003crong': 1, 'cover': 1, 'mrrigehumbnilhpi2cdnurnercomcnnnexdme15080417115325elfie0805mll11jpgduriondecripionIrelnd': 1, '30': 1, 'ISIShumbnilhpi2cdnurnercomcnnnexdme15111212445701rump1112mll11jpgduriondecripionlyouuri20151113frickenymodngerouplceobepregnnindexhmlhedlineMo': 1, 'bou': 9, 'experience': 2, 'Your': 1, 'Mjoli': 1, 'myery': 1, 'pled': 2, 'enerinmenzonedIddrecbf02ouBrinIdAR38helhzonedIddrecf01ouBrinIdSF8livingzonedIddrecf01ouBrinIdSF9poliiczonedIddrecf01ouBrinIdSF6echzonedIddrecf01ouBrinIdSF7rvelzonedIddrecf01ouBrinIdSF10uzonedIddrecf01ouBrinIdSF4worldzonedIddrecf01ouBrinIdSF5CNNTripAdvior': 1, 'upeced': 1, 'hihumbnilhpi2cdnurnercomcnnnexdme151026153844rhyfhion9mll11jpgduriondecripionAn': 1, 'inere': 1, 'Ediion': 2, 'meling': 1, '8766314API': 1, 'unil': 1, 'Wlker': 2, 'win': 1, 'vii': 2, 'piloderBeURLFULLPATHhpwwwcnncomelemenwidgevideovideopipiloderBeURLelemenwidgevideovideopipiloderBeURLLoclhploclhocnncom3000buildpiverionlecollecionplyNexVideoTimeou1500goFreePreviewdobeEnvironmenprodpenConexprev10endSlecTexSign': 1, 'wih': 9, 'hree': 3, 'href': 1, 'Nigerin': 1, 'fuure': 2, 'brower': 2, 'hprfficoubrincomneworkrckpxldvid814cionviewCNNPuhAlerConfig': 1, 'Feivl': 1, 'Europe': 5, 'uphumbnilhpi2cdnurnercomcnnnexdme151115215537primnhunlhbdelmhrlowlklv00001801mll11jpgduriondecripionlyouurivideoworld20151116prickwomnhngingfromwindowledgecooperdnccnnhedlineu003crong': 1, 'from': 12, 'Explorer': 1, 'would': 1, 'decribe': 1, 'Kore': 1, 'peri': 2, 'everhumbnilhpi2cdnurnercomcnnnexdme151116113726fcernplnplihrdionmll11jpgduriondecripionlyouuri20151113rvelluxuryrvel2016indexhmlhedline10': 1, 'Jn': 2, 'hbihumbnilhpi2cdnurnercomcnnnexdme15103012262505nowleoprdmll11jpgduriondecripionlyouiconTypeglleryuri20151110uoglleryfmoumoviecrindexhmlhedlineHoly': 1, 'by': 4, 'cooperionhumbnilhpi2cdnurnercomcnnnexdme150929145850mexicoobmpuin2012mll11jpgduriondecripionlyouuri20151113opinionbergeniijihdijohnindexhmlhedlineEnd': 1, 'live': 2, 'bike': 1, 'fer': 10, 'weher': 2, 'enilemenSingleon': 1, 'vehicle': 1, 'bu': 2, 'preview': 2, 'E': 2, 'hrefhpfoodporndilycom': 1, 'more': 4, 'deigner': 2, 'ProviderroubleShooingTexIf': 2, 'OS': 1, 'heir': 4, 'Lizhu': 1, 'ook': 1, 'clue': 3, 'wching': 2, 'Abdi': 1, 'downing': 1, 'everywhere': 1, 'deigned': 2, 'ecpehumbnilhpi2cdnurnercomcnnnexdme151116204555prickwomnhngingfromwindowledgecooperdnc00002405mll11jpgdurion0212decripionCNN': 1, 'known': 1, 'Fridyu003c': 2, 'Se': 3, 'women': 1, 'me': 2, 'religh': 1, 'flevrqpuhid': 1, 'word': 2, 'rueCNNFeed': 1, 'phumbnilhpi2cdnurnercomcnnnexdme151013174525nkepmll11jpgduriondecripionlyouuri20151116fhiondverhchngedheworldindexhmlhedlineLook': 1, 'nvigorppVerionindexOfWindow': 1, 'c125920': 1, 'mo': 4, 'work': 1, 'mh': 1, 'deh': 3, 'yer': 1, 'inperienCTexExperienceemppTempPCNN10minmuedPlyerrTime0opInervl30opTime0imeZoneGMTembedLinkclipbordOperionSWFhpicdnurnercomcnnvideoeCNNVideoClipbordCopywfbuonImgecdnephbuildeembedvideobuonpngimgeBuonXOffe0imgeBuonYOffe3embedLinkPernu003cifrme': 1, 'Video': 5, 'mp': 3, 'Money': 2, 'growing': 1, 'Meroje': 1, 'ded': 3, 'dimond': 5, 'phoo': 3, 'Inc': 1, 'Plce': 1, 'give': 4, 'mhemicl': 1, 'CAR': 2, 'repor': 2, 'November': 1, 'Sundy': 1, 'o': 62, 'Wch': 2, 'Policy': 2, 'erning': 1, 'mel': 1, 'eRefDomwin': 1, 'rueenbleViulRevenueVideo': 1, 'reponible': 1, 'cljruemodl': 1, 'hrehold1200dibleHoverThrehold1CNNBylineImge': 1, 'end': 1, 'HIV': 1, 'Who': 1, 'Moul': 1, '1': 1, 'how': 5, 'Fce': 2, 'env': 1, 'worldhumbnilhpi2cdnurnercomcnnnexdme151110094950kee2mll11jpgduriondecripionlyouuri20151029inorhkoreunforcedlborovereindexhmlhedlineNorh': 1, 'eeh': 1, 'Prophecy': 1, 'Abdelm': 1, 'errorhumbnilhpi2cdnurnercomcnnnexdme150806193341climigrnmll11jpgduriondecripionlyouuri20151113opinionkennedyyrivienmindexhmlhedlineSyri': 1, 'Bmobile': 1, 'fr': 2, 'coninuing': 1, 'uing': 2, 'youve': 1, 'Serviceu003c': 1, 'xdocumen': 1, 'imge': 1, 'rueenbleAmzonVideoAd': 1, 'ruh': 2, 'Impc': 1, 'fc': 1, 'widh416': 1, 'Pregnn': 2, 'Policyu003c': 1, 'heme': 1, 'fn': 3, 'upechumbnilhpi2cdnurnercomcnnnexdme15111615283207prickmnhunmll11jpgduriondecripionAuhoriie': 1, 'All': 3, 'Frnce': 4, 'morphine': 1, 'vicim': 2, 'rueenbleSfriPuhAler': 1, 'Mexico': 1, 'heighened': 1, 'ISIShumbnilhpi2cdnurnercomcnnnexdme150226160941leddnciuojihdijohnunmked00000000mll11jpgduriondecripionlyouurivideoworld20151116prickwomnhngingfromwindowledgecooperdnccnnhedlinePregnn': 1, 'reporlyouiconTypevideouri20151116worldprickyrinrefugeebcklhindexhmlhedlineUS': 1, 'yielding': 1, 'frmeborder0': 1, 'Middle': 2, 'Englnd': 1, 'beforehumbnilhpi2cdnurnercomcnnnexdme151013141121dronegrmchriheredeemermll11jpgduriondecripionlyouuri20151116opinionwldmnprirumpiowvoerindexhmlhedlineI': 1, 'uindexOfndroid': 1, 'Greece': 1, 'houehold': 1, 'op': 1, '15yerold': 1, 'mgicl': 1, 'phoogrpher': 4, 'dcreeElemenx': 1, 'ISIShumbnilhpi2cdnurnercomcnnnexdme150318083603cnneepkgbrownpmeljihdijohnprofile00002425mll11jpgduriondecripionlyouuri20151113opinionodomdiveriyilllckingconferenceindexhmlhedlineTrudeu': 1, 'roublehooing': 2, 'over': 1, 'Europehumbnilhpi2cdnurnercomcnnnexdme150226180905origjihdijohnbehindhemk00000403mll11jpgduriondecripionlyouuri20151117opinioniinomilirynwerponwlhindexhmlhedlineThe': 1, 'hrefhpwwwgillinlubcom': 1, 'hrrowing': 2, 'Hrm': 1, 'ended': 2, 'including': 1, 'decy': 1, '129': 1, 'ciie': 1, 'hock': 2, 'Sheen': 2, 'before': 1, '0ymchkPlymchkPldocumenwindow': 1, 'CNNevenTimer': 1, 'le': 4, 'group': 1, 'verion': 1, 'Schedule': 2, 'll': 3, 'lm': 1, 'bcklh': 1, 'rgedy': 1, 'li': 1, 'OK': 2, 'feel': 1, 'window': 2, 'enbleForCrouelrueenbleForImgeruehrehold300CNNFeure': 1, 'ProvidermegeTexKeep': 2, 'lbelmllminWidh0lbellrgeminWidh768': 1, '2015': 3, 'World': 7, 'Jpn': 1, 'collborion': 2, 'dollr': 1, 'effor': 1, 'onceinlifeime': 1, 'good': 1, 'brrel': 2, 'Tiwnee': 1, 'food': 1, 'Arw': 1, 'upid': 1, 'piEndpoinhpmilcrcnncompiv1': 1, '84yerold': 1, 'Lomu': 1, 'compound': 1, 'jdeie': 2, 'now': 4, 'Erh': 1, 'depic': 2, 'Breking': 2, 'inernionloUpperCeho': 1, 'wihou': 2, 'Hrdion': 1, 'fmou': 1, 'even': 1, 'hrefwwwcnncomhelpcnngoroublehooinghml': 2, 'Pri': 14, 'l': 2, 'Why': 1, 'mgzine': 1, 'fher': 1, 'debug': 1, 'found': 2, 'CNNSocilConfig': 1, 'bone': 1, 'UNESCO': 1, 'Hmphire': 1, 'en': 2, 'ee': 3, 'bomberhumbnilhpi2cdnurnercomcnnnexdme151116133943delermomournerbeirubombingmll11jpgduriondecripionlyouuri20151117rvelchinhngzhouoldvillmcdonldindexhmlhedlineWorld': 1, 'whie': 2, 'ligh': 1, 'humbnilhpi2cdnurnercomcnnnexdme151007175713nikifeijenruinphoogrphy3mll11jpgduriondecripionAh': 1, 'honoring': 1, 'mde': 3, 'Puin': 2, 'cku003c': 1, 'inlhomepge': 1, 'UTCheighmll120medium100lrge110idruehederTexCookie': 1, 'Bondlyouuri20151101ichinchoolbullyingindexhmlhedlineBullying': 1, 'our': 2, 'girl': 2, 'humbnilhpi2cdnurnercomcnnnexdme15111715584804germnydiumevcrericedmll11jpgduriondecripionlyouuri20151117europeprickglnceindexhmlhedlineu003crong': 1, 'Brodcing': 1, 'ep': 2, 'rueerror': 1, 'relive': 2, 'elfproclimed': 1, 'urvivl': 2, 'flower': 1, 'uhoriie': 1, 'bullied': 1, 'uicide': 1, 'mrriedlyouuri20151117ijpnykuzbofounddedindexhmlhedlineYkuz': 1, 'looking': 1, 'rek': 1, 'noice': 1, 'GERMANY': 2, '7': 1, 'medicine': 1, 'rec': 1, 'hoerchwwwwuediionnexcnncom': 1, 'ri': 1, 'red': 2, 'ree': 1, 'c115840': 1, 'forune': 1, 'epped': 1, 'hrefhpwwwchowifookcomen': 2, 'nhemhumbnilhpi2cdnurnercomcnnnexdme151117184905wembleyfnmll11jpgdurion0219decripionAmid': 1, 'million': 2, 'geing': 1, 'childrenhumbnilhpi2cdnurnercomcnnnexdme15102318115601cnnphooyrinchildreneemll11jpgduriondecripionlyouuri20151026uocoole007bondcrofllimeindexhmlhedlineThe': 1, 'poiivehumbnilduriondecripionlyouuri20151117worldgloblerrorreporindexhmlhedlineGlobl': 1, 'rgeblnk': 13, 'prevening': 1, 'cookie': 2, 'cklyouiconTypeglleryuri20151113echpioneerwomencieniindexhmlhedlineWomen': 1, 'por': 1, '5yerold': 1, 'Opinion': 2, 'vrqIOnHPvrqpuhrck': 1, 'beginning': 1, 'ypeof': 1, 'Phoo': 3, 'Fooku003c': 2, 'cklyouiconTypevideouri20151117worldurkeyjihdijohnocieindexhmlhedlineJihdi': 1, 'Tke': 1, 'Inernionl': 4, 'recovering': 1, 'inperienCTexExperienceemppTempPCNN10minCNNImgeBrekpoin': 1, 'refugee': 4, 'flewrn': 1, 'Aboud': 2, 'Sign': 2, 'Erin': 1, 'rueenbleApenForCVP': 1, 'Ai': 2, 'w': 9, 'Finl': 1, 'imeline': 1, 'chnged': 1, 'blood': 2, 'origin': 2, 'pge': 1, 'Cooper': 2, 'povery': 1, 'blown': 1, 'pgehumbnilhpi2cdnurnercomcnnnexdme151112111051refugeeurkeynovembermll11jpgdurion0156decripionCNN': 1, 'humbnilduriondecripionSiing': 1, 'IN': 2, 'pecehumbnilhpi2cdnurnercomcnnnexdme151117135625unecoforpece3mll11jpgdurion0115decripionWe': 1, 'one': 8, 'hrefhpwwwcnncom20151113worldglleryprickindexhml': 1, 'will': 2, 'hould': 2, 'pecilileTexYour': 2, '429000': 1, 'comic': 1, 'ying': 2, 'crip': 1, 'hey': 6, 'ykuz': 1, 'righ': 1, 'long': 1, 'goSmrLinkhpcnnigoperienCcobrndingTexIn': 2, 'nigh': 2, '2015humbnilhpi2cdnurnercomcnnnexdme141224103144rcion2015funyilndmll11jpgduriondecripionlyouiconTypeglleryuri20151109worldglleryclimechnge4degreeindexhmlhedlineWh': 1, 'leder': 1, 'porn': 4, 'Bmn': 2, 'wy': 3, 'DYAPIcion': 1, 'ecion': 1, 'Fhion': 1, 'connoion': 1, 'refrehubcripionErrorTexYour': 2, 'Belgiumborn': 1, 'Terrori': 1, 'hundred': 2, 'ecionenerinmenenbleFooerfleenbleIncluderuehelhenbleFooerfleenbleIncluderuelivingenbleFooerfleenbleIncluderuepoliicenbleFooerfleenbleIncluderueechenbleFooerfleenbleIncluderuervelenbleFooerfleenbleIncluderueuenbleFooerfleenbleIncluderueworldenbleFooerfleenbleIncluderueCNNMrkeConfig': 1, 'Enerinmen': 3, 'ecuriy': 1, 'rchphovideopiembedhmlvideovideoId': 1, 'rgeed': 2, 'ocie': 2, 'hun': 1, 'NEEDLESu003crong': 1, 'rgeing': 1, 'firefigher': 1, 'rre': 4, 'bo': 3, 'Slh': 1, 'gllery': 2, 'clroublehooinglink': 2, 'copy': 1, 'Serb': 1, 'nionl': 5, 'goodold': 1, '13': 1, 'cklyouiconTypevideourivideov20151116prierrorckicocmobileorigcnnhedlinePri': 1, 'rueCNNMilchimp': 1, 'Sep': 2, 'exploive': 2, 'frpnew': 1, 'bed': 1, '2115': 2, 'lugh': 1, 'gree': 2, 'romnic': 1, 'r': 1, 'Region': 2, 'dielyouuri20151115helhfcernplnfirefigherindexhmlhedlineMo': 1, 'were': 4, 'Quick': 1, 'rueenbleUerMege': 1, 'Djokovic': 2, 'uffering': 1, 'Click': 2, 'kidhumbnilhpi2cdnurnercomcnnnexdme151029175652evenjingfmilyphoomll11jpgduriondecripionlyouuri20151106rchiecurewfworldrchiecurefeivl2015indexhmlhedlineAnd': 1, 'fighing': 1, 'BOMB': 2, '40humbnilhpi2cdnurnercomcnnnexdme151118091723jonhlomuobirunmll11jpgduriondecripionlyouuri20151117helhchrlieheenhelhindexhmlhedlineSheen': 1, 'expire': 2, 'dium': 1, 'Fbrice': 1, 'ffilierchpicdnrvelcnncomielllibrrieffilielinkercnnrvelffilielinkerjprnerHoelpiKeyE6E67BB01FD2467688ED25D5F5BC095ApiBeUrlhppiripdviorcompiprner20locionervicePhervicervelprnerHoelwidgepiKeyE6E67BB01FD2467688ED25D5F5BC095ArchpicdnrvelcnncomielllibrriecnnrvelcnnrvelmpjmppiMpboxpiKeypkeyJ1IjoiY25uZGlnXRhbCIImEiOiJhMmI0NTFkNWMzNmMyODU4NTQyMjQzNWFkM2I5OGFkMCJ9S01hv9vVgIbHvy1QuAoyQopionKeympboxcceokenCNNUerMegeConfig': 1, 'prk': 2, 'lyouuri20151114worldglleryprickrecionindexhmlhedlineWorld': 1, 'cklyouuri20151117porjonhlomuobiindexhmlhedlineJonh': 1, 'innceof': 1, 'Doulylyouuri20151117rvelgllerygrndcnyonrilbeuindexhmlhedlineWhy': 1, 'DY': 1, 'olved': 1, '1oLowerCewinediion': 1, 'uppor': 2, 'dobeEnvironmenprodpenConexprev10endSlecTexSign': 1, 'pgeType': 1, 'errorim': 2, 'forced': 2, 'windowconole': 2, 'Europen': 1, 'Prick': 1, 'looehumbnilhpi2cdnurnercomcnnnexdme15111712581301primnhunrenlcr1117mll11jpgduriondecripionlyouuri20151117worldprickindexhmlhedlineu003crong': 1, 'full16x91101lrge781medium461mini0mll308xmll221CNNJumboronConfig': 1, 'lyouiconTypevideourivideoworld20151116prickrelighinghecndleorigdgcnnhedlineRelighing': 1, '1960': 1, 'prking': 1, '1800CNNOpimizelyConfig': 1, 'rueenbleVideoEndSle': 1, 'They': 2, 'ype': 1, 'dimiCookienmeCNNoAgreedvluerueexpirionTue': 1, 'green': 1, 'olvedhumbnilhpi2cdnurnercomcnnnexdme151117130958eineinequionmll11jpgduriondecripionA': 1, 'roue': 1, 'unning': 1, 'funcion': 9, 'ckling': 1, 'Sringvoid': 1, 'reporedlyouuri20151117enniworldourfinlfedererdjokovicberdychnihikorienniindexhmlhedlineFederer': 1, 'hlf': 1, 'rueenbleBrekingNew': 1, 'viulRevenueReponed': 1, 'lyouiconTypevideouri20151117opinionbergenexploiveprickindexhmlhedlineWhy': 1, 'hrefcookie': 1, 'unie': 1, 'cce': 2, 'pornu003c': 2, 'fleimeSmp': 1, 'enbleAdLock': 1, 'ecionNme': 1, 'Trump': 1, 'SERIOUS': 2, 'The': 8, 'CNNgou003cbr': 2, 'ogeher': 1, 'Bond': 3, '2': 1, 'Google': 1, 'don': 1, 'ke': 2, 'mobile': 1, 'doc': 1, 'urn': 1, 'Hve': 1, 'gin': 1, 'doe': 2, 'dehhumbnilhpi2cdnurnercomcnnnexdme150915104427jpnykuzcrimebomll11jpgduriondecripionA': 1, 'which': 1, 'ougher': 1, 'Swedih': 1, 'Syri': 1, 'filing': 1, 'houed': 1, 'exy': 1, 'Heroe': 1, 'emerging': 1, 'rupured': 1, 'leoprd': 1, 'olidriy': 1, '2016humbnilhpi2cdnurnercomcnnnexdme151112112741keny1credikmll11jpgduriondecripionlyouuri20151115rveldeoxpindexhmlhedline9': 1, 'Agency': 1, 'windowhumbnilhpi2cdnurnercomcnnnexdme151116204555prickwomnhngingfromwindowledgecooperdnc00002405mll11jpgdurion0212decripionCNN': 1, 'UTColdCookieNmeoAgreedoldCookieExpirionTue': 1, 'ending': 1, 'bring': 2, 'fwProfile': 1, 'Keny': 1, 'cndle': 2, 'unble': 1, 'dngerou': 1, 'Service': 5, 'Americ': 3, 'Gillin': 1, 'hocked': 1, 'cockil': 1, 'ruin': 3, 'reiler': 2, 'French': 4, 'lyouiconTypeglleryuri20151110rvelgllerynewhemeprkof2015indexhmlhedlineThe': 1, 'goe': 1, 'hrill': 1, 'going': 1, 'York': 1, 'forec': 1, 'hrd': 1, 'upec': 4, 'New': 9, 'jrueicon': 1, 'hope': 1, 'Chrlie': 2, 'briefly': 1, 'do': 2, 'hir': 1, 'undernd': 1, 'ulime': 1, 'BelginBeninee': 1, 'condemning': 1, 'de': 1, 'wrmerhumbnilhpi2cdnurnercomcnnnexdme151109134020climechnge4degreemll11jpgduriondecripionlyouiconTypeglleryuri20150903luxurygllery11000dimondwllcechnindexhmlhedlineWh': 1, 'cpil': 1, 'yielded': 1, 'lvih': 2, 'noril': 1, 'ervice': 2, 'mkeoverhumbnilhpi2cdnurnercomcnnnexdme151116110220ingporeling2mll11jpgduriondecripionSome': 1, 'inervl20iViibleruepgeTypeecionreeDely3reeThrehold17ecionNmeinlhomepge': 1, 'during': 1, 'he': 77, 'We\\xa1\\xafve': 1, 'penger': 1, 'inheren': 1, 'finlly': 1, 'ecionindexhmlenblePicureFillfleenbleZoneScrollToLodflelzyLodruelodAllZoneLzyflezoneminWidh0indexhmlinlhomepge1zone1indexhmlinlhomepge1zone2inlindex3hmlinlhomepgemgellnzone1inlindex3hmlinlhomepgemgellnzone2inlindex3hmlinlhomepgemgellnzone3inlindex3hmlinlhomepgemgellnzone4indexhmlinlhomepge3zone4640indexhmlinlhomepge1zone1indexhmlinlhomepge1zone2indexhmlinlhomepge1zone3indexhmlinlhomepge1zone4indexhmlinlhomepge2zone1indexhmlinlhomepge3zone1indexhmlinlhomepge3zone2indexhmlinlhomepge3zone3indexhmlinlhomepge3zone4800indexhmlinlhomepge1zone1indexhmlinlhomepge1zone2indexhmlinlhomepge1zone3indexhmlinlhomepge1zone4indexhmlinlhomepge2zone1indexhmlinlhomepge3zone1indexhmlinlhomepge3zone2indexhmlinlhomepge3zone3indexhmlinlhomepge3zone4index2hmlenblePicureFillrueenbleZoneScrollToLodflelzyLodruezoneminWidh0index2hmlinlhomepge1zone1index2hmlinlhomepge1zone2index2hmlinlhomepge1zone3index2hmlinlhomepge1zone4index2hmlinlhomepge2zone1index2hmlinlhomepge3zone1index2hmlinlhomepge3zone2index2hmlinlhomepge3zone3index2hmlinlhomepge3zone4640index2hmlinlhomepge1zone1index2hmlinlhomepge1zone2index2hmlinlhomepge1zone3index2hmlinlhomepge1zone4index2hmlinlhomepge2zone1index2hmlinlhomepge3zone1index2hmlinlhomepge3zone2index2hmlinlhomepge3zone3index2hmlinlhomepge3zone4800index2hmlinlhomepge1zone1index2hmlinlhomepge1zone2index2hmlinlhomepge1zone3index2hmlinlhomepge1zone4index2hmlinlhomepge2zone1index2hmlinlhomepge3zone1index2hmlinlhomepge3zone2index2hmlinlhomepge3zone3index2hmlinlhomepge3zone4CNNSiblingNvigion': 1, 'Help': 1, 'fernoon': 1, 'held': 1, 'nvigoruerAgenoLowerCeif': 1, 'h': 24, 'hrefhpediioncnncom20151110uofmoumoviecrbmnindexhml': 1, 'Kong': 2, 'inging': 1, 'lrge': 6, 'worried': 1, 'Toggle': 1, 'iddmod8588272cripNmehpzcdnurnercomdcnniinglecnnienilemen01jiddmode74dbd68dcripNmehpzcdnurnercomdcnniinglecnnienilemen02jiddmod596291844cripNmehpzcdnurnercomdcnniinglecnnienilemen03jiddmod9979d11cripNmehpzcdnurnercomdcnniinglecnnienilemen04jiddmod2b3b0432cripNmehpzcdnurnercomdcnniinglecnnienilemen05j': 1, 'humbnilhpi2cdnurnercomcnnnexdme15111614030001kidndrgedymll11jpgduriondecripionlyouuri20151113rglleryenyoroglciermurlindexhmlhedlineFce': 1, 'rueenbleAmzonDiplyAd': 1, 'u003cifrme': 1, 'Moneiro': 1, 'SURRENDER': 2, 'where': 3, 'cro': 1, 'fleenbleShreBuon': 1, 'mch': 2, 'pummeled': 1, 'lyouuri20151117enerinmenpulwlkerdehlwuiindexhmlhedlinePul': 1, 'imporn': 1, 'McGurk': 1, 'fe': 1, 'expirederrorSledefulTexAn': 2, 'rinfore': 1, 'up': 7, 'rueenbleApenForTOS': 1, 'umpion': 1, 'uoScrollEnbledfleuoScrollInervl8000pueAuocrollWhenInviibleruepueVideoWhenInviibleruereponiveConinerConrinmobile480ble800dekop2500crollPueJumboronInervl5000CNNLzyLod': 1, 'counry': 1, 'devicedimiCookienmeNoifiedIE8SupporvluerueexpirionTue': 1, 'John': 2, 'mecreeElemencripmypeexjvcripmync0mrcicyieldmocomymm2jegeElemenByTgNmehed0egeElemenByTgNmebody0ppendChildmele': 1, 'phoogrph': 1, 'deploying': 1, 'belyouiconTypeglleryuri20151116poliicrumpecuriyprickindexhmlhedlineTrump': 1, 'Worldwide': 2, 'Rui': 2, 'ou003cbr': 2, 'hrefhpwwwcnncomprofileerinburneprofile': 1, 'movie': 1, 'fcebook': 1, 'muliple': 1, 'prnerhip': 2, 'Fooge': 1, 'downinglyouiconTypevideouri20151117poliiciipuinobmindexhmlhedlineISIS': 1, 'won': 4, 'fleglleryAdClick': 1, 'hrefprivcy': 1, 'wn': 2, 'lyou': 1, 'rucure': 1, 'cker': 1, 'pregnnhumbnilhpi2cdnurnercomcnnnexdme151113161500bbybdinoormohmdbdiheldbyhigrndmoherhlimomodimmll11jpgduriondecripionThe': 1, 'flelog': 1, 'Weher': 4, 'vrq': 2, 'Obm': 2, 'clmrueicon': 1, 'wo': 2, 'ju': 3, 'rock': 1, 'ediioncnncomminhomepge': 1, 'inlhomepge1zone1inlhomepge1zone2inlhomepge1zone3inlhomepge1zone4inlhomepge2zone1inlhomepge3zone1inlhomepge3zone2inlhomepge3zone3inlhomepge3zone4': 1, 'nd': 33, 'wre': 1, 'Exr': 3, 'wr': 2, 'key': 2, 'remoe': 1, 'PrilyouiconTypevideourivideohelh20151116fcernplnurgerypiennyufcilplicorigcnnhedlineFirefigher': 1, 'ime': 2, 'wh': 2, 'come': 1, 'Nework': 1, 'improve': 1, 'AND': 2, 'McCfelyouuri20151117rvelmicolombinmedindexhmlhedlineSexie': 1, 'Jpnee': 1, 'DegeTime': 1, 'gng': 1, 'joke': 1, 'region': 1, 'bludgeoned': 2, 'TODAY': 1, 'Burneu003c': 1, 'drug': 2, 'Bergen': 1, 'lyouuri20151116middleelebnondelermobeiruheroindexhmlhedlineHero': 1, 'winediiondTrgerefdom': 6, 'crii': 1, 'excied': 1, 'creure': 1, 'ehumbnilhpi2cdnurnercomcnnnexdme150325082152ocilgfxcnnlogomll11jpgduriondecripionSevere': 1, 'Yer': 1, 'puhrgumen': 1, 'lyouiconTypevideourivideoenerinmen20151117chrlieheenhivpoiiveodyhowmorigcnnhedlineChrlie': 1, 'cnncomif': 1, 'ck': 10, 'Fridy': 1, 'uindexOfiphone': 1, 'co': 1, 'ediioncnncommobilemobilewebhomepge': 1, 'him': 3, 'hve': 7, 'webie': 1, 'ce': 1, 'lk': 4, 'eedine': 1, 'unfolded': 1, 'rpe': 1, 'upporedmegeTexThnk': 1, 'je': 1, 'cr': 2, 'upde': 1, 'winning': 1, 'ecpe': 1, 'uch': 1, 'Crunch': 1, 'ingredien': 1, 'rreed': 2, 'ckhumbnilhpi2cdnurnercomcnnnexdme151117163946frnceruiuniedeepupckginiibremcgurkinvmnpour00043420mll11jpgdurion0605decripionUnied': 1, 'pu': 1, 'py': 3, 'whyhumbnilhpi2cdnurnercomcnnnexdme140115184759pinreliever05mll11jpgduriondecripionGovernmen': 1, 'been': 3, 'cieni': 1, 'Phone': 1, 'Republique': 1, 'dimondhumbnilhpi2cdnurnercomcnnnexdme150904103055wllcechnee2mll11jpgduriondecripionThe': 1, 'hioric': 1, 'wier': 1, 'broher': 1, 'reurn': 6, 'whoe': 1, 'po': 1, 'wlked': 1, 'Work': 1, 'docreferrerreplcehpwi': 1, 'life': 2, 'Plee': 3, 'winediiondTrge': 1, '01': 4, 'rnpln': 2, 'rgic': 1, 'formed': 2, 'lyouiconTypevideourivideov20151117moefiprickerreliveerinoerincnnhedlineAcker': 1, 'omehing': 1, 'dedly': 1, 'policy': 1, 'humbnilhpi2cdnurnercomcnnnexdme15111613231101bdelhmidboudmll11jpgduriondecripionlyouurivideov20151117fherexplinprierrorckoyoungonorigcnnhedlineThey': 1, 'ile': 1, 'rueenbleJumboronAuoScroll': 1, 'rueenbleVideoPinning': 1, 'c95680': 1, 'diveriy': 1, 'mourning': 1, 'Phoogrpher': 2, 'look': 4, 'hreferm': 1, 'looe': 1, 'bhed': 1, 'deph': 1, 'n': 4, 'nionhumbnilhpi2cdnurnercomcnnnexdme151022033803hungnghongcloeupmll11jpgduriondecripionLiu': 1, 'defin': 1, 'rgue': 1, 'bued': 1, 'cluehumbnilhpi2cdnurnercomcnnnexdme151117030606priecuriy2mll11jpgduriondecripionPeer': 1, 'THREAT': 2, 'error': 12, 'lyouiconTypeglleryuri20151116opinionolikerruiurelioniiindexhmlhedlinePri': 1, '156yerold': 1, 'k': 1, 'lyouuri20151117fricriemnnhypoheiunolvedindexhmlhedline156yerold': 1, 'Foer': 1, 'compnionAdSe': 1, '0ymvr': 1, 'Broher': 2, 'uphumbnilhpi2cdnurnercomcnnnexdme15110313252302ruiplnecrh1103mll11jpgduriondecripionlyouuri20151117worldirelndmeexmrrigeindexhmlhedlineGroundbreking': 1, 'merpiece': 1, 'Irq': 1, 'humbnilhpi2cdnurnercomcnnnexdme151117202451newhmphirebodiemyerypreero00011822mll11jpgduriondecripionRecen': 1, 'ir': 1, 'wke': 1, 'promie': 1, 'rip': 1, 'Epnol': 5, 'weighed': 1, 'ril': 1, 'conc': 2, 'im': 1, 'Anderon': 2, 'fll': 1, 'in': 34, 'ym': 1, 'Frdow': 1, 'ie': 3, 'Tell': 1, 'pecculr': 1, 'if': 6, 'Profile': 3, 'dimiCookienmerueConenvluerueexpirionkiprueheighmll135medium110lrge130CNNVideoConfig': 1, 'erie': 1, 'ing': 2, 'Jihdi': 1, 'brekingNewl120000urlhpdcnncomjonpbrekingnewinernionljonCNNGoFreePreviewConfig': 1, 'Rqq': 1, 'deeced': 1, 'Afric': 2, 'rueenbleRefrehTimer': 1, 'Miiippi': 1, 'iillion': 1, 'coole': 1, 'Conc': 1, 'erchpgecion': 1, 'c105760': 1, 'obeed': 1, 'leredlyouuri20151117opinionconrolledmedicineccegcdpindexhmlhedlineWr': 1, '9': 1, 'hbby': 1, 'dozen': 1, 'Cble': 1, 'couple': 1, 'Cookie': 1, 'week': 1, 'nhem': 2, 'CNNpgeTimer': 1, '26yerold': 1, 'I': 1, 'AdChoice': 1, 'drink': 1, 'rueenbleWeher': 1, 'mobileSSID': 1, '11551': 2, 'Vienmhumbnilhpi2cdnurnercomcnnnexdme15110612371501obmkeyone1106mll11jpgduriondecripionlyouuri20151113opinionpcejunkw1190fconverionindexhmlhedlineSpce': 1, 'wordhumbnilhpi2cdnurnercomcnnnexdme151115012727priporrieemll11jpgduriondecripionVigil': 1, 'nyime': 2, 'moke': 1, 'UTCheighmll140medium120lrge130idohederTexOur': 1, 'Serch': 2, 'kid': 1, 'minuehumbnilhpi2cdnurnercomcnnnexdme151116191441pricrimecenemll11jpgdurion0109decripionA': 1, 'undefined': 1, 'chool': 1, 'refugeehumbnilhpi2cdnurnercomcnnnexdme151117150226greecemcedonirefugeeeemll11jpgduriondecripionlyouuri20151117worldchrliehebdonewcoverindexhmlhedlineChrlie': 1, 'Abdelhmid': 2, 'fermhlyouuri20151115worldprickporriindexhmlhedlinePri': 1, 'regiryFilepli0': 1, 'Boko': 1, 'killedlyouuri20151117uviolenweherwhingoneindexhmlhedlineViolen': 1, 'cch': 2, 'In': 1, 'y': 5, 'Trvel': 4, '1million': 1, 'McDonldhumbnilhpi2cdnurnercomcnnnexdme151117121339mcdonldhngzhoucrdmll11jpgduriondecripionAn': 1, 'know': 2, 'humbnilhpi2cdnurnercomcnnnexdme15110619180002rilevimonlcinirericedmll11jpgduriondecripionlyouuri20151108worldcnnphooyrinchildrenrefugeeleepingindexhmlhedlineTerror': 1, 'world': 8, 'Adverie': 1, 'ckhumbnilhpi2cdnurnercomcnnnexdme151116184644cndleplcedelrepubliquemll11jpgdurion0126decripionOn': 1, 'rerce': 1, 'being': 1, 'money': 1, 'UTCexpirionPeriod2592000000oldCookieNmenoneoldCookieExpirionTue': 1, 'vr': 8, 'Archiecure': 1, 'experlyouuri20151112rveldronegrmdronephoogrphyphoorocilindexhmlhedlineDrone': 1, 'weponhumbnilhpi2cdnurnercomcnnnexdme151026173358yriypgfighergunbullemll11jpgduriondecripionlyou': 1, 'kill': 1, 'burdly': 2, 'Tool': 3, 'lzyLod': 1, 'windowdocumendomin': 1, 'Prihumbnilhpi2cdnurnercomcnnnexdme151116220345ydneyoperhouepriribuemll11jpgdurion0112decripionFmilir': 1, 'ogeherhumbnilhpi2cdnurnercomcnnnexdme151116094911obmpuinmll11jpgduriondecripionRui': 1, 'buinee': 1, 'inernionl': 1, 'rundown': 1, 'powerlyouuri20151117rphoogrpherfbricemoneiroheprophecyindexhmlhedlineSee': 1, 'like': 4, 'ell': 1, 'cugh': 2, 'crmmed': 1, 'Spor': 2, 'relief': 1, 'wen': 1, 'gme': 1, 'ele': 5, 'bnk': 1, '396vrqpuhuome': 1, '4': 2, '48804': 1, 'reflechumbnilhpi2cdnurnercomcnnnexdme151117130359fullbleedcnnphooprimjolimll11jpgduriondecripionMgnum': 1, '5': 1, 'idie8hederTexInerne': 1, 'EnglndFrnce': 1, 'By': 1, 'Building': 1, 'uindexOfipd': 1, 'Syem': 1, 'pirilike': 1, 'urgery': 1, 'fwNeworkId': 1, 'Cnyon': 1, 'hopil': 2, 'c000': 1, 'humbnilhpi2cdnurnercomcnnnexdme150904103055wllcechnee2mll11jpgduriondecripionThe': 1, 'cmer': 2, 'joined': 1, 'Lederhip': 3, 'Tour': 1, 'preference': 2, 'lborhumbnilhpi2cdnurnercomcnnnexdme131218125900kimjongunwvemll11jpgduriondecripionlyouuri20151008middleeiirpeheologyoldierrpewomenomkehemmulimindexhmlhedlineISIS': 1, 'Bomb': 1, 'fce': 3, '2nd': 2, 'new': 1, 'Mulim': 1, 'huning': 1, 'forgivenehumbnilhpi2cdnurnercomcnnnexdme151116132221mournerbclnminueilencemll11jpgdurion0253decripionA': 1, 'INTERACTIVE': 1, 'hrefhpheconverioncomrugglereeipoverypornwihnexrdoeofclrcim41346': 1, 'd': 1, 'rueenbleOubrinVideoKPI': 1, 'Show': 4, 'cool': 1, 'brough': 1, 'Chin': 2, 'cruie': 1, 'een': 1, 'London': 1, 'omewhere': 1, 'hung': 2, 'Mgnu': 1, 'homemde': 1, 'hpviulrevenuecomvrjxprenNodeinerBefore': 1, 'ccenhumbnilhpi2cdnurnercomcnnnexdme151022104016pecrefilmillmll11jpgduriondecripionThe': 1, '8': 1, 'cnnihomepge': 1, 'Twier': 1, 'Zp': 1, 'google': 1, 'vrqIOnHP': 1, 'Confirm': 2, 'regiryURL': 1, 'inyourfce': 1, 'crhumbnilhpi2cdnurnercomcnnnexdme15110913431220bmobilerericedmll11jpgduriondecripionKpow': 1, 'preferenceu003c': 1, 'ry': 2, 'revel': 1, 'neworkcnnCNNWeherConfig': 1, 'lyouuri20151115worldcnnphoopricklexmjoliindexhmlhedlineIm': 1, 'buildinglyouuri20150903luxurygllery11000dimondwllcechnindexhmlhedlineWorld': 1, 'memoril': 1, 'id': 1, 'home': 2, 'Wembley': 1, 'bove': 2, 'funcioneifymvoid': 1, 'c85600': 1, 'hereu003c': 1, 'jewelry': 4, 'for': 17, 'confirm': 1, 'leeper': 2, 'Direcor': 1, 'killing': 1, 'yndice': 1, 'provider': 2, 'cnn': 1, 'frighened': 1, 'ChngedmegeTexBy': 1, 'He': 1, 'core': 2, 'Term': 3, 'who': 4, 'dgeElemenByTgNme0ync': 1, 'power': 1, 'Specil': 1, 'e': 5, 'ummer': 1, 'recreionl': 1, 'rue': 2, 'hemelve': 1, 'nme': 2, 'friwebServiceURLhplerhubcnncomdiribuionhubwebiePuhIDwebcomcnnredlerCNNdTimer': 1, 'Ue': 1, 'ibling': 1, 'finding': 1, 'Think': 3, 'leving': 1, 'oo': 1, 'on': 30, 'hoerchwmoneycnncom': 1, 'Syle': 2, 'of': 64, 'lyouiconTypeglleryuri20150828echmrphoolienlifeindexhmlhedlinePhoo': 1, 'u003cimg': 1, 'US': 7, 'Grnd': 2, 'nywhere': 2, 'USRui': 1, 'mechniclyouiconTypevideourivideoworld20151117prickunecolighupforpeceorigdgcnnhedlineUNESCO': 1, 'winediiondTrgecpTopic': 1, 'ino': 1, 'originl': 1, 'ou': 3, 'ISISconrolled': 1, 'or': 2, 'yli': 1, 'CNNgo': 2, 'beween': 2, 'Hong': 2, 'own': 4, 'Thi': 1, 'recordhumbnilhpi2cdnurnercomcnnnexdme151117163811fedfipumpmll11jpgduriondecripionRoger': 1, 'Spce': 1, 'puzzle': 1, 'nure': 1, 'CNNconenModelnlyiccpopicpliwindow': 1, 'errorimhumbnilhpi2cdnurnercomcnnnexdme15011414071601chrliehebdocover0114mll11jpgduriondecripionThe': 1, 'down': 1, 'Few': 1, 'hoerchwgooglew23ww': 1, 'lyouiconTypevideourivideoworld20151112migrnjourneyoeuropedmonorigdgcnnhedlineRefugee': 1, 'eing': 1, 'Reerved': 1, 'lyouuri20151117middleeruinmerojecrhbombindexhmlhedlineRui': 1, 'fleCNNAdConfig': 1, 'your': 11, 'Cloing': 1, 'hoerchwfcebookcom': 1, 'Becue': 1, 'mke': 3, 'ISIS': 9, 'i': 24, 'her': 3, 'miilelyouuri20151116europeprierrorckmermindbdelhmidboudindexhmlhedlineWho': 1, 'inrucionu003c': 2, 'fhioned': 1, 'Brooklyn': 1, 'humbnilhpi2cdnurnercomcnnnexdme151116161349fcernpln01mll11jpegdurion0149decripion41yerold': 1, 'Newource': 1, 'hed': 2, 'hee': 1, 'rnform': 1, 'Homepge': 1, 'Kournikov': 1, 'bodie': 1, 'hem': 3, 'reporhumbnilhpi2cdnurnercomcnnnexdme151105103638iiflgnkmll11jpgduriondecripionIlmi': 1, 'rchpchoiceruecomgenmedmrkericonrpng': 1, 'CNNUilexiCNNconenModelnlyiccpopic': 1, 'Dmon': 1, 'Jme': 1, 'leep': 1, 'hy': 1, 'milin': 1, 'ocen': 1, 'educed': 1, 'hpgocnncomremCNNDemndLodConfig': 1, 'hi': 12, 'hn': 3, 'ho': 1, 'documenbodyclNme': 1, 'HIVpoiivehumbnilhpi2cdnurnercomcnnnexdme15111618361916chrlieheenhroughheyermll11jpgdurion0126decripionAcor': 1, 'unerhed': 2, 'be': 6, 'ubcripion': 2, 'cec': 1, 'hd': 2, 'WAFlyouuri20151106helhjmebondpecreccenindexhmlhedlineWh': 1, 'worriedhumbnilhpi2cdnurnercomcnnnexdme150810185852pereidmeeorhowerorigmg00003606mll11jpgduriondecripionAccording': 1, '000000': 4, 'Tuedy': 2, 'Mrhumbnilhpi2cdnurnercomcnnnexdme150828091044mrigunmll11jpgduriondecripionlyouuri20151027middleeinideyrifronlineginiiindexhmlhedlineMen': 1, 'preloded': 1, 'bck': 2, 'Germny': 2, 'dy': 3, 'Seneglee': 1, 'href20151112worldpcejunkimpcfeindexhml': 1, 'Irqi': 2, 'orgnizion': 1, 'fermh': 1, 'cklyouiconTypeglleryuri20151116worldglleryprickmnhunindexhmlhedlineMnhun': 1, 'ue': 3, 'hpzcdnurnercomdcnnicnnihomepgej': 1, 'ciy': 4, 'piece': 4, 'convererServicecommonmoduleifrmecurrencyConvererplookupServiceervicecnndocomlookupperviceHohpmrkemoneycnncomCNNMeRefrehRe': 1, 'reflecing': 1, 'Righ': 1, 'vrhovrcnncomembedcripingrmjplformingrmcomenUSembedjwierjplformwiercomwidgejlivefyrejcdnlivefyrecomLivefyrejgigyppId3gUbleJNrRITgx1mMci7GcIrH8xL9WVfAbzS4zpFrRwnpqeYd8QTRkr7VCenbleOnLefrueenbleOnFirZoneruehreSPoURLhpcionevencnncompiv1evenddEvenlivefyremobileCommenBeUrlhpcnnboorpfyrecopi11publiccommenncommenneworkcnnfyrecoieId353270rcDominhpcdnlivefyrecomppembedppembed066mibuhUrlcnncommenlivefyreuhenicionbeUrlhpudiencecnncomervicecnnerrorUrlcnncommenlivefyreerrorloginUrlcnncommenlivefyreloginwhppbeUrlwhppendexCNN': 1, 'pin': 1, 'curren': 1, 'Mobile': 3, 'hppened': 1, 'Hebdo': 2, 'pornpornu003c': 1, 'ihumbnilhpi2cdnurnercomcnnnexdme151106142012houingheinerlcebyomburoolecheereningporemll11jpgduriondecripionIf': 1, 'Wllce': 2, 'humbnilhpi2cdnurnercomcnnnexdme151116131822iihredcmll11jpgduriondecripionlyouurivideoworld20151117briihndfrenchfnunieiningingfrenchnionlnhemlivehofoerwrncnnhedlineEnglnd': 1, 'oryCNNToggleOubrin': 1, 'riding': 1, 'rllying': 1, 'Ti': 2, 'hound': 1, 'Licene': 1, 'Federer': 1, 'film': 1, 'rueinfo': 1, 'ckhumbnilhpi2cdnurnercomcnnnexdme151116220345ydneyoperhouepriribuemll11jpgduriondecripionSee': 1, 'ShowlyouiconTypevideourivideoworld20151116pricklndmrkurnbluewhieredorigdgcnnhedlineLndmrk': 1, 'fulhumbnilhpi2cdnurnercomcnnnexdme131130213718pulwlkermll11jpgduriondecripionPorche': 1, 'fleenbleOmniure': 1, 'Fcebook': 1, 'no': 8, 'TV': 12, 'Mondy': 1, 'Priin': 2, 'hrefhpediioncnncom20141119worldihumnfcejewel': 2, 'winediion': 1, 'voluneer': 1, 'zoneId': 1, 'longer': 2, 'Proof': 1, 'book': 1, 'Technology': 2, 'ledge': 1, 'boo': 1, 'you': 6, 'rollhumbnilhpi2cdnurnercomcnnnexdme151105103638iiflgnkmll11jpgduriondecripionlyouuri20151029ichinonechildpolicyperonlkeindexhmlhedlineLife': 1, 'profeor': 1, 'regiryFile': 2, 'junk': 1, 'imehumbnilhpi2cdnurnercomcnnnexdme151023110127bondcrpecremll11jpgduriondecripionlyouuri20151105opinionbergeniionrollindexhmlhedlineWhy': 1, 'Alex': 1, 'medi': 1, 'necklce': 2, 'Trncrip': 1, 'Envoy': 1, 'm': 1, 'worldhumbnilhpi2cdnurnercomcnnnexdme151116173628hockingdeebeneonmll11jpegduriondecripionlyouuri20151108worldcnnphooyrinchildrenrefugeeleepingindexhmlhedlineChild': 1, 'occurred': 2, 'journey': 3, 'Chnu003c': 2, 'Abou': 1, 'CNN': 36, 'ruerc': 1, 'AZ': 3, 'funcionDYAPIcion': 1, 'Turner': 1, 'mzon': 1, 'hrefhpheconverioncomuopicpornogrphy': 1, 'SURVIVOR': 2, 'Cnyonhumbnilhpi2cdnurnercomcnnnexdme15111213181003grndcnyonnnermll11jpgduriondecripionFinding': 1, 'cling': 1, 'we': 7, 'u003c': 19, 'oherif': 1, 'porri': 1, 'HIVpoiive': 1, 'u': 8, 'blmed': 1, 'hrefhpwwwcnncom20151115worldprickindexhml': 1, 'So': 1, 'iRepor': 2, 'wihcoundownTexPreview': 2, 'nlyic': 1, 'yerlyouuri20151117unewhmphirebodiemyeryindexhmlhedlineNew': 1}\n"
     ]
    }
   ],
   "source": [
    "import string\n",
    "import pickle\n",
    "\n",
    "f = open('edition.cnn.com.html.txt','r')\n",
    "source = f.read()\n",
    "\n",
    "string1 = ''\n",
    "string2 = ''\n",
    "string3 = ''\n",
    "string4 = ''\n",
    "\n",
    "notuse = [ 'a', 'and', 'are', 'as', 'at', 'be', 'but', 'by', 'for',\n",
    "          'if', 'in', 'into', 'is', 'it', 'no', 'not', 'of', 'on', 'or',\n",
    "          's', 'such', 't', 'that', 'the', 'their', 'then', 'there', \n",
    "          'these', 'they', 'this', 'to', 'was', 'will', 'with']\n",
    "l = []\n",
    "r = []\n",
    "k = []\n",
    "p = []\n",
    "\n",
    "for line in source.splitlines():\n",
    "    line = line.lstrip()\n",
    "    for word in line:\n",
    "        if word == '<':\n",
    "            string1 += '\\n'\n",
    "        string1 += word\n",
    "        if word == '>':\n",
    "            string1 += '\\n'\n",
    "            \n",
    "for line in string1.splitlines():\n",
    "    line = line.lstrip()\n",
    "    for word in line:\n",
    "        string2 += word\n",
    "    l.append(string2)\n",
    "    string2 = ''\n",
    "\n",
    "for x in range(0,len(l)):\n",
    "    if l[x] != '':\n",
    "        r.append(l[x])\n",
    "\n",
    "for x in range(0,len(r)):\n",
    "    if (r[x][0] == '<') or (r[x][0] == '/') or (r[x][0] == '-'):\n",
    "        r[x] = ''\n",
    "        \n",
    "for x in range(0,len(r)):\n",
    "    if r[x] != '':\n",
    "        k.append(r[x])\n",
    "        \n",
    "for x in range(0,len(k)):\n",
    "    string3 += k[x]\n",
    "    string3 += ' '\n",
    "\n",
    "\n",
    "limit = len(string3)\n",
    "\n",
    "x = 0\n",
    "\n",
    "while x<limit:\n",
    "    for y in range(0,len(string.punctuation)):\n",
    "        if string3[x] == string.punctuation[y]:\n",
    "            string3 = string3.replace(string3[x],'')\n",
    "            limit = len(string3)\n",
    "    for y in range(0,len(notuse)):\n",
    "        if string3[x] == notuse[y]:\n",
    "            string3 = string3.replace(string3[x],'')\n",
    "            limit = len(string3)\n",
    "    x += 1\n",
    "    \n",
    "p = string3.split()\n",
    "words = {}\n",
    "frequency = {}\n",
    "\n",
    "for i in p:\n",
    "    if not i in words.keys():\n",
    "        words[i]=1\n",
    "    else:\n",
    "        words[i]=words[i]+1\n",
    "        \n",
    "format = \"%s : %d\"\n",
    "  \n",
    "for i in words:\n",
    "    frequency[i] = words[i]\n",
    "    \n",
    "print frequency\n",
    "f.close()\n",
    "save = open('edition.cnn.com.words.frequency.txt','w')\n",
    "pickle.dump(frequency,save)\n",
    "save.close()"
   ]
  },
  {
   "cell_type": "code",
   "execution_count": 19,
   "metadata": {
    "collapsed": false
   },
   "outputs": [
    {
     "name": "stdout",
     "output_type": "stream",
     "text": [
      "{'cloure': 1, 'G20': 1, '\\xac\\xb2\\xac\\xb5\\xac\\xb3\\xac\\xb3\\xac\\xac\\xac\\xb0\\xac\\xae': 1, 'Arbic': 1, 'blq': 1, 'cookieAphidMch': 2, 'child': 2, 'i1hpicbbcicoukfrmeworki0284modulei1': 1, 'vr': 7, 'enure': 2, 'ge': 1, 'funcionnode': 1, 'Zelnd': 1, 'expiregeLExpirionDedoUTCSringwindowbbcMndolinSorgeprooyperedCookiefuncionnmevr': 1, 'exenive': 3, 'ume': 1, 'oqSurveyMngerwindow': 1, 'relly': 2, 'Tmil': 1, 'TING': 1, '0': 2, 'Homepge': 2, 'Kirundi': 1, 'winnerwinnerrollingExpireeleifdkeyend': 1, 'DegeTimen6060241000reurn': 1, 'Prenl': 1, 'friendly': 4, 'moduleimgehpicbbcicoukwwhp1890modulemoduleimge': 1, 'prner': 1, 'documenwrie': 5, 'GAHUZA': 1, 'iWonder': 2, 'hough': 1, 'horror': 5, 'ribue': 3, 'libmodulemngerhpicbbcicoukwwhp1890modulelibmodulemnger': 1, 'figh': 1, 'choice': 1, 'ypeofdocumencookie': 2, 'every': 5, 'flemkeUrl': 1, 'pphpicbbcicoukwwhp1890modulepp': 1, 'Bcln': 5, 'homchwwwinei': 1, 'level': 2, 'libcorehpicbbcicoukwwhp1890modulelibcore': 1, 'die': 5, 'MUNDO': 1, 'hllucinion': 2, '25degC': 4, 'jcrouel1hpicbbcicoukfrmeworkjcrouel0110modulejcrouel1': 1, 'round': 1, 'libmodulebehpicbbcicoukwwhp1890modulelibmodulebe': 1, 'hppy': 1, 'nigh': 3, 'inerview': 2, 'nbp': 1, '\\xac\\xb5\\xac\\xac\\xac\\xb2\\xac\\xa1\\xac\\xaf\\xac\\xb3\\xac\\xbe\\xac\\xacA': 1, 'jquery14hpicbbcicoukfrmeworkjquery030hredmodulejquery14': 1, 'fold': 1, 'Only': 1, 'video': 4, 'Europen': 1, 'Argumen': 2, 'Fih': 2, 'Red': 1, 'uer': 1, 'even': 3, 'exernl': 2, 'communice': 2, 'dToDiply': 1, 'cborborborbfigfunciondreurnrgumenlenghcdcdeeriliefuncionbvr': 1, 'idCookiegeInnce': 1, 'Zyn': 3, 'buhfire': 3, 'new': 9, 'figmngerconfirm': 1, 'mrke': 1, 'fll': 1, 'more': 4, 'requireconfigph': 1, '27h': 1, 'empower': 2, '\\xa1\\xbc\\xab\\xd1\\xab\\xea\\xd6\\xa7\\xe3\\xa9\\xa1\\xbd\\xca\\xf8\\xe3\\xca\\xab\\xab\\xab\\xe1\\xab\\xe9\\xaa\\xcb9\\xec\\xd1\\xd9\\xcd\\xaa\\xce\\xe3\\xa9\\xdb\\xf3\\xaa\\xab': 1, 'hrowIllegl': 1, 'here': 1, 'exrerreril': 1, 'Aurli': 4, 'Mgzine': 3, 'don\\xa1\\xaf': 2, 'Our': 1, 'plce': 2, 'cnullccepAllfuncionvr': 1, 'My': 1, 'deroyed': 1, 'pickegmenrevr': 1, 'vendorundercoreundercore': 1, 'my': 1, '30': 4, 'bou': 3, 'experience': 1, '29degC': 2, 'ifdewindowlocionhref': 1, 'mgicl': 1, 'cookie': 8, 'picure': 7, 'homchplndboxi': 1, 'emerge': 2, 'moduleweherhpicbbcicoukwwhp1890modulemoduleweher': 1, 'CBeebie': 2, 'environmen': 1, 'win': 2, 'Timemp': 1, 'vii': 2, 'When': 2, 'jquery1hpicbbcicoukfrmeworkjquery030hredmodulejquery172': 1, 'Auo': 3, 'wih': 9, 'hree': 1, 'promoMnger': 1, 'dekopuibhpicbbcicoukwwhp1890moduledekopuib': 1, '89': 1, 'Nigerin': 1, 'mening': 2, 'Jonh': 3, 'opimied': 1, 'pren': 1, 'from': 5, 'Explorer': 1, 'windowbbcdocom': 1, 'heme0': 1, 'CBBC': 2, 'hpempbbcicoukempbump3bump3mp': 1, 'cookieAphidMch1': 1, 'fer': 4, 'ip': 1, 'eleviion': 1, 'chnging': 1, 'roundup': 2, 'mpidcidCookie': 1, 'oreDhigeIemreurn': 1, 'funcioni': 2, 'renumberMhrndom': 1, '570S': 1, 'clock1hpicbbcicoukfrmeworkclock019hredmoduleclock1': 1, 'ojoindexOf0': 1, 'hcker': 1, 'known': 2, 'doom': 1, 'Indi': 4, 'blocking': 1, 'women': 2, 'Chnge': 1, 'include': 1, 'wore': 1, 'ErrorInvlid': 2, 'dignoi': 1, 'pickedmin0mxegmenlengh1ifypeof': 1, 'focu': 1, 'Environmen': 1, 'mu': 3, 'DegeTime10006010oGMTSringeFigfuncionbfuncionvr': 1, 'mp': 6, 'Jonhn': 1, 'of': 31, 'ninh': 3, 'ded': 6, 'could': 5, 'nework': 1, 'ouhern': 1, 'chnge': 2, 'Le': 4, 'Police': 4, 'give': 3, 'demi1hpicbbcicoukfrmeworkdemi0100hredmoduledemi1': 1, 'Vienmee': 2, 'deifhirT': 1, 'pulling': 1, 'o': 30, 'locproocolho': 1, 'Policy': 1, 'occur': 1, 'ck\\xa1\\xaf': 1, 'reponible': 1, 'hoe': 3, 'end': 2, 'hpicbbcicoukid03225moduleidcidCookie': 1, 'HIV': 4, 'rvel': 2, 'ie': 4, 'mo': 1, '1': 2, 'how': 4, 'vendorjbrekpoinbrekpoin': 1, 'firyle': 1, 'ESCAPEDCHARnru2028u2029u000Au000Du005CALLOWEDCHARESCAPEDCHARESCAPEDCHARKEYALLOWEDCHARVALUEnullALLOWEDCHAROBJECTTOKENKEYVALUEKEYVALUEKEYVALUESEQUENCEKEYVALUEKEYVALUEOBJECTLITERALKEYVALUESEQUENCEobjecPernnew': 1, 'everydy': 2, 'Why': 6, 'Erroridc': 1, 'rereurn': 1, 'urveillnce': 1, 'SOMALI': 1, 'hpicbbcicouk': 1, 'Will': 1, 'dekopuildehpicbbcicoukwwhp1890moduledekopuilde': 1, 'Syrin': 2, 'beUrl': 1, 'ou': 5, 'fn': 3, 'All': 2, 'Frnce': 6, 'confirmfuncionwindowiforborbfigorbfignohieNoFigCookieiforbundefinedorbfigundefinedhieFigno1hieNoFigCookieeNoFigCookiefunciondocumencookiecknorbnofig1': 1, 'priculr': 1, 'heighened': 1, 'Edi': 1, 'chief': 1, 'vluewindowbbcMndolinSorgeprooypeiEnbledfuncionreurn': 1, 'rOBJECTTOKENfuncion': 1, 'horer': 1, 'conumer': 1, 'uppor': 1, 'wine': 2, 'Chioor': 1, 'office': 3, 'Indin': 2, 'documencookiemchckpfAPHID': 1, 'fifh': 1, 'dekopuicrouelfcoryhpicbbcicoukwwhp1890moduledekopuicrouelfcory': 1, 'dy': 6, 'Suppoedly': 1, 'cugh': 1, 'Re': 1, 'Kyrgyz': 1, 'Firemn': 2, 'including': 1, 'eemed': 1, 'Dewinnernew': 1, 'Sheen': 4, 'before': 1, 'heroe': 2, 'Chenni': 3, 'nmeEqnmecwindowbbccookiegepli': 1, 'le': 2, 'ime': 4, 'verion': 1, 'plyer': 1, 'lo': 2, 'bbccookiew': 1, 'prodigy': 1, 'hpicbbcicoukidpp07176moduleidppidpp1': 1, 'milliecond': 1, 'Rdio': 2, 'policy': 1, 'World': 2, 'hrdly': 2, 'cndl': 2, 'lbum': 1, 'Fri': 1, 'wry': 1, 'ri': 1, 'noi': 1, 'brren': 1, '\\xa1\\xcc530m': 1, 'ye': 1, 'L': 5, '\\xac\\xac\\xac\\xed\\xac\\xe2\\xac\\xd4\\xac\\xed\\xac\\xd9': 1, 'Lomu': 5, 'dekopuillzyloderhpicbbcicoukwwhp1890moduledekopuillzyloder': 1, 'depie': 1, 'iD': 1, 'linking': 1, 'Erh': 5, 'killed': 6, 'Copyrigh': 1, 'dyFromNownvr': 1, 'modulehederhpicbbcicoukwwhp1890modulemoduleheder': 1, 'Turkih': 1, 'fully': 1, 'Pri': 16, 'l': 2, 'pider': 2, 'Four': 3, 'oreDkeywindowbbcMndolinSorgeprooyperemoveIemfuncionkeyvr': 1, 'hpllivebbccoukempbump3l': 1, 'VIT': 1, 'Pry': 2, 'bbcdocomconfigeIE8ruex3Ccrip': 1, 'beween': 1, 'documencookieindexOfexdp': 1, 'mermind': 2, 'From': 1, 'clled': 3, 'communiie': 1, 'windowrequire': 1, 'phi': 1, 'Science': 1, 'wiSecond': 1, 'bump3': 1, 'hll': 1, 'our': 3, 'ring': 1, 'More': 2, 'oreDkeyhiveoreDwindowbbcMndolinSorgeprooypegeIemfuncionreurn': 1, 'living': 1, 'nvigion': 1, 'cobr': 1, 'cggeElemenByIdbbccookieifcwindoworbfigukcclNmecclNmereplcebbbccookiedbcclNmecclNme': 1, 'Culure': 3, 'Supec': 2, 'windowlocionproo': 1, 're': 3, 'rel': 2, 'preInidCookieInnceimemp': 2, 'blme': 2, 'Mreillie': 5, 'rn': 2, 'upded': 1, 'oreDhigeIemdelee': 1, 'rueiConfirmedfuncionreurn': 1, 'ory': 1, 'Germny': 3, 'Inerne': 1, 'Neherlnd': 1, 'modulevideohpicbbcicoukwwhp1890modulemodulevideo': 1, 'inere': 1, 'defineidconfig': 1, 'brower': 2, 'domRedyfuncion': 1, 'bbcdocomuilddHmlTgClbbcdocomexdp': 1, 'Edior\\xa1\\xaf': 1, 'jquery19him': 1, 'Dekop': 1, 'refugee': 3, 'Lileknown': 1, 'bbcdocomconfigeIE9ruex3Ccrip': 1, 'w': 1, 'Egyp': 1, 'refue': 2, 'Denew': 1, 'domRedy': 1, 'SWAHILI': 1, 'pge': 1, 'modulemedihpicbbcicoukwwhp1890modulemodulemedi': 1, 'ong': 3, 'one': 1, 'owner': 1, 'Hollywood': 1, 'given': 1, 'hpplyhirgumenredPolicyfuncionreurn': 1, 'unknown': 1, 'enry': 2, '2': 1, 'revel': 3, 'Such': 1, 'Enerinmen': 5, 'ocil': 3, 'fcing': 1, 'cpclock1hpicbbcicoukfrmeworkclock019hredmoduleclock1c': 1, 'norhern': 1, 'deeriliehiredCookiehicookieNmewindowbbcMndolinSorgeprooypevefunciondwindowbbccookieehicookieNmeencodeURIComponenerilied': 1, 'monerrequiredomRedycompiled': 1, 'Buhri': 1, 'module': 1, 'rce': 1, 'Coninue': 1, 'copy': 1, 'nionl': 1, '\\xa9\\xa2m': 1, 'jquery': 1, 'Seven': 2, 'b': 2, 'preidenil': 1, '17': 2, 'Sep': 1, 'breplcez209gfuncionRegExp1RegExp2reurn': 1, 'ypeofdocumen': 2, 'require': 3, 'exdpewindowlocionhref': 1, 'gre': 2, '2025': 1, 'r': 7, 'Duch': 2, 'Lnk': 3, 'were': 2, 'coninue': 2, 'downed': 2, 'hppen': 2, 'endDeendDenew': 1, 'ecuriy': 3, 'reurn': 2, 'modern': 1, 'crried': 2, 'cnvclock1hpicbbcicoukfrmeworkclock019hredmodulecnvclock1': 1, 'muic': 2, 'pry': 2, 'linked': 2, 'lie': 1, 'Pho': 1, 'Power': 1, 'ource': 1, 'Food': 2, 'mid': 1, 'Kinyrwnd': 1, '\\xa1\\xaeThe': 3, 'which': 1, 'Mlik': 3, 'wch': 1, 'Thu': 1, 'mpidcoverlyMnger': 1, 'Rugby': 1, 'conidered': 1, 'BBC': 20, 'price': 2, 'who': 6, 'Lucy': 1, 'DerollingExpirewindowbbcMndolinprooypelogfuncionprmlogcllhimndolinlogprmwindowbbcMndolinprooypeconverfuncionprmlogcllhimndolinconverprmhiconverfuncionfuncion': 1, 'wihou': 1, 'icvlideCookieNmenmefori0i': 1, 'fce': 4, 'Thi': 4, '70': 1, 'qurer': 1, 'Modi': 2, 'The': 13, 'Foobll': 2, 'Muic': 2, 'Google': 5, 'don': 2, 'url': 4, 'Locl': 2, 'doe': 1, 'Cron': 1, 'hi': 5, 'lerned': 2, 'error': 3, 'link': 1, 'fron': 1, 'Syri': 2, 'poible': 1, 'bomb': 2, 'phenomenon': 1, 'Wed': 1, 'Union': 1, 'Privcy': 1, 'Souik': 1, 'Spnih': 1, 'winlocion': 1, 'clorbpnel': 1, 'fine': 1, 'find': 1, 'We': 2, 'rering': 1, 'McLren': 2, '30degC': 2, 'Picure': 3, 'Explore': 1, 'French': 3, 'Wh': 7, 'robo': 2, 'only': 2, 'hd': 1, 'mxreurn': 1, 'Bieize': 2, 'Biw': 1, 'Digil': 3, 'over': 4, 'Chrlie': 4, 'hpicbbcicoukid03225moduleidcoverlyMnger': 1, 'bby': 1, 'proomchi': 1, 'de': 2, 'idCookieInnceimemp': 1, 'gelui1hpicbbcicoukfrmeworkgelui0913hredmodulegelui1': 1, 'Cmeron': 1, 'ged': 2, 'bbccouknvpromocrd': 1, 'promoLoded': 1, 'Help': 2, 'held': 1, 'h': 13, 'Nure': 2, 'ppiniwindow': 1, 'cre': 2, 'Urdu': 2, 'ypeof': 1, 'where': 1, 'Helh': 1, 'brin': 1, 'Driving': 1, 'INDONESIA': 1, 'windowlocionproocol': 1, 'ving': 1, 'Recommended': 1, 'revmp': 1, 'exper': 1, 'endDefuncion': 1, 'Ddd': 2, 'Rui': 1, 'idCookieInnce': 1, 'iPlyer': 2, 'downgrded': 1, 'wllow': 1, 'x3Ccrip': 5, 'wo': 1, '3': 1, 'ju': 1, 'Adele': 1, 'cker': 3, 'ire': 2, 'Brin': 2, 'Weher': 3, 'dveriing': 1, 'we': 5, 'urgeon': 1, 'wn': 6, 'Sri': 3, 'deporion': 2, 'killing': 1, 'Blck': 2, 'S': 1, 'irckdownlod': 1, 'len': 2, 'wfobjec2hpicbbcicoukfrmeworkwfobjec0110hredmodulewfobjec2': 1, 'ook': 1, 'come': 2, 'ciy': 2, 'developmen': 2, 'mong': 1, 'c': 1, 'rugby': 3, 'Mrcu': 2, 'iln': 1, 'oreDhigeIemoreDkeyvluehiveoreDreurn': 1, 'flewhilermchobjecPernrrreplceobjecPernOBJECTTOKENreurn': 1, 'monh': 1, 'hiiEnbledwindowbbcMndolinSorgeprooypegeIemfuncionkeyvr': 1, 'Scieni': 1, 'ung': 1, 'col': 1, 'ck': 4, 'Fridy': 3, 'Mke': 2, 'cn': 1, 'hve': 4, 'webie': 5, 'winnerwinnerdkeyendreurnwinnernew': 1, 'hiendThrow': 1, 'dded': 2, 'ele': 2, 'crmker': 1, 'Egle': 1, 'conin': 1, 'pp': 3, 'Brekpoinvendorcookiemonercookiemoner': 1, 'requireidcubr': 1, 'union': 1, 'Ar': 4, 'poied': 1, 'py': 4, 'been': 3, 'prllxlederbordnivempumpumiddlempuboommodulefeure1modulefeure2modulefeure3modulefeure4modulechnnelurli': 1, 'Zurcher': 2, 'Tuedy': 2, 'broher': 2, 'ph': 1, 'hke': 1, 'hpicbbcicoukid03225moduleidcidc1': 1, 'ogeTimeelereurn': 1, 'Menu': 1, 'life': 1, 'Flying': 1, 'depored': 1, 'A': 1, 'rnpln': 3, 'Wrren': 2, '6m': 1, 'dedly': 1, '2015': 2, 'Pick': 1, 'Nepli': 1, 'OZBEK': 1, 'rueelereurn': 1, 'ubrSubrididcubrpubliclyCcheblerue': 1, 'fered': 1, 'compiledhpicbbcicoukwwhp1890modulecompiled': 1, 'Cn': 2, 'oher': 2, 'Guidnce': 1, 'ifwindowbbccookieflgONbbccookieccepAllwindowbbccookiedibledocumenwrieon': 1, 'n': 2, 'will': 1, 'receive': 1, 'nulldopickedMhfloorMhrndommxmin1minwhilepicked': 1, 'lnguge': 1, 'requireidcidCookie': 1, 'involved': 2, '\\xec\\xed\\xdc\\xe2\\xe5\\xde': 1, 'milin': 2, 'vlideCookieNmenmeifnmemch': 1, 'region': 2, 'AZRBAYCAN': 1, 'Burmee': 1, 'dekopuilpopuphpicbbcicoukwwhp1890moduledekopuilpopup': 1, 'Yol': 1, 've': 2, 'On': 1, 'myor': 3, 'Ruin': 4, 'idppverion07176honmelbbccominecurehonmewwwbbccomldbbccomidrnlionverion03327ideniybeUrlhplkbcklivebbccoukideniycookieAgeDy730cceTokenCookieNmecknIDAATKNphwynmenullicAeUrlhpicbbcicoukidpp07176moduleidppidpp1Viewcidpurlhpidppibbccoukidpouh2uhorizeclienidbbccoukreponeypecodecopeopenidplybbcorerplynywplynyrfollownywfollownyrfvourienywfvourienyridmbicrmodulebbccoukepr3Dhp3A2F2Fwwwbbccom2F26locle3DenGBredirecurihp3A2F2Flbbccom2Fid2Fouh22Fconume2Fidpbbccouk': 1, 'Somli': 1, 'rin': 1, 'now\\xa1\\xaf': 2, 'inide': 5, 'mpidcidc1': 1, 'in': 31, '1ifhirT': 1, 'libuilhpicbbcicoukwwhp1890modulelibuil': 1, 'rie': 1, 'khng': 1, 'if': 10, 'BRASIL': 1, 'Thilnd': 1, 'perform': 1, 'Rowl': 1, 'Conc': 1, 'Andhr': 1, 'rely1hpicbbcicoukfrmeworkrely026hredmodulerely1': 1, 'higher': 1, 'homchwwwlminegelivebbci': 1, 'geniu': 2, 'hrow': 1, 'egmenpickedwindowbbcMndolinSorgefuncionnmevlideCookieNmenmehicookieNmenmehiiEnbledbbccookieiAllowedhicookieNmeruebbccookiecookieEnbledruewindowbbcMndolinSorgeprooypeeIemfuncionkeyvluevr': 1, 'I': 9, 'Redcr': 1, 'IS': 3, 'econd': 1, 'Hnnover': 1, 'mpidpp1': 1, 'Home': 1, 'righ': 1, 'Serch': 1, 'elec': 1, 'off': 3, 'undefined': 5, 'i': 14, 'Technology': 2, 'well': 2, 'rociy': 3, 'ber': 1, 'Fuure': 4, 'In': 5, 'y': 5, 'Trvel': 7, 'homepgehpicbbcicoukwwhp1890modulehomepge': 1, 'If': 1, 'cloe': 1, 'Adverie': 1, 'Service': 1, 'being': 2, 'nd': 18, 'frgile': 1, 'hrough': 2, 'Ocober': 2, 'kill': 2, '40': 3, 'behind': 2, 'documendocumenElemenclNme': 2, 'yer': 1, 'Uzbek': 1, 'bbcdocomconfigeIE7ruex3Ccrip': 1, 'muiny': 1, 'Wched': 1, 'web': 1, 'Azeri': 1, 'Englih': 1, 'expor': 3, 'Correponden': 1, 'Spor': 3, 'bigge': 1, 'fled': 1, 'bnk': 1, 'cue': 2, 'orbj': 1, 'idCookieInncehCookie': 1, '4': 1, 'By': 8, 'dium': 3, 'igned': 1, 'dhpicbbcicoukwwhp1890moduled': 1, 'dibledByCookie': 1, 'They': 2, 'emergency': 2, 'Germn': 2, 'bie': 2, 'bpplyhirgumendeleePolicyfuncioniemiAllowedfuncionreurn': 1, 'Air': 1, 'fleePolicyfuncionoreurn': 1, 'Ain': 1, 'Prdeh': 1, 'unie': 2, 'Shop': 2, 'ON': 1, 'Airbu': 1, 'Michell': 2, 'Trump': 1, 'obreurn': 1, 'liberingquo': 1, 'Juin': 1, 'heme': 3, 'eem': 2, 'Are': 2, 'ypeofcookieAphidMch1': 1, 'funcion': 7, 'Find': 1, 'Hindi': 1, 'cpgelui1overlyhpicbbcicoukfrmeworkgelui0913hredmodulegelui1overlyc': 1, 'RegExpOBJECTLITERALgreurn': 1, 'people': 5, 'impornce': 1, 'drkif': 1, 'olo': 1, 'innerHTMLfbppendChildblqCookieConinueBuonggeElemenByIdbbccookieconinuebuonblqCookieConinueBuononclickfuncionprenNoderemoveChildreurn': 1, 'pproch': 1, 'conen': 2, 'requireph': 1, 'Wembley': 4, 'bord': 2, 'Weern': 1, 'provided': 1, 'Lee': 2, 'for': 9, 'funcionubr': 1, 'Mel': 1, 'figmngerinclude': 1, 'medi': 2, 'However': 1, 'Cpil': 5, 'Hu': 1, 'proo': 1, 'explined': 3, 'Dirupor': 1, 'Don\\xa1\\xaf': 1, 'pek': 6, 'Do': 2, 'Acceibiliy': 3, 'Bngl': 1, 'Europe': 11, 'Term': 1, 'Swhili': 1, 'bl': 2, 'comprion': 2, 'exploion': 1, 'windowbbcredireciongeorue': 1, 'documencookieindexOfcknorbnopromo1': 1, 'bu': 2, 'Nigeri': 2, 'nme': 1, 'Lnguge': 1, 'Robbin': 1, 'Ue': 1, 'pln': 1, 'by': 3, 'hiding': 2, 'Indonein': 1, 'on': 16, 'imemp27hOc': 1, 'world': 4, '30000f': 2, 'Anhony': 2, 'US': 6, 'UN': 2, 'UK': 2, 'ferome': 1, 'bbcRequireMp': 2, 'op': 1, '1hrow': 1, 'own': 1, 'dekopuiweherhpicbbcicoukwwhp1890moduledekopuiweher': 1, 'lien': 2, 'Two': 1, 'Ng': 2, 'bbcdocomini': 1, 'ouh': 1, 'concer': 1, 'eing': 3, 'Buine': 4, 'Dedly': 2, 'bodie': 2, 'your': 6, 'Week': 2, 'loc': 1, '\\xac\\xaf\\xac\\xa1': 1, 'wrinkle': 2, 'her': 1, 'loe': 1, 'requirepp': 1, 'RegExp1': 1, 'live': 1, 'bbccomdiplynonediplynone': 1, 'progre': 1, 'NZ': 2, 'Cookie': 2, 'rck': 1, 'incen': 1, 'gin': 1, 'November': 2, '1445925600000': 1, 'Chinee': 4, 'Jme': 1, 'Perin': 2, 'ouofconrol': 1, 'ligh': 1, 'hp': 1, 'Feured': 1, 'hemeini': 1, 'Deh': 1, 'quofully': 1, 'hn': 3, 'ho': 3, 'eheme': 1, 'be': 9, '224': 1, 'khin': 1, 'AFRIQUE': 1, 'he': 39, 'relevn': 1, 'hird': 2, 'glory': 2, 'rilbelledbyorbnv': 1, 'up': 4, 'Leon': 1, 'plne': 3, 'jquery19hpicbbcicoukfrmeworkjquery030hredmodulejquery191': 1, 'requirei1': 2, 'lochourl': 1, 'embedded': 1, 'ue': 4, 'Singpore': 1, 'TURKCE': 1, 'Jpnee': 2, 'expirenew': 1, 'Sinhl': 1, 'gone': 1, 'bump3empbbcicoukempbump3bump3': 1, 'KIRUNDI': 1, 'Englnd': 3, 'documengeElemenByTgNmebody0': 2, 'Briih': 1, 'How': 6, 'Cnd': 1, 'ino': 1, 'reproducive': 2, 'Above': 1, 'New': 11, 'ing': 2, 'Afric': 1, 'HAUSA': 1, '\\xf1\\xe9\\xd9\\xfe': 1, 'nhem': 1, 'Dve': 2, 'jignl1hpicbbcicoukfrmeworkjignl036modulejignl1': 1, 'no': 4, 'TV': 2, 'creer': 2, 'Poruguee': 1, 'iddLbelbbchid': 1, 'dekopuivideoplyerhpicbbcicoukwwhp1890moduledekopuivideoplyer': 1, 'Richrd': 2, 'diiden': 1, 'flood': 2, 'dekopuiennireulhpicbbcicoukwwhp1890moduledekopuiennireul': 1, 'downide': 1, '5': 1, 'hre': 2, 'you': 9, 'relive': 2, 'Ukrinin': 1, 'ny': 1, 'urvivor': 2, 'flebbccookieePolicybbccookieredPolicyvr': 1, 'll': 5, 'hey': 1, 'wwwheme': 1, 'funcionrifrindexOfOBJECTTOKEN1reurn': 1, 'helh': 2, 'chriy': 2, 'Abou': 1, 'Sie': 1, 'mke': 1, 'Jewih': 2, 'irckexernl': 1, 'Ac': 2, 'Fder': 1, 'e': 6, 'Ad': 2, 'Recion': 1, 'Ai': 3, 'vlid': 1, 'confirm': 3, 'An': 2, 'Preiden': 1, 'ricvr': 1, 'u': 2, 'Mo': 1, 'funcionidCookie': 1, 'rligh': 2}\n"
     ]
    }
   ],
   "source": [
    "import string\n",
    "import pickle\n",
    "\n",
    "f = open('www.bbc.com.html.txt','r')\n",
    "source = f.read()\n",
    "\n",
    "string1 = ''\n",
    "string2 = ''\n",
    "string3 = ''\n",
    "string4 = ''\n",
    "\n",
    "notuse = [ 'a', 'and', 'are', 'as', 'at', 'be', 'but', 'by', 'for',\n",
    "          'if', 'in', 'into', 'is', 'it', 'no', 'not', 'of', 'on', 'or',\n",
    "          's', 'such', 't', 'that', 'the', 'their', 'then', 'there', \n",
    "          'these', 'they', 'this', 'to', 'was', 'will', 'with']\n",
    "l = []\n",
    "r = []\n",
    "k = []\n",
    "p = []\n",
    "\n",
    "for line in source.splitlines():\n",
    "    line = line.lstrip()\n",
    "    for word in line:\n",
    "        if word == '<':\n",
    "            string1 += '\\n'\n",
    "        string1 += word\n",
    "        if word == '>':\n",
    "            string1 += '\\n'\n",
    "            \n",
    "for line in string1.splitlines():\n",
    "    line = line.lstrip()\n",
    "    for word in line:\n",
    "        string2 += word\n",
    "    l.append(string2)\n",
    "    string2 = ''\n",
    "\n",
    "for x in range(0,len(l)):\n",
    "    if l[x] != '':\n",
    "        r.append(l[x])\n",
    "\n",
    "for x in range(0,len(r)):\n",
    "    if (r[x][0] == '<') or (r[x][0] == '/') or (r[x][0] == '-'):\n",
    "        r[x] = ''\n",
    "        \n",
    "for x in range(0,len(r)):\n",
    "    if r[x] != '':\n",
    "        k.append(r[x])\n",
    "        \n",
    "for x in range(0,len(k)):\n",
    "    string3 += k[x]\n",
    "    string3 += ' '\n",
    "\n",
    "\n",
    "limit = len(string3)\n",
    "\n",
    "x = 0\n",
    "\n",
    "while x<limit:\n",
    "    for y in range(0,len(string.punctuation)):\n",
    "        if string3[x] == string.punctuation[y]:\n",
    "            string3 = string3.replace(string3[x],'')\n",
    "            limit = len(string3)\n",
    "    for y in range(0,len(notuse)):\n",
    "        if string3[x] == notuse[y]:\n",
    "            string3 = string3.replace(string3[x],'')\n",
    "            limit = len(string3)\n",
    "    x += 1\n",
    "    \n",
    "p = string3.split()\n",
    "words = {}\n",
    "frequency = {}\n",
    "\n",
    "for i in p:\n",
    "    if not i in words.keys():\n",
    "        words[i]=1\n",
    "    else:\n",
    "        words[i]=words[i]+1\n",
    "        \n",
    "format = \"%s : %d\"\n",
    "  \n",
    "for i in words:\n",
    "    frequency[i] = words[i]\n",
    "    \n",
    "print frequency\n",
    "f.close()\n",
    "save = open('www.bbc.com.words.frequency.txt','w')\n",
    "pickle.dump(frequency,save)\n",
    "save.close()"
   ]
  },
  {
   "cell_type": "code",
   "execution_count": 20,
   "metadata": {
    "collapsed": false
   },
   "outputs": [
    {
     "name": "stdout",
     "output_type": "stream",
     "text": [
      "{'Wned': 2, 'NYT': 2, 'In\\xa1\\xaf': 1, 'Sedon': 1, 'NYC': 3, 'inpu': 1, 'Inviible': 1, 'coloredShreoolhrole': 1, 'Voice': 1, 'windownewrelicnewrelicwindowNREUMvr': 1, 'Reilience': 1, 'under': 1, 'Terrorim': 2, 'Trnpln': 2, 'Cncer': 1, 'DRAPE': 1, '2000vr': 1, 'figh': 1, 'coninued': 1, 'cion': 1, 'Reurn': 2, 'hpic01nycomj2buildvideoplyerexended20ppRequireuhmr': 1, 'Ge': 3, 'hp1nycomewiSecond': 1, 'nchor': 1, 'Go': 4, 'Some\\xa1\\xaf': 1, 'force': 2, 'recommendedLbelTehrole': 1, 'urlhpgrphic8nyimecomnewgrphic20150225elecionnvigioneimgeelecion2016logopngbckgroundrepe': 1, 'likely': 1, 'Ce': 2, 'urlhpjon8nyimecomlidehow20151117worldeuropeinprilifeinoyenormlhmlhedlineIn': 1, 'blue': 1, 'fmily': 1, 'Mrylnd': 1, 'nex': 1, 'new': 2, 'ner': 3, 'Bigger': 1, 'meure': 1, 'ubcripion': 1, 'ScreCoeur': 2, '20pxborderboom': 1, 'Mgzine': 9, 'Americ\\xa1\\xaf': 2, 'kicker': 1, 'hving': 1, '200px': 1, 'Shed': 1, 'Villge': 1, 'HlfCenury': 1, 'Grphic': 2, 'Home': 6, 'Repuion': 1, 'Aricle': 2, 'Secion': 3, '18h': 2, 'Book': 4, 'Microof': 1, 'oi0foro': 1, 'would': 2, 'Ruin': 1, 'Rule': 2, 'officil': 2, 'Anhem': 1, 'ExChief': 1, '93': 2, '97': 1, 'me': 2, 'wore': 1, 'orney': 1, 'mo': 1, 'pgeMngerrckingFireEvenQueue': 1, 'mp': 1, 'my': 1, 'imemp': 1, 'Lie': 1, 'Le': 2, 'Lin': 1, 'LEARN': 1, 'Bruni': 1, 'Lord': 2, 'oberve': 1, 'ehpdocumenlocionproocolrcehphpwwwgooglegervicecomgjgpjvr': 1, 'AhedprenddClnyhpBriefingh3coninHolidy': 1, 'end': 1, 'ene': 1, 'provide': 1, 'drying': 1, 'Figh': 5, 'how': 4, '\\xa1\\xb0I': 1, 'env': 1, 'bcolumnconiner': 1, 'LATEST': 2, 'Billion': 1, 'nyfrnklin': 2, '0067eNme': 1, '50px': 1, 'Will': 3, 'Arrondiemen': 2, 'Minneo': 1, 'All': 1, 'PricrediFrnk': 1, 'Lloyd': 2, 'f8e9d2borderboom': 1, 'Picure': 1, 'over': 1, 'Brook': 2, 'JOANNE': 1, 'cenerpnbopregion': 1, 'Liing': 2, 'Depuie': 1, 'KATRIN': 1, 'ime': 1, 'Drem': 1, 'JOE': 1, 'MARTIN': 1, 'Him': 2, 'SAT': 2, '5pplicion': 1, 'Bobby': 3, 'Mobile': 2, 'Edioril': 3, '0vrin': 1, 'NYTABTESTengine': 1, 'finncil': 1, 'Cr': 1, 'Indin': 1, 'Indie': 1, 'ieindexbrndinglink': 1, 'l': 5, 'Nmed': 1, 'erriory': 1, 'Here\\xa1\\xaf': 1, 'KANNAPELL': 1, 'pddinglef': 1, 'SANDRA': 1, 'nvigion': 1, 'Holy': 2, 'Promo': 1, 'Supec': 2, 're': 3, 'hpic01nycomjmruhgrowl': 1, 'evcued': 2, 'DegeTimeconcirgumenvr': 1, 'ennn0undefinedypeof': 1, 'Word': 2, 'Work': 1, 'ryTypekilodcche': 1, 'nrrequirereurn': 1, 'nyhpBriefing': 1, 'Seinem': 3, 'dicuion': 1, 'upperce': 1, 'oifObjecdefineProperyObjeckeyryreurn': 1, 'Counry': 1, 'bullepierced': 2, 'declred': 1, 'preiden': 1, 'Reerch': 1, 'dwrie': 2, 'brillin': 1, 'nonelie10': 1, 'ereurn': 1, 'Amher': 1, 'B': 1, 'Mle': 2, 'embled': 1, 'DifurhEuropen': 1, 'Gene': 1, 'TRIP': 1, 'Poible': 2, 'Cmpu': 1, 'Cnceled': 1, 'minue': 1, 'Unie': 1, 'See': 1, 'Someime': 1, 'reurn': 4, 'ppuppplyreurn': 1, 'Them': 1, 'Erly': 1, 'cereurn': 1, 'horA': 3, 'lericon': 1, 'involving': 1, 'nyhpElecion2016Heder': 8, 'prolled': 5, 'Side': 1, 'reurned': 1, 'DefinceummryThough': 1, 'Scene': 1, 'QA': 1, 'KIRK': 1, 'AgencyimgecroplrgeHorizonl375heigh250widh375urlhpic01nycomimge20151117worldeurope20151118PARIShplideLL0B20151118PARIShplideLL0BlrgeHorizonl375jpgurlnullhorurlnullpprovedforyndicionruedid100000004042796lideurl20151118PARIShplide6AXQimgeypephoocpionfull': 1, 'Relly': 1, 'Chri': 1, 'expnded': 1, 'edinfoNREUMinfonfgeElemenByTgNmecrip0ifeeliceneKeyepplicionIDncpfuncionnn': 1, 'Bid': 1, 'Imge': 1, '12pxdiply': 1, '400nyhpGifguide': 1, 'Qurerbck': 1, 'hre': 2, 'Fixe': 2, 'NYTimecom': 2, 'ediioninernionl': 1, '1if': 1, 'Educion': 4, 'dy': 1, 'Over': 2, 'Wlmr': 1, 'ponored': 1, 'ALEXANDER': 1, 'impornlie10': 1, 'rfcreeElemencriprrcdprooegennprenNodeinerBeforernfuncion': 1, 'Recommended': 1, 'Spek': 1, '12pxheigh': 1, 'John': 2, 'Ruh': 3, 'Rui': 1, 'Huning': 1, 'Tool': 1, 'Tooh': 1, 'Choice': 1, 'credi': 2, 'ome': 1, 'ypicl': 1, 'debe': 1, 'wh': 3, 'Ancien': 1, 'empermen': 1, 'Whie': 2, 'KAUFMAN': 1, 'horSecrery': 1, 'mrginlef': 3, 'Columni': 1, 'defince': 1, 'Kerry': 2, 'DALIA': 1, 'Wihin': 4, 'been': 2, 'much': 1, 'Obervory': 1, 'ImgeimgecroplrgeHorizonl375heigh250widh375urlhpic01nycomimge20151117worldeurope20151118PARIShplideN9FY20151118PARIShplideN9FYlrgeHorizonl375jpgurlnullhorurlnullpprovedforyndicionruedid100000004042776lideurl20151118PARIShplide1XDDimgeypephoocpionfull': 1, 'GuideprenddClnyhpGifguide': 1, 'boldcolor': 1, 'life': 1, 'GermnyNeherlnd': 1, 'liveupdemodule': 1, 'mch': 1, 'Breker': 1, 'Encouner': 1, 'Rocker': 2, 'Elie': 1, '10llocion': 3, 'Cn': 1, 'ruedwrie': 1, 'CenuryOld': 1, 'n': 6, 'erclleoinoeoi1reurn': 1, 'Follow': 1, 'Mnheim': 1, 'conr': 1, 'Menu': 1, 'Sien': 1, 'in': 47, '7pplicion': 1, 'Progrm': 2, 'ie': 2, 'id': 8, 'if': 1, 'GoldTone': 1, 'Bolder': 1, 'Uncommon': 1, 'funcionrenew': 1, 'BREEDEN': 1, 'Room': 2, 'memoril': 2, 'Sve': 2, 'Kenucky': 1, 'TJX': 1, 'PreimgecroplrgeHorizonl375heigh250widh375urlhpic01nycomimge20151117worldeurope20151118PARIShplideOPWW20151118PARIShplideOPWWlrgeHorizonl375jpgurlnullhorurlnullpprovedforyndicionruedid100000004042774lideurl20151118PARIShplideNBDGimgeypephoocpionfull': 1, '0064eNme': 1, 'rilhelveicneriffonize': 1, 'Serch': 5, 'mediphoomediumhumb': 1, '0066eNme': 1, 'Mind': 1, 'Mine': 1, '18pxlineheigh': 1, 'Porfolio': 1, 'Trvel': 4, 'Supermn': 1, 'Adverie': 1, 'hpic01nycomjuhgrowldefulvh': 1, 'commenpnel': 1, 'yer': 1, 'urlhpgrphic8nyimecompckgeimgehomepgebriefingdogermpng': 1, 'Debe': 2, 'ele': 1, '3px': 1, 'ricle': 3, 'D': 2, 'Obm\\xa1\\xaf': 2, 'Dy': 3, 'Morning': 1, 'AgencyimgecroplrgeHorizonl375heigh250widh375urlhpic01nycomimge20151117worldeurope20151118PARIShplideNBDG20151118PARIShplideNBDGlrgeHorizonl375jpgurlnullhorurlnullpprovedforyndicionruedid100000004042815lideurl20151118PARIShplideLL0Bimgeypephoocpionfull': 1, 'Wine': 1, 'Upho': 1, 'Topic': 1, 'Inide': 2, '21px': 1, 'officer': 3, 'Lorde': 1, 'Ari': 1, '000mrginboom': 1, 'Pkin': 2, 'old': 1, 'people': 2, 'Percen': 1, 'loing': 1, 'Life': 1, 'Led': 2, 'Secre': 1, 'for': 19, 'Lyf': 1, 'Reool': 2, '429': 1, 'Hi': 4, 'Pmel': 2, 'He': 1, 'School': 1, 'promoe': 1, 'Depo': 1, 'producionpublihedmchHeigh': 1, 'AURELIEN': 1, '0px': 2, 'Louiin': 1, 'o': 49, 'SUV': 1, 'Lemon': 2, 'Anhony\\xa1\\xaf': 1, 'ISIS': 6, 'Glimpe': 1, 'gin': 2, 'Chinee': 1, 'DNA': 1, 'rObjecprooypehOwnProperynexporD5DuLPfuncionenfuncion': 1, 'PricrediKenzo': 1, 'referheding': 1, 'windowNREUMNREUMnrrequirefuncionenfuncion': 1, 'Voe': 1, 'Tuedy': 6, '20ph': 1, 'roonooexporreurn': 1, 'Vow': 1, 'Riing': 1, 'nypeof': 1, 'Suppor': 1, 'Sie': 6, 'Sid': 2, 'libefore': 1, 'remrk': 1, 'no': 4, 'nd': 29, 'Andrew': 2, 'republic': 1, 'Sr': 1, 'E': 2, 'Poker': 1, 'Porri': 1, 'ereurneobjecnfuncionn1ewindow0ieofuncionreurn': 1, 'died': 1, 'longer': 1, 'Win': 1, 'h6hovernyhpElecion2016Heder': 1, 'Wih': 13, 'So': 1, 'Sn': 1, 'ime\\xa1\\xb1': 1, 'Republic': 2, 'Hiory': 2, 'Deign': 4, '\\xa1\\xb0Thi': 1, 'Evening': 1, '0': 7, 'Nyimecom': 1, '811': 1, '812': 1, '816': 1, 'Tech': 2, 'Where': 1, 'div': 2, 'llWchingModulehrole': 1, 'Rome\\xa1\\xaf': 1, 'dichrged': 1, 'Gre': 1, '\\xa1\\xaeWhy': 1, 'Rel': 5, 'Finding': 4, 'windowliveUpdeFlexypeLoded': 2, 'Sewr': 2, 'inlineblock': 1, 'Bruce': 1, 'Overeime': 1, 'Ford': 1, 'Gwker': 2, 'Explore': 1, 'Qui': 1, 'Along': 1, 'Me': 1, 'Replic': 1, 'oldier': 3, 'opvriion': 1, 'Mo': 3, 'bckground': 3, 'helveic': 2, 'funcionPorl': 1, 'Mp': 1, 'My': 3, 'hp1nycomehomepge20151113101625imgefoundionlogo': 1, '000nyhpElecion2016Heder': 2, 'dopionevenid7600evenlugprickliveupdeheder': 1, 'bou': 2, 'boh': 1, 'NYTABTESTengineiUerVrinwchingNoScroll': 1, 'Deniovn': 1, 'Technology': 1, '\\xa1\\xaeAccommoding\\xa1\\xaf': 1, 'Leer': 1, 'Thumb': 1, 'purui': 1, 'When': 2, 'Tking': 1, 'Feivl': 1, 'SETH': 1, 'only': 1, 'Bngldeh': 1, 'erch': 2, 'Lunch': 3, 'live': 1, 'hemenewhedline': 2, 'wching': 1, 'HipHop': 1, 'Time': 13, '0036eNme': 1, '0051eNme': 1, 'ueful': 1, 'Down': 2, 'flo': 1, 'Socil': 1, 'believed': 1, 'Our': 1, 'nyfrnklinArilneriffonize': 1, 'Children': 2, 'flexDinercive': 1, 'Sundy': 3, 'widge': 2, 'Lep': 2, 'icPh': 2, 'Fculy': 1, '1': 1, 'H': 2, 'foundionviewpgemnger': 2, 'Indury': 1, 'DegeTimevr': 1, 'ANDREW': 1, 'norepe': 1, 'viied': 1, 'Mourner': 1, 'beUrl': 1, 'View': 1, 'Pge': 2, '700fonfmily': 1, 'Newleer': 1, 'Elecion': 1, 'Relive': 1, 'orgnized': 1, 'Tee\\xa1\\xaf': 1, 'ubpoen': 1, 'Grime': 1, 'frmer': 1, 'Mrke': 1, 'Aron': 1, 'police': 5, 'hpic01nycomvideovhbuildvh2xmin': 1, 'Columbi': 1, 'World': 7, '931': 1, 'Shu': 1, 'flexD': 1, 'EDITORIAL': 2, 'Tower': 1, 'Breking': 1, 'S\\xa1\\xaf': 1, 'neriffonize': 1, 'Skip': 2, 'Cfe': 3, 'ucceed': 1, 'fefuncion': 1, '81817exrnform': 1, 'olid': 2, 'em': 2, 'A': 10, 'I\\xa1\\xaf': 1, 'Sving': 3, 'norepemrginboom': 1, 'ndrd': 1, 'Snowpck': 1, 'fr': 1, 'Icelnd': 1, 'Germny': 2, 'ex': 1, 'Added': 1, 'uhoriie': 1, 'Joy': 1, 'r1on0iArry0': 1, 'Welcome': 1, 'Culure': 1, 'looking': 1, 'Job': 1, 'Journey': 2, 'Key': 1, 'Bilic': 2, 'ANNE': 1, 'ory': 2, 'Cover': 1, 'Offended': 1, 'Tlk': 3, 'brower': 1, 'Conribuor': 1, 'Widen': 1, 'Inernionl': 4, 'Money': 1, 'Virgini': 1, 'NYTDFlexTypepuhrgeFT100000004043414ypeFdingSlideShowdopionwidh177heigh126jonphpjon8nyimecomlidehow20151117nynowyoureveningbriefinghplidehowjonplinkphoophoourlcredidvnceddely3limijonp0rendiionrgeoverridebbreviecredirue': 1, 'Even': 3, 'Pr': 1, 'windowlocionerchindexOfporlvrinwchingNoScroll': 1, 'one': 6, 'open': 1, 'Holidy': 1, 'nonecolor': 2, 'friend': 1, 'becue': 2, 'Uerine': 2, 'Corpore': 1, 'enoovr': 1, 'ribbonChrbeMoEmiledhrole': 1, 'copy': 1, 'Love': 2, '17': 1, 'onrconexiegonexporgo7eSDFheefuncionennexporeQJf3x3funcionenfuncion': 1, 'require': 3, 'Lierry': 2, 'were': 2, 'Blck': 1, '11hHour': 1, 'fighing': 2, 'Porlcreenyinhpwching': 1, 'dium': 2, 'DE': 1, 'Inquiry': 1, '1pxnyhpElecion2016Heder': 1, 'onigh': 1, 'pry': 1, 'Dn': 1, 'requireporlpp': 1, 'De': 1, 'Univeriy': 1, 'online': 1, 'Dw': 1, 'Subleie': 1, 'funcion': 13, 'Off': 3, 'Drop': 1, 'fce': 1, 'Applicion': 1, 'liveupdeflexypev4j': 1, 'Todyrquo': 2, 'Glier': 1, 'Chep': 1, 'Viru': 1, 'Chef': 1, '999fonyle': 1, '20vr': 1, 'PricrediBenoi': 1, 'Privcy': 1, 'Wer': 1, 'impleoppoll': 1, 'ground': 1, 'We': 2, 'Wn': 1, 'Berlin': 1, 'Wh': 2, 'Poliic': 6, 'Plee': 1, 'Wr': 2, 'Wy': 2, 'generl': 1, 'ureurn': 1, 'Modiglini': 1, 'cpil': 1, 'Turn': 2, '0833vrin': 1, 'erroricrediIn': 1, '928': 1, 'r1onridiegonexporgo7eSDFhidfuncionennexporeXL7HBIG9z0Blfuncionenfuncion': 1, 'Anger': 1, '922': 1, 'liveupdeflexypepromo': 1, 'Von': 1, 'uppercelie10': 1, 'Funding': 1, 'BENNHOLD': 1, 'up': 2, '1923': 2, 'BOARD': 2, 'foundionmin': 2, 'imporn': 1, 'Jindl': 3, 'Memo': 1, 'Forgive': 2, '05625rem': 1, 'Pece': 3, 'pgeMnger': 2, 'ouide': 1, 'mong': 1, 'Pleure': 1, 'Opinionor': 1, 'windowmgnumproceFlglimiFbrikSvemoreFollowSuggeionunfollowCommenhomepgeOpinionKickerCfollowFeurellTheEmphevideoVHSCovervideoVHSHomepgeCoverddiionlOpinionRegionhpViewbiliyminiNvCounnewEvenHierrchyfreeTriliniderLunch': 1, 'nymmFdingSlideShow': 2, 'erlier': 1, 'Through': 1, 'Uer': 1, 'We\\xa1\\xafre': 1, 'color': 2, 'hve': 4, 'Menlly': 1, 'Jzz': 1, 'Rce': 2, 'upde': 1, 'poll': 1, 'longheld': 1, '0875vrin': 1, 'Hcker': 1, 'Feedbck': 1, 'Known': 1, 'BURNS': 1, '500': 1, '637': 1, 'Glove': 1, 'KIMIKO': 1, 'Mkeup': 1, 'ALDERMAN': 1, 'Chmpu00c9lyu00e9e': 1, 'hde': 1, 'Open': 1, '\\xa1\\xaeAby\\xa1\\xaf': 1, 'myor': 1, 'Couch': 1, 'DIY': 1, 'brod': 1, 'Rqq': 1, 'inquiry': 1, 'JONATHAN': 1, 'NYTDNYTD': 2, 'I': 9, 'ccolumncolumnmxHeigh': 1, 'Myery': 1, 'Televiion': 2, 'Hnnover': 2, 'weep': 1, 'Own': 1, 'Aide': 1, 'In': 8, 'ccclie10': 1, 'ireurnnew': 1, 'normlpnbopregion': 1, 'Service': 2, 'Log': 1, 'ehndlece1uwindowfudocumene2vr': 1, 'Spor': 4, 'mhedlie10': 1, 'Sregy': 1, 'Pregnncy': 2, 'Spoiler': 1, 'NEIL': 1, 'Aung': 1, 'Tour': 1, '\\xa1\\xaeHe\\xa1\\xaf': 1, 'upgrde': 1, 'Syle': 4, 'Producer': 1, 'Show': 3, '\\xa1\\xaeI\\xa1\\xaf': 1, 'Pid': 1, 'occer': 1, 'Myh': 1, 'impleExendedBylinehrole': 1, 'uden': 1, 'Terror': 1, 'New': 21, 'dopionwidh177heigh126jonphpjon8nyimecomlidehow20151117nynowyoureveningbriefinghplidehowjonplinkphoophoourlcredidvnceddely3limijonp0rendiionrgeoverridebbreviecredirue': 1, 'Crckle\\xa1\\xaf': 1, 'Effec': 1, 'erving': 1, 'homepgeFeedfleinerciveflemxiem3': 2, 'refer': 1, 'Term': 2, 'Bhroom': 1, 'reporedly': 1, 'Rock': 1, 'boommrgin': 1, 'Drf': 1, 'on': 18, 'Hrdwre': 1, 'of': 54, '09vrin': 1, 'FrncePree': 1, 'rehndleoe1ie2undefinedypeof': 1, '000diply': 1, 'oy': 1, 'ou': 1, 'Frnce': 4, 'or': 4, 'op': 3, 'Adp': 1, 'No': 1, 'Cloed': 1, 'your': 1, 'Chnging': 1, 'Exploiion': 1, 'lof': 1, 'Normn': 1, 'Though': 1, 'rquo': 34, 'hey': 2, 'lounging': 1, 'NY': 2, 'Defe': 1, 'Jme': 1, 'Kling\\xa1\\xaf': 1, 'Clified': 1, '506': 1, 'Guide': 4, 'TribouillrdAgence': 1, 'Jpnee': 1, '12pxfonweigh': 1, 'Merchndiing': 1, 'Briih': 1, 'Blog': 1, 'How': 4, 'reeecreenexporeerrqeeQJf3xhndlefuncionennexporeD5DuLPXL7HBIfuncionenfuncion': 1, 'errorim': 1, 'Webber': 2, 'you': 2, 'requirejqueryny': 1, 'Hichhiker': 2, 'Chronicling': 1, 'Tckle': 1, 'BuyerFmily': 1, 'Aler': 2, 'Frnce\\xa1\\xaf': 2, 'CNN': 1, 'LIZ': 1, 'Gey': 1, 'Beween': 2, 'bulk': 1, 'Cler': 2, 'Fir': 3, 'mny': 1, 'requirefoundionmin': 3, 'SrupSyle': 1, 'Nion': 1, 'Themelve': 1, 'Chrcer': 1, '1px': 2, 'rifnvr': 1, 'Gif': 3, 'joined': 1, 'hring': 1, 'nbp': 1, 'Only': 1, 'Welling': 1, 'megebed': 1, 'ribbon': 1, 'noneborder': 1, 'Chirmn\\xa1\\xaf': 1, 'Yhoo': 1, 'cn': 1, 'NFL': 1, 'Doen\\xa1\\xaf': 1, 'Briefing': 1, 'fleoplimi': 1, 'queion': 1, '40pxnyhpGifguide': 1, 'Indicrimine': 1, 'Conc': 1, 'Pleci': 1, 'inveigion': 2, 'Top': 1, 'Screening': 1, 'Opinion': 12, 'Explorer': 1, 'impornnyhpBriefing': 1, 'Croword': 4, 'more': 1, 'Sy': 2, 'dvier': 1, 'Correcion': 1, 'Sp': 1, 'Roger': 1, 'we\\xa1\\xafve': 1, 'More\\xa1\\xaf': 1, 'Se': 6, 'Chnge': 2, 'none': 3, 'Nominee': 1, 'Ee': 5, 'governmen\\xa1\\xb1': 1, 'Dvid': 2, 'Your': 4, 'inlineblockcolor': 1, 'Criic\\xa1\\xaf': 1, 'foundion': 1, 'requirehpic01nycombijgxgxj': 1, 'Abdelm': 1, 'uoring': 1, 'Sepping': 1, 'Tempur': 1, 'Loding': 3, 'Venein': 1, 'Acker': 1, 'Lower': 1, 'Don': 2, 'Emil': 1, 'Foreign': 2, 'conducing': 1, 'Syrin': 2, 'Kelly': 1, 'inlineblockfonfmily': 1, 'Deep': 2, 'renewing': 1, 'Film': 1, 'hppli0elForHpdproohphpmrkonlodivr': 1, 'ObjecdefineProperyenvlueowrible0enumerble1occhireurn': 1, 'Womn': 1, 'ccolumncolumn': 2, 'Diric': 1, 'Keep': 1, 'Sound': 2, 'evening': 1, 'Tchochke': 1, 'Senion': 1, 'food': 1, 'ye': 1, 'L': 1, 'Me\\xa1\\xaf': 1, '0nme': 1, 'nexporiffuncionypeof': 1, '05vrin': 6, 'requirehomepgeminrequirejqueryny': 1, 'Poll': 1, 'End': 1, 'eenvr': 1, 'u2014': 1, 'ATSV': 1, 'Mui': 1, 'More': 10, 'hpic01nycomj2buildvideo20videofcoryrequirevideoPlyli': 1, 'windowNREUMNREUMNREUMinfobeconbmnrdneliceneKeyb5bcf2eb4pplicionID4491446rncionNmeYwFXZhRYVhAEVUZcX1pLYEAPFlkTFRhCXUAqueueTime0pplicionTime471GuidgenTokenuerAribueerrorBeconbmnrdnegenjgennewreliccomnr686minj': 1, 'Verion': 1, 'refleced': 2, 'drink': 1, 'diry': 1, 'Fny': 1, 'Houe': 2, 'I8217': 1, 'ET': 11, 'Clime': 2, 'Block': 4, 'ciyconenkickerecionnmeworldubecionnmeeuropepublicionde1447736400id100000004042765imgelidehowinrolidedid100000004042781lideurl20151118PARIShplideT9FUimgeypephoocpionfull': 1, 'People': 1, 'nrrequireforvr': 1, 'Bron': 2, 'Ey': 2, 'w': 3, 'Theer': 4, 'Er': 1, 'Fhion': 2, '1pplicion': 10, 'romnimeerif': 1, 'Everyhing': 1, '0033eNme': 1, 'Mco': 1, 'BARNARD': 1, 'Mch': 1, 'Bmb\\xa1\\xaf': 2, 'Chmp201ly233e': 1, 'Belgium': 1, 'nyfrnklinrilhelveicnerif': 1, 'norml': 1, 'ediiondomeic': 1, 'Slh': 1, 'rifle': 1, 'Coninue': 1, 'Sle': 3, 'king': 1, 'Puzzle': 2, 'Securiy': 2, '2020': 1, 'Ren': 1, '400lineheigh': 1, 'Depend': 1, 'Rich': 1, 'Movie': 2, '8pxmrginop': 1, 'Mnge': 1, 'Jckon': 1, 'Gov': 1, 'Power': 2, 'Food': 7, 'Seing': 1, '\\xa1\\xaeRp': 1, 'pidPoFivePckMockhrole': 1, 'finding': 1, 'previou': 1, 'M': 2, 'Governor': 1, 'Thn': 2, 'Chief': 1, 'Thi': 1, 'The': 37, 'rObjecprooypehOwnProperynexpor13funcionenfuncion': 1, 'Frn231oi': 1, 'Miliry': 2, 'weigh': 2, 'locionpli0pbeconbmnrdneerrorBeconbmnrdnegenjgennewreliccomnr686minjdnexporoffeioriginfeurefddEvenLienerfddEvenLienerDOMConenLodedo1uddEvenLienerlod1fchEvenonredyechngeruchEvenonlodmrkfirbyei11223hndleD5DuLPloderfuncionennexporeG9z0Bl12funcionenfuncion': 1, 'Shrinking': 1, 'Viewed': 1, 'odocumengeElemenByTgNmecrip0oprenNodeinerBeforeo': 1, 'Hill': 1, 'impornheigh': 1, 'find': 2, '\\xa1\\xaeA': 1, 'Berd': 1, '\\xa1\\xaeL': 3, 'Diry': 1, 'Hollnde': 2, 'French': 4, 'TimeimgecroplrgeHorizonl375heigh250widh375urlhpic01nycomimge20151117worldeurope20151118PARIShplideT9FU20151118PARIShplideT9FUlrgeHorizonl375jpgurlnullhorurlnullpprovedforyndicionruedid100000004042785lideurl20151118PARIShplideOYINimgeypephoocpionfull': 1, 'homepge20151113101625jhredhomepge': 1, 'CrScen': 1, 'during': 2, 'Milin': 1, 'exlign': 1, 'Help': 1, 'Nerly': 1, 'nbpCommen': 5, 'cre': 1, 'crh': 1, 'Helh': 4, 'For': 1, 'enreurn': 1, 'Ply': 2, 'Wching': 1, 'Mmml': 1, 'won': 1, 'Pln': 2, 'PricrediTyler': 1, 'Hiryli': 1, 'Reul': 1, 'effec': 1, 'uppercefonize': 1, 'LngdonEuropen': 1, 'Tody': 3, 'pckge': 1, 'Moren': 1, 'Influenil': 1, 'Fridy': 2, 'SUSSMAN': 1, 'Bi': 1, 'horThe': 2, 'eId': 1, '50pxlie10': 1, 'o0o': 1, 'pr': 1, 'Bu': 2, 'Tody\\xa1\\xaf': 2, 'Rober': 1, 'cionlink': 1, 'whoe': 1, 'o0or': 1, 'Ebol': 1, 'ePgeViewNmeddPgeAcioneCuomAribuefinihedddToTrceinlineHinoiceErrorofuncionenwindowNREUMnpinnexporwindowNREUM112213hndleD5DuLPgofuncionennexpore7eSDFh7eSDFhfuncionenfuncion': 1, '\\xa1\\xaf80': 1, 'Old': 1, 'Surveillnce': 1, 'while': 1, 'College': 1, 'Prephoo': 2, 'Allie': 1, 'Concern': 1, 'voe': 1, 'Wordply': 1, 'Plyer': 1, 'ril': 2, 'Tie': 1, 'homepge20151113101625jhomepgevideoFcory': 1, '2pxflo': 1, 'imeimempdiplynone': 1, 'homepge20151113101625jhomepgepplicion': 1, 'Thnked': 1, '9': 2, 'errori': 2, 'TeierReuerimgecroplrgeHorizonl375heigh250widh375urlhpic01nycomimge20151117worldeurope20151118PARIShplide1XDD20151118PARIShplide1XDDlrgeHorizonl375jpgurlnullhorurlnullpprovedforyndicionruerelede': 1, 'Ill': 1, 'Aboud': 1, 'Col': 1, 'inlineblockmrginop': 1, 'counrie': 1, 'velcroSocilFollowhrole': 1, 'Agin': 2, 'Seek': 2, 'Abdelhmid': 1, 'Anwer': 1, 'Mreillie\\xa1\\xaf': 1, 'y': 5, 'T': 4, 'Living': 2, 'Cmryn': 2, 'Deour': 1, 'oryheding': 1, 'muicl': 1, 'On': 2, 'TimeimgecroplrgeHorizonl375heigh250widh375urlhpic01nycomimge20151117worldeurope20151118PARIShplide6AXQ20151118PARIShplide6AXQlrgeHorizonl375jpgurlnullhorurlnullpprovedforyndicionruedid100000004042769lideurl20151118PARIShplideN9FYimgeypephoocpionfull': 1, 'Drgne': 1, 'Longer': 1, 'requiremp': 1, 'Die': 3, 'Glori': 3, 'Ou': 1, 'like': 1, 'd': 3, 'ricleeId': 5, 'Afer': 3, 'Cohen': 1, 'Fligh': 1, 'ignorn': 1, 'Find': 1, 'Suden': 3, 'pidPoFivePckhrole': 1, 'conen': 1, 'Whoe': 2, 'TimeimgecroplrgeHorizonl375heigh250widh375urlhpic01nycomimge20151117worldeurope20151118PARIShplideOYIN20151118PARIShplideOYINlrgeHorizonl375jpgurlnullhorurlnullpprovedforyndicionruedid100000004042772lideurl20151118PARIShplideOPWWimgeypephoocpionfull': 1, 'Tigh': 1, 'ried': 2, 'medi': 1, 'homepgeeId': 5, 'omrkdomConenifuncion': 1, 'be': 2, 'SXSW': 1, 'run': 1, 'Fridy8217': 1, 'bu': 2, 'Idho': 1, 'br': 1, 'by': 7, '\\xa1\\xaeSinr': 1, 'Rod': 2, 'wheher': 1, 'block': 1, 'uppor': 2, '\\xa1\\xaeDemocr\\xa1\\xaf': 1, 'Spce': 1, 'freurnonemincreeulienercevenffuncion': 1, 'Buine': 4, '10pxfonweigh': 2, 'effecive': 1, 'Republicn': 2, 'Every': 1, 'ccomplice': 1, 'JOYCE': 1, 'Come': 1, 'Wve': 1, 'hoped': 1, 'Fll': 1, 'NYTDFlexTypepuhrgeFT100000004037217ypeHPLiveUpde3dopionevenid7600evenlugprickliveupdeheder': 1, 'windowlocionerchindexOfdiblegx': 1, 'Doing': 1, 'nerifexrnform': 1, 'Soon': 1, 'ul': 1, 'uo': 1, 'geFlexDdopionif': 1, 'ciy': 1, 'Cnv': 1, 'vried': 1, 'urlhpi1nycomimgeiconiconler12x1281817png': 1, 'Preidenil': 2, '\\xa1\\xaeSPQR': 1, 'ruggling': 1, 'To': 2, 'nonebcolumn': 1, 'flexDevenidif': 1, 'Cron': 1, 'TV': 3, 'meengeruggeion': 5, 'bcolumn': 3, 'Ilmic': 2, 'requirehomepgemin': 1, 'Refugee': 3, 'cndide\\xa1\\xaf': 1, 'SreeSyle': 1, 'YoungAdul': 1, 'e': 1, 'Ad': 1, 'nonenyhpGifguide': 1, 'dirced': 1, 'Ak': 1, 'ArBe': 1, 'An': 2, 'Preiden': 2, 'Ar': 11, 'Sell': 1, 'PricrediPierre': 1, 'Mnheim\\xa1\\xaf': 1, 'McFARQUHAR': 1, 'gl': 2, 'Jindl\\xa1\\xaf': 1, 'plce': 1, 'We\\xa1\\xaf': 1, 'Noe': 2, 'documen': 1, 'Dnce': 2, 'rnprenpdding': 1, 'Buyer': 1, 'Mking': 1, 'Now': 1, 'Duke': 1, '713': 1, 'relee': 1, 'upiciou': 2, 'Druckermn': 2, 'Kyi': 1, 'oryhemeummry': 1, '\\xa1\\xaeShe\\xa1\\xaf': 1, 'evr': 1, 'columnfirchild': 1, 'Index': 1, 'Ru00e9publique': 2, 'cfe': 2, 'imple': 1, 'video': 2, 'GRYNBAUM': 1, '0069eNme': 1, '0061eNme': 1, 'Spleon': 1, 'Link': 1, 'Lind': 1, 'Obiurie': 2, 'Frnk': 1, 'lef': 2, 'phemecommendiplynone': 1, 'Socilly': 1, 'explore': 1, 'Technicolor': 1, '18px': 2, 'Ediion': 1, 'Guine': 1, '0pxnyhpGifguide': 1, '700bckgroundimge': 1, 'hpic01nycomlivecovergeliveidflexD': 1, 'Nominion': 1, 'wih': 3, 'Robero': 1, 'Free': 1, '700bckground': 1, 'Plce': 6, 'Heigh': 1, 'rcheing': 1, 'from': 2, 'Lend': 1, 'Hun': 2, 'Driven': 1, 'fer': 2, 'Noebook': 1, 'Wedding': 1, 'Fl': 1, '18pxbckgroundpoiion': 1, 'Novel': 1, 'windowmgnumwrieLogomll': 1, 'heir': 4, 'Defin': 1, 'Slide': 1, 'Growing': 1, 'Cloe': 1, 'Clog': 1, 'Reiler': 1, 'pckgecrediPhilipp': 1, 'Video': 7, 'UPDATES': 2, 'Linkler\\xa1\\xaf': 1, 'Police': 2, 'locl': 1, 'fonize': 2, 'Policy': 1, 'Inercive': 1, 'reponible': 1, 'HIV': 1, 'nvigionlie10': 1, '0667vrin': 1, 'Subcripion': 5, 'homepge20151113101625jfoundionhred': 1, 'cmpign': 1, 'fugiive': 1, 'Cliff': 1, 'de': 4, 'Mry': 1, 'imge': 1, 'Mrh': 2, 'Mrk': 1, 'foundionlegcymin': 1, '948': 1, 'fonfmily': 4, 'Srong': 1, 'One': 1, 'lie10': 1, 'exdecorion': 2, 'including': 1, 'Subcribe': 3, '30pxlie10': 1, 'i\\xa1\\xaf': 2, 'byline': 1, 'norepewidh': 1, 'll': 3, '25pxleerpcing': 1, 'li': 2, 'BAB8B3diply': 1, '2015': 2, '2016': 2, 'Th\\xa1\\xaf': 1, 'Bder': 3, '01llocion': 1, 'brred': 1, 'Gme': 2, 'demogrphic': 1, 'documenredyfuncion': 1, 'impornfonweigh': 1, 'prmen': 1, 'Pri': 15, 'Accoun': 1, 'From': 10, 'illy': 1, 'onexpore0clloexporfuncionnvr': 1, 'FrnceEnglnd': 1, 'hlf': 1, 'NYTABTEST': 1, 'eelengh0forvr': 1, 'Very': 1, 'Wrier': 1, 'Older': 1, 'Zimbbwe': 1, 'Inerne': 1, '1vrin': 1, 'qui': 1, 'Declred': 1, 'FREYTASTAMURA': 1, 'keep': 1, 'Dyon': 2, 'geFlexD': 2, 'h6cive': 1, 'oe1nreurn': 1, 'Review': 13, 'Sree': 1, 'Pron': 1, 'owner': 1, 'Proe': 1, 'ying': 1, 'Couin': 1, 'ANDREA': 1, 'Timeline': 1, 'croll': 1, 'Edior': 3, 'Srike': 2, 'Trophy': 1, 'JOHNSON': 1, 'elnupdewidge7600elnulm': 1, 'Secrery': 1, 'STEVENSON': 1, 'Child': 1, '97px': 1, 'Sfey': 1, 'lidehoweId': 1, 'Unied': 1, 'Rmp': 1, 'Adverier': 1, 'crried': 1, 'Pper': 2, 'need': 2, 'Soccer': 2, 'lile': 2, '0llocion': 1, 'R233publique': 2, '0012eNme': 1, 'Gewy': 1, '\\xa1\\xaeThe': 1, 'which': 1, 'Mindy': 1, 'regy': 2, 'who': 2, '\\xa1\\xaePike': 1, 'wihou': 1, 'Amzon': 2, 'enifrcllenreurn': 1, 'Auomobile': 2, 'Some': 1, 'Pop': 1, 'Shikler': 1, 'Syri': 3, 'Mulimedi': 2, 'Sruggling': 1, 'Public': 2, 'reurndocumenredyfuncion': 1, '21pxfonweigh': 1, 'knowledge': 1, 'pdding': 1, 'envr': 2, 'Serie': 2, 'York': 14, '5px': 2, 'Digil': 1, 'Chrlie': 1, '075rem': 1, 'Compny': 1, 'Queion': 2, 'diply': 4, 'nyhpSpliCode': 3, 'Cowin': 1, 'THE': 2, 'Eefn': 2, 'Re': 1, 'h': 7, 'Accue': 1, 'FDA': 1, 'Ginburg': 3, 'Experimen': 1, 'Pu': 1, 'Fmily': 4, 'Sene': 4, 'Juli': 1, 'Sheen': 1, 'Connecicu': 1, 'huffleRecommendionhrole': 1, 'PM': 11, 'BeckerReuer': 1, 'Ielf': 2, 'normlcycrediTyler': 1, '13pxfonweigh': 1, 'Jury': 1, 'lo': 2, 'ck': 8, 'bckgroundcolor': 1, 'OpEd': 5, 'Her': 1, 'Loe': 1, 'documencreeElemencripync0ypeexjvcripvr': 1, 'Lon': 2, 'uch': 1, '\\xa1\\xaeEverybody': 1, 'COHEN': 1, 'horPolice': 1, 'heigh': 1, 'cene': 2, 'Priin': 5, '\\xa1\\xed': 1, 'Emiled': 1, 'coche': 1, '0063eNme': 1, 'bull': 1, 'becme': 1, 'rvr': 1, 'Number': 1, 'will': 1, 'Frnu00e7oi': 1, 'MORE': 1, 'vr': 8, '0074eNme': 1, 'You': 5, '6pxbckgroundize': 1, 'Friendly': 1, 'Hope': 1, 'mn\\xa1\\xaf': 1, 'nychelenhmgeorgiime': 1, 'Trcker': 1, 'Sore': 4, 'ince': 1, 'Rodin': 1, 'GABRIEL': 1, 'Ride': 1, 'Phoogrphy': 1, 'Cdillc\\xa1\\xaf': 1, 'i': 10, 'Blio': 1, 'Need': 1, 'Muic': 6, 'Murry': 1, 'TMQ': 1, 'Mke': 4, 'Richrd': 1, 'Beloved': 1, 'Mucle': 1, 'gher': 1, 'Be': 6, 'wen': 1, 'exrnform': 1, 'Br': 1, 'By': 18, 'pien': 1, 'nvr': 1, 'Poliicl': 1, 'pnblyoulyou': 1, 'rlienerelenghremienvoidrqrqerqerqepuhnvr': 1, 'know': 1, 'mrginop': 3, 'heer': 1, 'Uic': 1, 'Jwbone': 1, 'incree': 2, 'Rivl': 2, '11px': 2, 'Terdjmn': 1, 'pnblyou': 2, 'Sui': 1, 'Quiz': 1, 'Excep': 1, 'Suu': 1, 'relEeSerchhrole': 1, 'Conribuing': 1, 'home': 1, 'Mynmr': 1, 'h3coninThe': 1, 'wned': 1, 'Ack': 2, 'googleggoogleggooglegcmdgooglegcmdfuncionvr': 1, 'ilence': 1, 'Governmen': 2, '002llocion': 1, '1llocion': 6, 'Skin': 2, 'MICHAEL': 1, 'Up': 2, 'horMourner': 1, 'Thnkgiving': 2, 'murdered': 1, 'coordining': 1, 'column': 1, 'US': 5, 'enfececoncnfuncion': 1, 'repecive': 1, 'NYTDFlexType': 4, 'h6': 7, 'Two': 1, 'iuing': 1, 'Cmpign': 1, 'Kuffmnn': 1, '18pxpdding': 1, '1980': 1, '0052eNme': 1, 'rck': 1, 'progrm': 1, 'November': 1, 'nyhpGifguide': 4, 'Queried': 1, 'megeconiner': 1, 'HIGGINS': 1, 'Science': 4, 'HickThe': 2, 'Inider': 3, 'hi': 6, '6pxheigh': 1, 'rreurnvr': 1, 'Deb': 2, 'Ded': 2, 'Trdemrk': 1, 'hd': 2, 'he': 71, 'MYDANS': 1, 'pinnedMhedhrole': 1, 'Live': 2, 'pidPoDriverhrole': 1, 'Tex': 2, 'nyhpSpliCodelyou': 1, 'rcompleefredySeofuncion': 1, 'ecionopinion': 2, '\\xf1\\xe9\\xd9\\xfe': 1, 'broder': 1, 'Crillon': 2, 'Million': 2, '40': 1, 'Delivery': 1, 'Know': 2, 'Celebrion': 1, 'AugeinAocied': 1, 'Expnd': 4, 'U': 2, 'Abou': 4, 'h3kicker': 2, 'bck': 1, 'Mnhn': 1, 'Refined': 1, 'Defince': 1}\n"
     ]
    }
   ],
   "source": [
    "import string\n",
    "import pickle\n",
    "\n",
    "f = open('www.nytimes.com.html.txt','r')\n",
    "source = f.read()\n",
    "\n",
    "string1 = ''\n",
    "string2 = ''\n",
    "string3 = ''\n",
    "string4 = ''\n",
    "\n",
    "notuse = [ 'a', 'and', 'are', 'as', 'at', 'be', 'but', 'by', 'for',\n",
    "          'if', 'in', 'into', 'is', 'it', 'no', 'not', 'of', 'on', 'or',\n",
    "          's', 'such', 't', 'that', 'the', 'their', 'then', 'there', \n",
    "          'these', 'they', 'this', 'to', 'was', 'will', 'with']\n",
    "l = []\n",
    "r = []\n",
    "k = []\n",
    "p = []\n",
    "\n",
    "for line in source.splitlines():\n",
    "    line = line.lstrip()\n",
    "    for word in line:\n",
    "        if word == '<':\n",
    "            string1 += '\\n'\n",
    "        string1 += word\n",
    "        if word == '>':\n",
    "            string1 += '\\n'\n",
    "            \n",
    "for line in string1.splitlines():\n",
    "    line = line.lstrip()\n",
    "    for word in line:\n",
    "        string2 += word\n",
    "    l.append(string2)\n",
    "    string2 = ''\n",
    "\n",
    "for x in range(0,len(l)):\n",
    "    if l[x] != '':\n",
    "        r.append(l[x])\n",
    "\n",
    "for x in range(0,len(r)):\n",
    "    if (r[x][0] == '<') or (r[x][0] == '/') or (r[x][0] == '-'):\n",
    "        r[x] = ''\n",
    "        \n",
    "for x in range(0,len(r)):\n",
    "    if r[x] != '':\n",
    "        k.append(r[x])\n",
    "        \n",
    "for x in range(0,len(k)):\n",
    "    string3 += k[x]\n",
    "    string3 += ' '\n",
    "\n",
    "\n",
    "limit = len(string3)\n",
    "\n",
    "x = 0\n",
    "\n",
    "while x<limit:\n",
    "    for y in range(0,len(string.punctuation)):\n",
    "        if string3[x] == string.punctuation[y]:\n",
    "            string3 = string3.replace(string3[x],'')\n",
    "            limit = len(string3)\n",
    "    for y in range(0,len(notuse)):\n",
    "        if string3[x] == notuse[y]:\n",
    "            string3 = string3.replace(string3[x],'')\n",
    "            limit = len(string3)\n",
    "    x += 1\n",
    "    \n",
    "p = string3.split()\n",
    "words = {}\n",
    "frequency = {}\n",
    "\n",
    "for i in p:\n",
    "    if not i in words.keys():\n",
    "        words[i]=1\n",
    "    else:\n",
    "        words[i]=words[i]+1\n",
    "        \n",
    "format = \"%s : %d\"\n",
    "  \n",
    "for i in words:\n",
    "    frequency[i] = words[i]\n",
    "    \n",
    "print frequency\n",
    "f.close()\n",
    "save = open('www.nytimes.com.words.frequency.txt','w')\n",
    "pickle.dump(frequency,save)\n",
    "save.close()"
   ]
  },
  {
   "cell_type": "code",
   "execution_count": 21,
   "metadata": {
    "collapsed": false
   },
   "outputs": [
    {
     "name": "stdout",
     "output_type": "stream",
     "text": [
      "{'Fir': 2, 'fnofrxSizefhirTimenew': 1, 'code': 32, 'nrconexhicxoemiiniTimerConexn0i0fnrnvr': 1, 'Cuomer': 1, 'rnifenvr': 1, 'nifringypeof': 1, 'Time': 2, 'hp': 1, 'onlyPromoion': 1, 'Oufier': 2, 'Gif': 4, 'oereurn': 1, 'Republic': 1, 'hpwwwgooderchcomuergigynew': 1, 'during': 1, 'ON': 6, 'irfnnrnmenonymouhiwrpped1oemiiniEvenConexehiwrppedelefuncionypeof': 1, 'ORDERS': 1, 'improperly': 1, '0funcion': 1, 'MLB\\xa2\\xe7': 1, 'ver': 1, 'eligible': 2, 'vilbiliy': 1, 'documen': 1, '12018098': 1, 'windownewrelicnewrelicwindowNREUMvr': 1, 'Monique': 1, 'Mondy': 1, 'nen0i0fnnullnfuncion': 1, '0': 1, 'rericion': 2, 'Se': 1, 'excluded': 2, 'under': 1, 'Smple': 1, 'buine': 1, 'Now': 1, 'dveried': 1, 'obinedOffer': 1, 'uonlodnhionlod0lod00ypehionlodhixhrCbSrnew': 1, 'Tble': 1, 'GQ': 1, 'window3windowXMLHpRequeXMLHpRequeprooypeXMLHpRequeprooypeddEvenLienerwindowXMLHpRequeXMLHpRequeprooypeXMLHpRequeprooypeddEvenLienerCriOSenvigoruerAgen40ionfnrfuncionc1ionfnerrfuncionerhihrown0nrionfnendfuncionhihrownc': 1, 'void': 3, 'wihin': 3, 'moun': 2, 'redeemble': 1, 'excluive': 1, 'rending': 1, 'polihing': 1, 'documenhOwnProperyddEvenLienerObjecgeProoypeOfnforvr': 1, 'Goodhop': 8, 'pply': 13, 'pplyhiorgumen1funcion': 1, 'Produc': 2, 'hixhrGuidnhiolCb1onddEvenLienerendfuncionee': 1, 'oifuncionreurn': 1, 'Gp': 6, '1800FLOWERSCOM': 1, 'Prin': 2, 'qulifying': 1, 'oenexporn0clloexporfuncionevr': 1, 'Fireone': 1, 'frozen': 1, 'Ge': 28, 'windowNREUMNREUMloderconfigxpidUgQDWVVACQIEXVFbAQwindowNREUMNREUMnrrequirefuncionenfuncion': 1, 'Downlod': 1, 'evr': 3, 'refer': 1, 'Memberhip': 1, 'rreurn': 2, 'documencreeElemencrip': 1, 'Neimn': 1, 'ued': 2, '3Q': 1, 'Rico': 1, 'Only': 3, 'eAribueype': 1, 'Advnge': 1, 'dicreion': 1, 'cnno': 9, 'ouofock': 1, 'Tlbo': 1, 'chrge': 7, 'JSONringifylenghcchereurn': 1, 'unued': 1, 'Tylor': 1, 'noher': 1, 'null0': 1, 'edocumencreeElemennwindowlocionrehrefrporeporvr': 1, 'inernionlly': 1, 'Cliforni': 1, 'equivlen': 4, 'Receive': 1, 'e0e': 1, 'Americn': 1, 'lenghifobjecypeof': 1, 'SAVE10SALE': 1, 'Thi': 9, 'new': 4, 'Line': 1, 'bird': 1, 'ken': 2, 'ehiprmrhimericifhiendedhiended0forvr': 1, 'hndling': 1, 'PeSfe': 1, 'ubcripion': 1, 'Reebok': 2, 'renfuncion': 1, 'Mu': 3, 'combinion': 1, 'Suede': 1, 'Doe': 1, 'SB': 1, 'lern': 1, 'Cpr': 1, 'deduced': 1, 'every': 1, 'nfehixhrGuidhixhrGuidndelee': 1, 'produc': 5, 'Urbn': 1, 'receive': 3, 'queion': 1, 'Liquor': 1, 'rObjecprooypehOwnProperyeexporn25funcionefuncion': 1, 'ddiionl': 2, 'dimond': 1, '1201m': 1, 'prior': 3, 'efconcefuncion': 1, 'envr': 1, 'proof': 1, 'Acceorie': 4, 'INC': 1, 'Lid': 1, 'DegeTime0cchureurnfuncionypeof': 1, 'merchndie': 7, 'TripleGurd': 1, 'Promoion': 1, 'Top': 1, 'When': 1, 'Poen': 1, 'wih': 9, 'Member': 2, 'drollpixid': 1, 'limi': 1, 'Nvy': 5, 'Vriy': 1, 'reponeTypefrrybufferblobjonreponereponeTexunfifurrxSizeuhimeOriginvr': 1, 'noi0foro': 1, 'nonlodhiendnonxhrlodddedfuncionevr': 1, 'Dollr': 1, '11232015': 1, 'Pecocom': 1, 'Junk': 1, 'ccen': 1, 'onrconexigoeexporngo7eSDFheefuncioneeexporQJf3x3funcionfuncion': 1, 'GIFT': 2, 'Finih': 1, 'pree': 2, 'neecreer1neexpornrinPlcewindowrequeAnimionFrmemozRequeAnimionFrmewebkiRequeAnimionFrmemRequeAnimionFrmerfnonrfrfuncion0r0fn126eeQJf3x11funcionefuncion': 1, 'Sole': 1, 'only': 12, 'UPS': 1, 'live': 2, 'fer': 2, '6': 2, 'expire': 51, 'Bomb\\xa2\\xe7': 1, 'more': 2, 'Boohoocom': 1, 'Siemp': 1, 'Ben': 1, '12182015': 1, 'on': 30, 'Heger': 1, 'Required': 1, '99': 1, 'phone': 3, 'nique': 1, 'Ani\\xa2\\xe7': 1, 'Aden': 1, 'popele': 1, '97': 1, 'LTL': 1, 'izeifundefinedypeof': 1, 'join': 1, 'Acive': 1, 'mo': 1, 'Helzberg': 1, 'SHIPPING': 4, 'Mde': 1, 'mu': 3, 'minimum': 2, 'del': 74, 'mp': 30, 'Priciping': 1, 'Minneonk': 1, 'following': 2, 'Our': 2, 'populr': 1, 'CHASE': 1, 'my': 13, 'Your': 11, 'Inc': 1, 'chnge': 5, 'uueddEvenLieneruhiliener1onxhrcbimefuncionenhicbTimeehionlodClled0hiclled1hiclledhiolCbhionlodClledfuncionypeof': 1, 'Plce': 1, 'give': 2, 'ePgeViewNmeddPgeAcioneCuomAribuefinihedddToTrceinlineHinoiceErrorofuncionewindowNREUMenpieeexporwindowNREUM124225hndleD5DuLPgofuncioneeexpor7eSDFh7eSDFhfuncionefuncion': 1, 'Sundy': 1, 'conolelogiconole01nindexOfdevidev01nindexOfnrdevinrDev0cchinrDevroninernlerrorfuncioneckidevronfnerrfuncionnrerckideveNR': 1, 'locion': 1, 'Food\\xa2\\xe2': 1, 'exclude': 1, 'Policy': 1, 'roeooexporreurn': 1, 'uomiclly': 1, 'Norh': 1, 'ubjec': 7, 'furher': 2, 'Mir': 1, 'end': 1, 'Verificion': 1, 'LL': 1, 'boxing': 1, '1': 4, '12312015': 3, 'hop': 1, 'FIPROGUARD': 1, 'revr': 1, 'nenreurn': 1, 'A': 2, 'DegeTimehirTime4redySeeuuvr': 1, 'Women\\xa1\\xaf': 2, 'Oher': 2, 'DegeTimevr': 2, 'Cenrl': 1, 'Excluion': 31, 'Sur': 1, 'per': 3, 'nonclernce': 1, 'eonlodiendecchnryemiinernlerrorncchrforvr': 1, '11182015': 5, 'CrPecocom': 1, 'GOOD10NOV': 2, 'All': 5, 'TOMS': 2, 'Touring': 1, 'One': 1, 'IDme': 1, 'UncughExcepionencchfryrierrfnew': 1, 'funcionrnew': 1, 'Dicoun': 3, 'GmeSop': 1, 'FRIENDS': 1, 'order': 11, 'FRONTLINE': 1, 'eu0rcbTimehicbTimeoxhrerhirTimefuncion': 1, 'Blue': 1, 'enew': 1, 'n0n': 1, 'ener': 4, 'Purple': 1, '20687053': 1, 'mrked': 5, '11252015': 3, 'on1ereurn': 1, 'reerve': 1, 'innceof': 8, 'including': 1, 'informionhiourceURLehilinenfuncion': 1, 'Luren': 4, '03152016': 1, 'Shipping': 12, 'Brookfield': 1, 'before': 1, 'Body': 1, '25': 20, 'le': 3, 'ime': 13, '22': 1, 'DegeTimeonfnendfuncionehixhrCbSremixhrcbimenew': 1, 'll': 53, 'Men\\xa1\\xaf': 4, 'FREESHIP1': 1, 'Veern': 1, 'Fcory': 2, 'VRBO': 1, 'window': 1, 'reurnobjecefuncione1window0iofuncionreurn': 1, 'enggemen': 2, 'eAribueync': 1, '2015': 6, 'Cegorie': 1, 'fih': 2, '2016': 1, 'excepion': 1, 'good': 2, 'Addiionl': 2, 'dcreeElemencrip': 1, 'Siewide': 2, 'dgeReponeHederXNewRelicAppDdecdpli': 1, 'L': 1, '3dy': 2, 'wier': 1, 'DegeTimehilienerfuncionryborypeiprmbored0lodypeicllediolCbionlodClledfuncionypeof': 1, 'Ern': 1, 'xe': 6, 'Repe': 1, 'regier': 1, 'Lndx27': 3, 'documenredyfuncion': 1, 'Ahle': 1, 'In': 3, 'offerPecocom': 1, '0ifundefinedypeof': 1, 'Cue': 1, 'rock': 1, 'Polo': 2, 'Donion': 1, 'ddcdpplyunreurn': 1, 'eypeof': 1, 'r1iffuncionypeof': 1, 'End': 5, 'Men': 1, 'ee': 2, 'eg': 1, 'whie': 1, 'fr': 1, 'eGif': 2, 'NREUMxpidin': 1, 'Build': 1, 'windowddEvenLiener': 1, 'our': 2, 'RUSH': 2, 'GOODSHOP': 1, 'f12ddEvenLienerin': 1, '85': 1, 'Limied': 9, 'hibSrDenownonfnendfuncionevr': 1, 'evenL': 1, 'cuomer': 3, 'Promo': 25, 'documengeElemenByTgNmehed': 1, 'UGG': 1, 'ZenniOpicl': 1, 're': 11, 'noice': 4, 'orderPromoion': 1, 'rb': 1, 'rfieArg': 3, 'Spred': 1, 'DegeTimeconcirgumenvr': 1, 'Join': 2, 'eoovr': 1, 'icke': 1, 'Work': 3, 'free': 2, 'efuncion': 1, 'nrrequirereurn': 1, 'plee': 1, 'freurnonemiecreeclienerevenffuncion': 1, 'Thin': 1, 'fle': 1, 'ore': 5, 'neerhndleo1i2loderfeuren03vr': 1, 'Bloch': 1, 'ufuncion': 1, 'Tke': 1, 'nrrequireforvr': 1, 'RlphLurencom': 1, 'App': 1, 'Vii': 1, 'Sign': 2, 'Skecher': 1, 'Reon': 1, 'hipmen': 2, 'Ey': 1, '100000': 1, 'w': 1, 'refue': 1, 'cXMLHpRequeprooypecchOwnProperyddEvenLienercObjecgeProoypeOfccncele': 1, '1000': 1, 'Even': 1, 'blckou': 1, 'pge': 1, 'SALE': 5, 'ffexc': 1, 'SPRING': 1, 'IN': 1, 'rncion': 1, 'one': 5, 'Duy': 1, 'clernce': 1, 'Bby': 1, 'ehiwrppede1e126eeQJf3xgo7eSDFh9funcionevr': 1, 'ring': 2, 'differ': 1, 'AM': 1, 'Inore': 3, 'Mch': 1, 'h19wdbvgvo4w7w8n8pg': 1, 'Holidy': 1, 'rlienerlenghremienvoidrqrqrqrqpuhevr': 1, 'PETCO': 1, 'Bundle': 1, 'Sereo': 1, 'purched': 2, '2': 1, 'Subol': 1, 'Inock': 1, 'RED\\xa2\\xe2': 1, 'hicxvr': 1, '\\xa8\\xcf': 1, 'Hdv': 1, 'Bellbnd\\xa2\\xe7': 1, 'promoionl': 3, 'ocie': 1, 'jcrewfcorycom': 1, 'rediribued': 1, 'Lbel': 2, 'Puero': 1, 'windowNREUMNREUMNREUMinfobeconbmnrdneerrorBeconbmnrdneliceneKey1545260183pplicionID1149096rncionNmeJlpWR0LD1pTExdcWwhQF1pXAAZOqueueTime0pplicionTime46genjgennewreliccomnr768minj': 1, 'elec': 4, 'Sle': 50, 'copy': 1, 'pckging': 1, '10': 12, 'Code': 51, 'Goodconfiggigycllbckurl': 1, '14': 1, '17': 2, '18': 1, 'minue': 1, 'Mchcom': 1, 'Cyber': 1, 'excluion': 1, 'ddree': 1, 'See': 56, 'Limi': 2, 'Blck': 2, 'Lnd': 1, 'Sel': 1, 'cricke': 1, 'rquo': 51, 'Creer': 1, 'Merniy': 1, 'cn': 1, 'priciping': 1, 'Depoi': 1, 'duie': 1, 'SHOPTOIT': 1, 'reurn': 8, 'YFGA48GHLM': 1, 'crrc': 2, 'MODEeflg': 1, '111515': 2, 'Freigh': 1, 'Rericion': 2, 'Fnduel': 1, 'Vn': 1, 'ObjecdefineProperyevlueowrible0enumerble1occhireurn': 1, '11162016': 1, 'crrier': 1, 'Terriorie': 1, '57': 1, 'ieforvr': 1, 'Price': 4, 'UncughExcepionenhimegeUncugh': 1, 'Po': 1, 'which': 1, 'online': 10, '4AD4V3OBVVFAHIBK7SHDOO': 1, 'inernionl': 3, 'Kid': 1, 'Theymile': 1, 'Off': 39, '11192015': 1, 'elephone': 1, 'price': 5, 'previou': 6, 'Ludlow': 1, 'Bonu': 1, 'wihou': 4, 'Arrivl': 2, 'regulrlypriced': 1, '10reurn': 1, 'brnd': 1, 'Apply': 1, '05202016': 1, 'The': 3, 'ennreurn': 1, '3DAY': 1, 'reurned': 1, 'inore': 2, 'ke': 1, 'nierprmrhonhonmenporrphnmenphnmemeOriginnmeOriginifwindowXMLHpRequeXMLHpRequeprooypeXMLHpRequeprooypeddEvenLienerCriOSenvigoruerAgenloderfeurexhr0vr': 1, 'iiremoveEvenLienerihiliener1ifeboredifrdurionnew': 1, 'm': 1, 'windowddEvenLienerlod': 1, 'doe': 3, 'Single': 1, 'wrfifuncion': 1, 'wwwp4ucom': 1, 'Clernce': 3, 'Miliry': 1, 'nenifrcllereurn': 1, 'Del': 2, 'Pryce': 1, 'if1vr': 1, 'How': 3, 'Tool': 1, 'nonrnferble': 2, 'Web': 2, 'rcllonieooi1reurn': 1, 'Hrbor': 1, 'o': 43, 'cerifice': 1, 'Privcy': 1, 'ET': 6, 'grvel': 1, 'ending': 1, 'Flower': 1, 'Bnn': 1, 'Under': 2, 'documenlocionproocol': 1, 'frudulenly': 1, 'eecree1c2fcucdwindowXMLHpRequeponlodonerroronboronlodronlodendonprogreonimeoueexporwindowXMLHpRequefuncionvr': 1, 'We': 2, 'eropolecom': 1, 'Quickche': 2, 'limiion': 1, '11212015': 4, 'Free': 13, 'wrficommndpuhrgumen': 1, 'Plee': 2, 'iem': 15, 'employee': 1, 'he': 21, 'over': 2, 'purche': 20, 'hip': 1, 'Unied': 1, 'OFF': 43, 'pinere': 1, '11202015': 2, 'de': 2, '999': 1, 'Cowie': 1, 'Kno': 1, 'ervice': 1, 'dy': 4, 'Blnce': 1, 'Deli39': 1, 'rObjecprooypehOwnProperyeexpornD5DuLPfuncionefuncion': 1, 'nonprofi': 1, 'Re': 1, 'previouly': 1, 'h': 4, 'Over': 4, 'redeemed': 1, 'JCrew': 4, 'opion': 1, 'Ju': 1, 'crd': 4, 'reil': 2, 'x': 4, 'ypeof': 1, 'PM': 2, 'where': 1, 'vinge': 1, 'DegeTime01112103841253625eeQJf3xhndleD5DuLPloderG9z0Bl5funcionifwindowddEvenLienervr': 1, 'For': 1, 'reched': 1, 'proce': 1, 'windowperformncewindowperformnceddEvenLienerwebkireourceimingbufferfullfuncionrbReourcewindowperformncegeEnrieByTypereourcewindowperformncewebkiClerReourceTiming1windowperformnceddEvenLienerreourceimingbufferfullfuncionrbReourcewindowperformncegeEnrieByTypereourcewindowperformnceclerReourceTiming1documenddEvenLienercrolle1documenddEvenLienerkeypree1documenddEvenLienerclicke111121039eeQJf3xhndleD5DuLPloderG9z0Bl8funcionefuncion': 1, 'reecreeeexpornneerrqeeQJf3xhndlefuncioneeexporD5DuLPXL7HBIfuncionefuncion': 1, 'Shield': 1, 'ving': 1, 'Dependen': 1, 'Pen': 1, 'frgrnce': 2, 'windowchEvenonlod': 1, 'Pe': 1, 'Be': 2, 'Ticke': 2, 'TOMScom': 1, 'Meure': 1, 'rhimerico0ihiifrovr': 1, 'Shopping': 1, 'PT': 1, 'fcebook': 1, 'muliple': 1, 'Colin': 1, 'Priced': 3, 'EGif': 1, '3': 2, 'vilble': 3, 'embroidery': 1, 'nfinPlcehipfnofuncion': 1, 'eryiconoleconolelogcchevr': 1, 'vry': 2, 'deil': 3, 'Peco': 2, 'Chooe': 2, 'we': 1, 'do': 1, 'Arryprooypelicecllrgumenreurn': 1, 'Pryredy': 1, 'clener': 1, 'ffuncion': 1, 'Blobizereurn': 1, 'by': 4, 'nd': 118, 'Deigner': 1, '0c1ioninernlerrorfuncionrierrnew': 1, 'midnigh': 1, '20': 15, 'Dimond': 2, 'wy': 1, 'Apprel': 3, 'c': 3, 'f': 2, 'Mrcu': 1, '50reurn': 1, 'dgeElemenByTgNmecrip0': 1, 'coninenl': 1, 'GoodGoodGoodSegmenfuncionhipiKeywindownlyicwindownlyicwindownlyicmehodidenifygrouprckpgepgeviewliredyononceoffrckLinkrckFormrckClickrckSubmiwindownlyicfcoryfuncionreurn': 1, 'K9': 1, 'FormD': 1, 'phyicl': 1, 'NREUMloderconfighimeOrigineeRequeHederXNewRelicIDNREUMloderconfigxpidonendxhrrfuncionevr': 1, 'dicoun': 10, '124eeQJf3x4funcionfuncion': 1, 'Exr': 3, 'PURCHASE': 1, 'Tilored': 1, 'PST': 1, 'Selec': 10, 'ch': 11, 'GS200': 1, 'hve': 2, 'period': 1, 'Lom': 1, '60': 6, 'rnrwrppedfuncionreurn': 1, 'Willim': 2, 'GpKid': 1, 'Online': 3, 'hipping': 9, 'donion': 3, 'o0o': 1, '100': 49, 'pp': 2, 'Buy': 2, 'Promoionl': 1, 'Pln': 1, 'Regulrly': 2, 'byeLenghifundefinedypeof': 1, 'been': 1, '01012016': 2, '1vr': 1, 'quic': 1, 'Clohing': 1, 'quo25': 1, 'FormDreurn': 1, 'Liquidor': 2, 'o0or': 1, 'erm': 2, 'box': 2, 'Nike': 1, 'wrfi': 1, 'mch': 1, '1201': 2, 'FREE': 7, 'oehrefplireurnrporo1rporo1pli0plipoppli1rpor0rporrporhpo044380rhonmeehonmenhonmerphnmeephnmerproocolo0rphnmechrA0rphnmerphnmermeOriginehonmeehonmedocumendominepornporeproocolnproocolr15funcionefuncion': 1, 'bulk': 1, 'Crd': 7, 'gonegmeniopikeyzovlypwdo4gonrckpgeviewruegonchriyid0gonrckguidEA89EB706FCF0133C9F83C764E0545A3gonenblenlyicruegonmobilefle': 2, 'cegorie': 1, 'google': 1, 'locionPromoion': 1, 'DegeTimehixhrCbSrhionlodee1XL7HBI21431248eeQJf3xhndleD5DuLPloderG9z0Bl14funcioneeexporfuncionvr': 1, 'lenghreurn': 1, 'GifCrd': 2, 'Appreciion': 1, 'No7769738': 1, 'Co': 1, 'rvr': 2, 'oher': 9, 'looe': 1, 'eenirycc1rerrnew': 1, 'wrehoue': 1, 'n': 2, 'will': 3, 'ArryBufferbyeLenghreurn': 1, 'ongoing': 11, 'enexporiffuncionypeof': 1, 'error': 1, 'Aurli': 1, 'Cr': 1, 'oeecreei1ogoifeexporonwindowgeProoypeOfin': 1, 'Avenue': 1, 'Tody': 2, 'Suppor': 1, 'neecreer1neexpornrinPlcewindowhiorypuhSereplceSe126eeQJf3x10funcionevr': 1, 'nhpupli0lForHppproonhphpmrkonlodivr': 1, 'ulocionpli0dbeconbmnrdneerrorBeconbmnrdnegenjgennewreliccomnr768minjpeexporoffeioriginufeurefddEvenLienerfddEvenLienerDOMConenLodedo1cddEvenLienerlodn1fchEvenonredyechngercchEvenonlodnmrkfirbyei124215hndleD5DuLPloderfuncioneeexporG9z0Bl24funcionefuncion': 1, 'wild': 1, 'i0c': 1, '37': 1, 'exjvcrip': 2, '15': 6, 'Sierr': 1, 'GNC': 2, 'vr': 6, 'conc': 1, 'hipped': 3, 'in': 20, 'niinPlceddEvenLienerremoveEvenLienerrfuncion': 1, '0ryreurn': 1, 'You': 3, 'Zc': 1, 'if': 5, 'Coldger': 1, 'prohibied': 1, 'promoion': 2, 'Void': 1, 'FAQ': 1, '1800Flower': 1, 'member': 1, 'food': 5, 'ohndlei2eeloderrorborimeouclenghf1uwindowXMLHpReque43onnewxhrfuncionhiolCb0hiclled0hicbTime0hiendehiended1hixhrGuidonopenxhrrfuncionhiprmmehod0rhi1himericonopenxhrendfuncioneloderconfigin': 1, 'Conc': 1, 'ince': 1, '9': 1, 'dryeminewxhreehOwnProperyddEvenLieneruinPlceeddEvenLienerremoveEvenLieneroeddEvenLienerredyechngen1cchrryemiinernlerrorrcchireurn': 1, 'Roing': 1, 'XMLHpRequeprooypehOwnProperyddEvenLienernXMLHpRequeprooypeoonddEvenLienerrfuncionefuncion': 1, 'Shuerfly': 2, 'eAribuerc': 1, 'Excluive': 1, 'CERTIFECT': 1, 'checkou': 4, 'I': 3, 'Sve': 3, 'condiion': 1, '7220': 1, 'SFB111315': 1, 'Trding': 1, 'Nile': 1, 'Rlph': 4, 'Regulr': 1, 'onifObjecdefineProperyObjeckeyryreurn': 1, 'SHARE40': 1, 'Chico39': 1, 'cr': 2, 'Order': 14, 'Serch': 3, 'Joining': 1, 'ubol': 1, 'chooe': 1, 'Own': 1, 'off': 5, 'creurn': 1, 'i': 14, 'Spring': 1, '49': 1, '12012015': 1, 'hippingExcluion': 1, '20977': 1, 'lodedcompleeedocumenredySeeTimeouonlod': 1, 'quoed': 1, 'Mcy39': 1, 'rerocively': 1, 'ireurnnew': 1, 'If': 2, 'Aeropole': 1, '769': 1, 'Service': 1, 'Fridy': 1, 'being': 1, 'when': 3, 'cloh': 1, 'enered': 1, 'CCS': 1, 'Jewelry': 2, 'hrough': 7, '1159pm': 1, '32': 1, 'PPNOV20': 1, 'Deil': 1, 'Prinble': 10, 'Belyer': 1, 'Bg': 1, 'Offer': 23, 'ehndlenee1windowddEvenLienerclickfuncioneincck1windowddEvenLienerhhchngefuncioneinchc1nonpuhSerfuncioneincp19eeQJf3xhndleD5DuLP6funcionloderfeurein0loderG9z0Bl7funcionfuncion': 1, 'ulod0emixhrloddded12eonremoveEvenLienerendfuncionee': 1, 'Bh': 1, 'ele': 2, 'nenee0undefinedypeof': 1, 'rfcreeElemencriprrcpproogeneprenNodeinerBeforerefuncion': 1, 'cue': 5, '4': 1, 'nreeo1irynloclSorgegeIemnrflgpliconolefuncionypeof': 1, 'pplicble': 7, '75': 5, 'On': 1, '1159': 5, 'nvr': 3, 'pplie': 3, 'r1onridigoeexporngo7eSDFhidfuncioneeexporXL7HBIG9z0Blfuncionefuncion': 1, 'Reference': 1, 'fprenNodeinerBefore': 1, 'Monh': 1, 'webie': 1, 'redeem': 2, 'FREESHIP': 1, 'Objecforvr': 1, '30': 11, 'Americ': 1, 'mched': 1, 'Or': 1, 'TREATS': 1, 'Shop': 4, 'jcrewcom': 1, '59': 1, 'd': 1, 'excluding': 2, 'Show': 23, 'Afer': 1, 'Old': 6, 'Armour': 1, '50': 9, 'glove': 1, '52': 2, 'Topic': 1, 'UGGCY368': 1, 'wrficommnd': 2, 'Shoe': 1, 'Iem': 9, 'funcion': 4, 'Specr': 1, 'windowgon': 2, '65': 1, 'FALL15': 1, 'onlod': 3, 'ole': 1, '111715': 2, '200': 2, 've': 24, 'HP': 2, 'ingle': 2, 'Tiny': 1, 'Gooderch': 5, 'EST': 1, 'include': 1, 'rfirck': 1, 'Nex': 2, 'Any': 2, 'New': 2, 'Leher': 1, 'bckordered': 1, 'rhndleEveniinPlcerhndleEvenfnoonremoveEvenLienerrfuncionvr': 1, 'Coffee': 1, '21530978': 1, 'jewelry': 4, 'for': 23, 'ried': 1, 'Sonom': 2, 'GoodHomeIndex': 1, 'rhndleo6ieewindowonerror1c0loderfeureerr05windowonerroreryhrow': 1, 'exceeding': 1, 'ice': 1, 'rcompleefredySeofuncion': 1, 'Ho': 2, 'reilerx27': 2, 'LLC': 1, '6XRPEOCU2NFXTE2IBASALN': 1, 'omrkdomConenifuncion': 1, 'vlue': 2, 'Affiniy': 1, 'Finl': 3, 'be': 19, 'Term': 2, 'ccep': 1, 'Mdion': 1, '300': 1, 'word': 1, 'refinPlceeonredyechngefnfuncion': 1, 'Up': 15, 'bebe': 1, 'rue': 2, 'nrerrnew': 1, 'Thnkgiving': 1, 'VETDAY': 1, 'nfehixhrGuidhixhrGuidnhixhrGuidn0hiolCb1onxhrlodremovedfuncionevr': 1, 'ccoun': 1, 'documenredySe': 1, 'rbnehibSrDenowoonfnrfuncionenhibSrDenowhibTypenoonfnendfuncionerbTimerehibSrDenowhibTypeionfnrfuncionhibSrDenowionfnendfuncionerbTimerehibSrDenowrequeAnimionFrmenonpuhSerfuncionhiimeDenowhirPhlocionphnmelocionhhnonpuhSeendfuncionrbHilocionphnmelocionhhhirPhhiimeddEvenLienerin': 1, 'Errorcchfckin': 1, 'Sephor': 1, 'Coupon': 2, 'ol': 1, 'Mercnile': 1, 'Syle': 1, 'of': 19, 'Addiionlly': 1, '11242015': 1, 'lbel': 1, 'US': 7, 'Find': 1, 'Penu\\xa2\\xe7': 1, '74': 2, 'Viprin': 1, 'rhndleo1i2undefinedypeof': 1, 'or': 22, 'preen': 1, 'Lord': 1, 'ulod0emixhrlodremoved12eonfnrfuncionene': 1, 'Amzon': 1, 'No': 9, 'coupon': 83, '70': 4, 'Gme': 1, 'lb': 1, 'lier': 2, 'Their': 1, 'Add': 1, 'Fine': 1, '1800flowercom': 1, 'eing': 1, 'JewelryVlid': 1, 'drolldvid': 1, 'Buine': 1, 'your': 6, 'quoExr': 1, 'Sore': 3, 'RRL': 1, 'pplied': 5, 'meler': 1, 'nnlengh0forvr': 1, 'Collecive': 1, 'ASOS': 1, 'nevr': 2, 'u0c': 1, 'Wche': 1, 'gif': 5, 'Poery': 2, 'wwweropolecom': 1, '2499': 2, 'November': 5, 'creAribueync': 1, 'combined': 6, 'nreurn': 2, 'from': 8, 'buy': 1, 'Regulrpriced': 3, 'Deprmen': 1, 'offer': 18, 'Ulr': 1, 'believe': 1, 'Wedding': 1, 'Collecion': 3, 'delivery': 4, 'Dog': 1, 'oeecreei1oeexporoiinPlcewindoweTimeoueImmedieeTimeriinPlcewindoweInervleInervliinPlcewindowclerTimeouclerImmedieclerTimeouooneInervlrnooneTimerrr126eeQJf3x12funcionefuncion': 1, 'Survey': 1, 'Fll': 1, 'rreurnvr': 1, 'eifwindowperformncewindowperformnceimingwindowperformncegeEnrieByTypevr': 1, 'Evennonfnrfuncionvr': 1, '11302015': 5, 'MIXITUP': 1, 'codequo': 2, 'Tem': 1, 'Gold': 1, 'windowdrolllodeddrolllodedrueeTimeouonlod': 1, 'dog': 1, 'hndle1cwindowfcdocumen2vr': 1, 'bck': 1, 'Pin': 1, 'pinfoNREUMinfoefgeElemenByTgNmecrip0ifliceneKeypplicionIDedfuncionene': 1, 'noed': 1, '11222015': 3, 'ue': 3, 'mximum': 1, 'pm': 3, 'onlyDicoun': 1, 'pricing': 1, 'Cnv': 1, 'required': 1, 'Eligible': 1, 'documengeElemenByTgNmecrip0prenNodeppendChildcr': 1, 'received': 1, 'GoodSignUpModlegmenkey': 1, 'menioned': 1, 'Blog': 2, 'To': 3, 'Cnd': 1, 'promo': 4, 'Blob': 1, 'r1one0iArry0': 1, 'djumen': 3, 'ndor': 1, '11172015': 5, 'An': 1, 'Purche': 10, 'unhifwindownlyicpuhwindownlyicforvr': 1, 'Everydy': 2, 'Winer': 1, 'no': 20, 'Jewelry\\xa1\\xcb': 1, 'monogrmming': 1, 'TOMS\\xa2\\xe7': 1, '40': 11, 'Delivery': 1, 'EVERYTHING': 1, 'eidXMLHpRequeXMLHpRequeprooypedprooypefinPlceXMLHpRequeprooypeopenendxhroonendxhrrronopenxhrrr18226eeQJf3x13funcionfuncion': 1, '5': 4, 'Jcke': 1, 'Wirele': 1, 'crype': 1, 'excluively': 1, 'you': 4, 'More': 3, 'Foower': 1, 'ny': 12, 'Wide': 1, 'AGENT': 1, 'MC25OFF': 1, 'Exclude': 2, 'Robeez\\xa2\\xe7': 1, 'Reired': 1, 'regulrly': 1, 'Keybord': 1, '8884757674': 1, 'U': 1, 'Abou': 3, 'weigh': 1, 'priced': 1, 'rie': 1, 'DEVELOPMENT': 1, 'funcionvr': 1, 'Expedi': 1, 'Lhuillier': 1, 'e': 1, 'c1rfihubnejcminj': 1, '12132015': 2, 'vlid': 25, 'Advnix': 1, 'Lnd39': 1, 'rule': 1, 'Wih': 3, 'Brn': 2, 'ArryBuffer': 1, 'Fnic': 2, 'u': 4, '12': 2, 'hpdrollcomjroundripj': 2}\n"
     ]
    }
   ],
   "source": [
    "import string\n",
    "import pickle\n",
    "\n",
    "f = open('www.goodsearch.com.html.txt','r')\n",
    "source = f.read()\n",
    "\n",
    "string1 = ''\n",
    "string2 = ''\n",
    "string3 = ''\n",
    "string4 = ''\n",
    "\n",
    "notuse = [ 'a', 'and', 'are', 'as', 'at', 'be', 'but', 'by', 'for',\n",
    "          'if', 'in', 'into', 'is', 'it', 'no', 'not', 'of', 'on', 'or',\n",
    "          's', 'such', 't', 'that', 'the', 'their', 'then', 'there', \n",
    "          'these', 'they', 'this', 'to', 'was', 'will', 'with']\n",
    "l = []\n",
    "r = []\n",
    "k = []\n",
    "p = []\n",
    "\n",
    "for line in source.splitlines():\n",
    "    line = line.lstrip()\n",
    "    for word in line:\n",
    "        if word == '<':\n",
    "            string1 += '\\n'\n",
    "        string1 += word\n",
    "        if word == '>':\n",
    "            string1 += '\\n'\n",
    "            \n",
    "for line in string1.splitlines():\n",
    "    line = line.lstrip()\n",
    "    for word in line:\n",
    "        string2 += word\n",
    "    l.append(string2)\n",
    "    string2 = ''\n",
    "\n",
    "for x in range(0,len(l)):\n",
    "    if l[x] != '':\n",
    "        r.append(l[x])\n",
    "\n",
    "for x in range(0,len(r)):\n",
    "    if (r[x][0] == '<') or (r[x][0] == '/') or (r[x][0] == '-'):\n",
    "        r[x] = ''\n",
    "        \n",
    "for x in range(0,len(r)):\n",
    "    if r[x] != '':\n",
    "        k.append(r[x])\n",
    "        \n",
    "for x in range(0,len(k)):\n",
    "    string3 += k[x]\n",
    "    string3 += ' '\n",
    "\n",
    "\n",
    "limit = len(string3)\n",
    "\n",
    "x = 0\n",
    "\n",
    "while x<limit:\n",
    "    for y in range(0,len(string.punctuation)):\n",
    "        if string3[x] == string.punctuation[y]:\n",
    "            string3 = string3.replace(string3[x],'')\n",
    "            limit = len(string3)\n",
    "    for y in range(0,len(notuse)):\n",
    "        if string3[x] == notuse[y]:\n",
    "            string3 = string3.replace(string3[x],'')\n",
    "            limit = len(string3)\n",
    "    x += 1\n",
    "    \n",
    "p = string3.split()\n",
    "words = {}\n",
    "frequency = {}\n",
    "\n",
    "for i in p:\n",
    "    if not i in words.keys():\n",
    "        words[i]=1\n",
    "    else:\n",
    "        words[i]=words[i]+1\n",
    "        \n",
    "format = \"%s : %d\"\n",
    "  \n",
    "for i in words:\n",
    "    frequency[i] = words[i]\n",
    "    \n",
    "print frequency\n",
    "f.close()\n",
    "save = open('www.goodsearch.com.words.frequency.txt','w')\n",
    "pickle.dump(frequency,save)\n",
    "save.close()"
   ]
  },
  {
   "cell_type": "code",
   "execution_count": 33,
   "metadata": {
    "collapsed": false
   },
   "outputs": [
    {
     "name": "stdout",
     "output_type": "stream",
     "text": [
      "Fisrt : nd, Second : coupon, Third : del\n"
     ]
    }
   ],
   "source": [
    "import pickle\n",
    "import string\n",
    "\n",
    "f1 = open('www.aol.com.words.frequency.txt','r')\n",
    "f2 = open('edition.cnn.com.words.frequency.txt','r')\n",
    "f3 = open('www.bbc.com.words.frequency.txt','r')\n",
    "f4 = open('www.nytimes.com.words.frequency.txt','r')\n",
    "f5 = open('www.goodsearch.com.words.frequency.txt','r')\n",
    "\n",
    "words1 = pickle.load(f1)\n",
    "words2 = pickle.load(f2)\n",
    "words3 = pickle.load(f3)\n",
    "words4 = pickle.load(f4)\n",
    "words5 = pickle.load(f5)\n",
    "\n",
    "totalwords = words1.copy()\n",
    "\n",
    "totalwords.update(words2)\n",
    "totalwords.update(words3)\n",
    "totalwords.update(words4)\n",
    "totalwords.update(words5)\n",
    "\n",
    "frequency = totalwords.items()\n",
    "\n",
    "frequency.sort(key=lambda(x,y):y,reverse=True)\n",
    "\n",
    "frequency1words = frequency[0][0]\n",
    "frequency2words = frequency[1][0]\n",
    "frequency3words = frequency[2][0]\n",
    "\n",
    "print \"Fisrt : %s, Second : %s, Third : %s\" % (frequency[0][0],\n",
    "                                               frequency[1][0],\n",
    "                                               frequency[2][0])\n",
    "\n",
    "f1.close()\n",
    "f2.close()\n",
    "f3.close()\n",
    "f4.close()\n",
    "f5.close()"
   ]
  },
  {
   "cell_type": "markdown",
   "metadata": {},
   "source": [
    "##Comment"
   ]
  },
  {
   "cell_type": "markdown",
   "metadata": {},
   "source": [
    "몇 주간 과제를 하면서 기존에 사용하던 C언어보다 파이썬이 훨씬 편하게 사용하게 되었고 간단한 문법과 여러가지 기능이 좋아서 주언어로 사용하고 있습니다.\n",
    "문제중에 프로젝트 오일러 문제들은 너무 숫자를 크게 주는 것 같아 몇몇 문제들은 최대 수를 임의로 변경하여 해결하였습니다. 양해부탁드립니다. 항상 수고가 많으십니다. 감사합니다."
   ]
  },
  {
   "cell_type": "code",
   "execution_count": null,
   "metadata": {
    "collapsed": true
   },
   "outputs": [],
   "source": []
  }
 ],
 "metadata": {
  "kernelspec": {
   "display_name": "Python 2",
   "language": "python",
   "name": "python2"
  },
  "language_info": {
   "codemirror_mode": {
    "name": "ipython",
    "version": 2
   },
   "file_extension": ".py",
   "mimetype": "text/x-python",
   "name": "python",
   "nbconvert_exporter": "python",
   "pygments_lexer": "ipython2",
   "version": "2.7.9"
  }
 },
 "nbformat": 4,
 "nbformat_minor": 0
}
