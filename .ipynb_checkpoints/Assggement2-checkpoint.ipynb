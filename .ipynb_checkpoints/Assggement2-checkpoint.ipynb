{
 "cells": [
  {
   "cell_type": "markdown",
   "metadata": {},
   "source": [
    "#Assignment 2"
   ]
  },
  {
   "cell_type": "markdown",
   "metadata": {},
   "source": [
    "## 1. 다음 6 개의 Expression에 대해 Evaluation 결과 값을 출력하고, 해당 결과가 나온 이유에 대해 설명하시오\n",
    "◾1 and 2 and 3 and 4\n",
    "◾1 or 2 or 3 or 4\n",
    "◾1 and 2 or 3 and 4\n",
    "◾(1 and 2) or (3 and 4)\n",
    "◾1 or 2 and 3 or 4\n",
    "◾(1 or 2) and (3 or 4)\n"
   ]
  },
  {
   "cell_type": "code",
   "execution_count": 2,
   "metadata": {
    "collapsed": false
   },
   "outputs": [
    {
     "name": "stdout",
     "output_type": "stream",
     "text": [
      "4\n",
      "1\n",
      "2\n",
      "2\n",
      "1\n",
      "3\n"
     ]
    }
   ],
   "source": [
    "print 1 and 2 and 3 and 4\n",
    "print 1 or 2 or 3 or 4\n",
    "print 1 and 2 or 3 and 4\n",
    "print (1 and 2) or (3 and 4)\n",
    "print 1 or 2 and 3 or 4\n",
    "print (1 or 2) and (3 or 4)"
   ]
  },
  {
   "cell_type": "markdown",
   "metadata": {},
   "source": [
    "· 1 and 2 = true \n",
    "true and 3 = true\n",
    "true and 4 가 true이므로 4가 출력된다\n",
    "· 1 or 2 = flase 이므로 뒤에를 보지 않고 바로 1이 출력된다.\n",
    "· 1 and 2 = true \n",
    "true or 3 = flase 이므로 뒤를 보지않고 2를 출력된다.\n",
    "· (1 and 2) 와 (3 and 4)가 모두 true 이고\n",
    "true or true = flase 이므로 앞의 2가 출력된다.\n",
    "· 1 or 2 = flase 이므로 뒤를 보지않고 1이 출력된다.\n",
    "· (1 or 2)와 (3 or 4) 가 모두 flase 이고\n",
    "flase and false = flase 이므로 뒤의 3이 출력된다."
   ]
  },
  {
   "cell_type": "markdown",
   "metadata": {},
   "source": [
    "##2. 키보드로 정수값을 입력 받고 그 값이 양수인지 음수인지를 비트 연산자를 이용하여 판단하는 프로그램을 작성하시오.\n",
    "◾[참고] 가장 왼쪽에 있는 비트가 0이면 양수이며, 1이면 음수이다.\n"
   ]
  },
  {
   "cell_type": "code",
   "execution_count": 19,
   "metadata": {
    "collapsed": false
   },
   "outputs": [
    {
     "name": "stdout",
     "output_type": "stream",
     "text": [
      "Num : 34\n",
      "양 수\n"
     ]
    }
   ],
   "source": [
    "com = 256\n",
    "n = input(\"Num : \")\n",
    "\n",
    "if com & (n >> 1):\n",
    "    print \"음 수\"\n",
    "else:\n",
    "    print \"양 수\"\n"
   ]
  },
  {
   "cell_type": "markdown",
   "metadata": {},
   "source": [
    "##3. 경로에 해당하는 문자열 1개를 입력 받아 그 안에 디렉토리 경로명과 파일명을 분리하여 리스트로 반환하는 함수 div_path(s)를 작성하시오.\n",
    "◾인자로 전달하는 문자열은 경로만 들어간다고 가정한다.\n",
    "◾각 디렉토리와 파일을 구분하는 문자는 '/'로 가정한다.\n",
    "◾반환하는 리스트의 첫번째 원소는 디렉토리이고 두번째 원소는 파일명이다.\n",
    "◾다음과 같은 실행 및 출력 결과가 도출되어야 한다.◦div_path('/usr/local/bin/python')◦['/usr/local/bin', 'python']\n",
    "◦div_path('/home/chulsoo/test.txt')◦['/home/chulsoo', 'test.txt']\n",
    "◾[참고] 리스트(l) 내에 새로운 정수값 (예를 들어 10)을 넣는 방법은 l.append(10) 이다. \n"
   ]
  },
  {
   "cell_type": "code",
   "execution_count": 15,
   "metadata": {
    "collapsed": false
   },
   "outputs": [
    {
     "name": "stdout",
     "output_type": "stream",
     "text": [
      "String : /home/chulsoo/test.txt\n",
      "['/home/chulsoo/', 'test.txt']\n"
     ]
    }
   ],
   "source": [
    "def div_path(s):\n",
    "    s1 = s.split('/')\n",
    "    x = 0\n",
    "    y = 0\n",
    "    temp = []\n",
    "    while x < len(s1):\n",
    "        temp.append(s1[x]) \n",
    "        x = x + 1\n",
    "    out = ['','']\n",
    "    for y in range(len(s1)-1):\n",
    "        out[0] = out[0] + s1[y] + '/'\n",
    "    out[1] = s1[len(s1)-1]\n",
    "    print out\n",
    "    \n",
    "t = raw_input(\"String : \")\n",
    "div_path(t)"
   ]
  },
  {
   "cell_type": "markdown",
   "metadata": {
    "collapsed": true
   },
   "source": [
    "##4. 두 개의 리스트를 인자로 받아서 그 두 개의 리스트에 대한 '합집합'을 반환하는 함수 list_union(lista, listb)를 작성하시오.\n",
    "\n",
    "◾인자로 전달하는 리스트 2 개에는 정수값만 들어간다고 가정하자.\n",
    "◾함수 내에서 새로운 리스트를 만들어 그 리스트 내에 인자로 받은 두 리스트의 모든 원소를 넣어 반환한다.\n",
    "◾반환하는 리스트에는 절대로 중복된 원소가 들어 있으면 안된다 (집합의 조건).\n",
    "◾반환하는 리스트는 정렬이 되어 있어야 한다.\n",
    "◾다음과 같은 실행 및 출력 결과가 도출되어야 한다.◦list_union([1, 2, 3], [1, 2, 4])◦[1, 2, 3, 4]\n",
    "\n",
    "◦list_union([-10, -5, 0, -1], [100, 9, 0, 9])◦[-10, -5, -1, 0, 9, 100]\n",
    "\n",
    "◦list_union([0, 1, 2], [0, 1, 2])◦[0, 1, 2]\n",
    "\n",
    "\n",
    "◾[참고] 리스트(l) 내에 새로운 정수값 (예를 들어 10)을 넣는 방법은 l.append(10) 이다.\n",
    "◾[참고] 임의의 정수값 (x)이 리스트 (l) 내에 존재하는지 판단하는 방법은 x in l 이다.\n"
   ]
  },
  {
   "cell_type": "code",
   "execution_count": 25,
   "metadata": {
    "collapsed": false
   },
   "outputs": [
    {
     "name": "stdout",
     "output_type": "stream",
     "text": [
      "[-50, -2, 1, 3, 4, 50, 100, 300, 1000]\n"
     ]
    }
   ],
   "source": [
    "def list_union(lista, listb):\n",
    "    listout = []\n",
    "    x = 0\n",
    "    y = 0\n",
    "    for x in range(len(lista)):\n",
    "        if lista[x] in listout:\n",
    "            x = x + 1\n",
    "        else:\n",
    "            listout.append(lista[x])\n",
    "            x = x + 1\n",
    "    for y in range(len(listb)):\n",
    "        if listb[y] in listout:\n",
    "            y = y + 1\n",
    "        else:\n",
    "            listout.append(listb[y])\n",
    "            y = y + 1\n",
    "    listout.sort()\n",
    "    print listout\n",
    "    \n",
    "list1 = [1,-2,300,-50,1000,4]\n",
    "list2 = [3,1,50,300,-2,100]\n",
    "\n",
    "list_union(list1,list2)"
   ]
  },
  {
   "cell_type": "markdown",
   "metadata": {},
   "source": [
    "##5. 프로젝트 오일러4\n",
    "앞에서부터 읽을 때나 뒤에서부터 읽을 때나 모양이 같은 수를 대칭수(palindrome)라고 부릅니다. 두 자리 수를 곱해 만들 수 있는 대칭수 중 가장 큰 수는 9009 (= 91 × 99) 입니다. 세 자리 수를 곱해 만들 수 있는 가장 큰 대칭수는 얼마입니까?\n"
   ]
  },
  {
   "cell_type": "code",
   "execution_count": 24,
   "metadata": {
    "collapsed": false
   },
   "outputs": [
    {
     "name": "stdout",
     "output_type": "stream",
     "text": [
      "906609\n"
     ]
    }
   ],
   "source": [
    "pal=0\n",
    "for x in range(100,1000):\n",
    "    for y in range(100,1000):\n",
    "        z = (str)(x * y)\n",
    "        if len(z)%2==0:\n",
    "            a = z[:len(z)/2]\n",
    "            b = z[len(z)/2:len(z)]\n",
    "            b = b[::-1]\n",
    "            if a == b:\n",
    "                if (x*y) > pal:\n",
    "                    pal = (x*y)\n",
    "        else:\n",
    "            a = z[:len(z)/2]\n",
    "            b = z[len(z)/2+1:len(z)]\n",
    "            b = b[::-1]\n",
    "            if a == b:\n",
    "                if (x*y) > pal:\n",
    "                    pal = (x*y)\n",
    "\n",
    "print pal"
   ]
  },
  {
   "cell_type": "markdown",
   "metadata": {
    "collapsed": true
   },
   "source": [
    "## 6. 프로젝트 오일러5\n",
    "1 ~ 10 사이의 어떤 수로도 나누어 떨어지는 가장 작은 수는 2520입니다. \n",
    "그러면 1 ~ 20 사이의 어떤 수로도 나누어 떨어지는 가장 작은 수는 얼마입니까?\n"
   ]
  },
  {
   "cell_type": "code",
   "execution_count": 30,
   "metadata": {
    "collapsed": false
   },
   "outputs": [
    {
     "name": "stdout",
     "output_type": "stream",
     "text": [
      "232792560\n"
     ]
    }
   ],
   "source": [
    "num = 21\n",
    "end = 0\n",
    "check = 0\n",
    "while end == 0:\n",
    "    for x in range(1,21):\n",
    "        if num%x==0:\n",
    "            check = check + 1\n",
    "            if check == 20:\n",
    "                end = 1\n",
    "        else:\n",
    "            check = 0\n",
    "            num = num + 1\n",
    "            break\n",
    "print num"
   ]
  },
  {
   "cell_type": "markdown",
   "metadata": {},
   "source": [
    "##7. 프로젝트 오일러6\n",
    "1부터 10까지 자연수를 각각 제곱해 더하면 다음과 같습니다 (제곱의 합).\n",
    "\n",
    "1^2 + 2^2 + ... + 10^2 = 385\n",
    "\n",
    "1부터 10을 먼저 더한 다음에 그 결과를 제곱하면 다음과 같습니다 (합의 제곱).\n",
    "\n",
    "(1 + 2 + ... + 10)^2 = 55^2 = 3025\n",
    "\n",
    "따라서 1부터 10까지 자연수에 대해 \"합의 제곱\"과 \"제곱의 합\" 의 차이는 3025 - 385 = 2640 이 됩니다.\n",
    "\n",
    "그러면 1부터 100까지 자연수에 대해 \"합의 제곱\"과 \"제곱의 합\"의 차이는 얼마입니까?\n"
   ]
  },
  {
   "cell_type": "code",
   "execution_count": 38,
   "metadata": {
    "collapsed": false
   },
   "outputs": [
    {
     "name": "stdout",
     "output_type": "stream",
     "text": [
      "25164150\n"
     ]
    }
   ],
   "source": [
    "sumsqure = 0\n",
    "squresum = 0\n",
    "\n",
    "for x in range(1,101):\n",
    "    sumsqure = sumsqure + x**2\n",
    "for y in range(1,101):\n",
    "    squresum = squresum + y\n",
    "squresum = squresum**2\n",
    "\n",
    "print squresum - sumsqure"
   ]
  },
  {
   "cell_type": "markdown",
   "metadata": {},
   "source": [
    "##8. [Incremental Project] 웹 URL로 지정된 웹페이지를 문자열로 가져와 1) 모든 HTML 태그를 제외한 순수 텍스트 문자열만을 걸러내고, 2) 그 순수 텍스트 문자열 안에 존재하는 단어가 총 몇개인지 출력하는 프로그램을 작성하시오.\n",
    "\n",
    "◾HTML 태그는 다음 조건을 가지는 것이다.\n",
    "◦< 로 시작하여 >로 끝난다.\n",
    "◦예를 들어, 아래와 같은 HTML 내용 내에 한 줄이 있다고 가정하자.\n",
    "<label for=\"keep_signed\">로그인 유지</label>\n",
    "◦위 소스에서 HTML 태그를 제외한 순수 텍스트 문자열은 아래와 같다.\n",
    "로그인 유지\n",
    "◦한편, 아래와 같은 HTML 한 줄이 있다고 가정하자.\n",
    "<link rel=\"stylesheet\" href=\"/common/css/xe.min.css?20150910092654\" />\n",
    "◦위 소스는 HTML 태그로만 구성된 것이며 걸러낼 수 있는 순수 텍스 문자열은 존재하지 않는다.\n",
    "\n",
    "\n",
    "◾단어를 나누는 기준은 오로지 공백문자 (whitespace)이다.\n",
    "◦즉, 위 순수 텍스트 문자열인 \"로그인 유지\"에서 분리한 단어는 \"로그인\"과 \"유지\"이다.\n",
    "\n",
    "◾다음은 URL로 지정된 웹페이지를 특정 문자열로 가져오는 코드이다. ◦즉, 숙제 코드는 아래 코드로 부터 시작해야 한다.\n",
    "\n"
   ]
  },
  {
   "cell_type": "code",
   "execution_count": 200,
   "metadata": {
    "collapsed": false
   },
   "outputs": [
    {
     "name": "stdout",
     "output_type": "stream",
     "text": [
      "<HTML 태그를 모두 제거한 문자열>\n",
      "컴퓨터공학부 Schoolfun - Study and Fun 로그인 로그인 아이디 비밀번호 로그인 유지 브라우저를 닫더라도 로그인이 계속 유지될 수 있습니다. 로그인 유지 기능을 사용할 경우 다음 접속부터는 로그인할 필요가 없습니다. 단, 게임방, 학교 등 공공장소에서 이용 시 개인정보가 유출될 수 있으니 꼭 로그아웃을 해주세요. 회원가입 ID/PW 찾기 IT 교육의 글로벌 메카! 한국기술교육대학교 컴퓨터공학부 Close 소개 구성원소개 학사안내 입학 학부 대학원 학부광장 자료실 대학원 공학교육인증 Registration 컴퓨터공학부 School of Computer Science and Engineering IT 융합소프트웨어 인력양성사업 CK (Creative Korea)-I 교육역량강화사업 온라인 컨텐츠 Online Contents for Education Capability Empowerment IT 교육의 글로벌 메카 한국기술교육대학교 컴퓨터공학부 홈페이지에 오신 것을 환영합니다! IT 융합소프트웨어 인력양성사업 글로벌 수준의 IT전문인력 양성 IT융합분야에 대한 국제적인 경쟁력 고취 바로가기 교육역량강화사업 컨텐츠 교육역량강화사업 온라인 컨텐츠를 소개합니다. 바로가기 공지사항 [특성화] 토익, 오픽 강좌 수요조사 공고 2015-10-06 16:41 16:41 [특성화] IT융합 개도국 해외기술지원봉사 참가자 모집... 2015-10-05 16:38 16:38 [특성화] 장비대여 안내 2015-10-05 15:28 15:28 제4회 TOPCIT 정기평가 2015-10-05 14:56 14:56 [특성화] 국제게임전시회 G-star 2015 참관 안내 2015-10-05 11:51 11:51 자유게시판 (주) 엔에스이 에서 개발자를 모집합니다. 2015-09-30 13:30 13:30 졸업작품 전시회 컴퓨터공학부 인기상 투표 이벤트 2015-09-25 01:21 01:21 삼성 대학생 프로그래밍 경진대회 2015-09-15 11:17 11:17 2015년 4차 모의토익 지원 2015-09-09 23:34 23:34 난 괜찮아, 돌아가면 되지~ 2015-09-09 15:51 15:51 취업게시판 [특성화] (주)KMW  인턴사원 모집공고 2015-09-23 14:31 14:31 ㈜인젠트 기술연구소 전문연구요원 모집 2015-09-14 11:54 11:54 펜타인 2015년도 신입사원 채용공고 2015-09-03 16:16 16:16 LIG인베니아 (코스닥상장 LIG그룹사 디스플레이장비전... 2015-09-03 14:01 14:01 ㈜ 한울 소프트웨어 개발자 2015-06-18 10:28 10:28 VENTURESQUARE 경기창조경제혁신센터,  IoT 분야 보육기업 4개사 추가... 2015-10-06 16:37 16:37 [펀다 매거진] 핀테크, 금융과 기술의 만남 #5 2015-10-06 15:25 15:25 업계 최고 슈퍼 멘토에게 배우자 인터랙티브 교육 ‘클... 2015-10-06 15:12 15:12 우리에게 없는건 시간이 아니다 2015-10-06 14:57 14:57 [코리안 스타트업을 위한 글로벌 여행 티켓] 87편.스타... 2015-10-06 14:50 14:50 전자신문 전자신문 아이티어 1기 “생생한 IT 소식 전하겠습니다” 2015-10-06 19:51 19:51 세계 최초 3밴드 LTE-A 공방 일단락···KT, SKT 상대 소... 2015-10-06 19:00 19:00 [해설]2.1㎓ 경매 `3사3색` 주장...업계 \"경매방식 명... 2015-10-06 18:00 18:00 [ET단상]방송 콘텐츠 글로벌 유통 활성화를 위한 전략 2015-10-06 18:00 18:00 2.1㎓ 주파수경매 논란 `점입가경`…통신3사 `동상삼몽` 2015-10-06 18:00 18:00 RE/CODE Microsoft Now Taking Applications for $3,000 H... 2015-10-06 23:55 23:55 Twitter Moments Are Like Snapchat’s Live Stori... 2015-10-06 23:42 23:42 Here Are the Four New Science Startups Backed ... 2015-10-06 22:28 22:28 Twitter’s Next Hail Mary, Project Lightning, H... 2015-10-06 22:00 22:00 Jack Dorsey Gets His A Team Together 2015-10-06 20:20 20:20 Back to Top Leading Together  for Brighter Future Quick Navigation 한국기술교육대학교 홈페이지 한국기술교육대학교 WEBMAIL 한국기술교육대학교 온라인 평생교육원 교육역량강화사업 온라인 컨텐츠 컴퓨터공학부 포트폴리오 IT 융합소프트웨어 인력양성사업 Campus Location Contact CSE 충청남도 천안시 동남구 병천면 충절로 1600 한국기술교육대학교 컴퓨터공학부 학과사무실  TEL (041) 560 1460~1461 FAX (041) 560 1462 Facebook Twitter Google Plus Linkedin Youtube Flickr (31253) 충청남도 천안시 동남구 병천면 충절로 1600 (가전리, 한국기술교육대학교) 컴퓨터공학부  Copyright © 2015. All rights reserved \n",
      "단어의 수 :  451\n"
     ]
    }
   ],
   "source": [
    "import urllib2\n",
    "\n",
    "source = urllib2.urlopen(\"http://cse.kut.ac.kr/\").read()\n",
    "\n",
    "string1 = ''\n",
    "string2 = ''\n",
    "string3 = ''\n",
    "\n",
    "l = []\n",
    "r = []\n",
    "k = []\n",
    "p = []\n",
    "\n",
    "for line in source.splitlines():\n",
    "    line = line.lstrip()\n",
    "    for word in line:\n",
    "        if word == '<':\n",
    "            string1 += '\\n'\n",
    "        string1 += word\n",
    "        if word == '>':\n",
    "            string1 += '\\n'\n",
    "        \n",
    "for line in string1.splitlines():\n",
    "    line = line.lstrip()\n",
    "    for word in line:\n",
    "        string2 += word\n",
    "    l.append(string2)\n",
    "    string2 = ''\n",
    "\n",
    "for x in range(0,len(l)):\n",
    "    if l[x] != '':\n",
    "        r.append(l[x])\n",
    "\n",
    "for x in range(0,len(r)):\n",
    "    if (r[x][0] == '<') or (r[x][0] == '/') or (r[x][0] == '-'):\n",
    "        r[x] = ''\n",
    "        \n",
    "for x in range(0,len(r)):\n",
    "    if r[x] != '':\n",
    "        k.append(r[x])\n",
    "        \n",
    "for x in range(0,len(k)):\n",
    "    string3 += k[x]\n",
    "    string3 += ' '\n",
    "\n",
    "p = string3.split()\n",
    "\n",
    "print \"<HTML 태그를 모두 제거한 문자열>\"\n",
    "print string3\n",
    "print \"단어의 수 : \",\n",
    "print len(p)\n",
    "    \n",
    "\n"
   ]
  },
  {
   "cell_type": "markdown",
   "metadata": {
    "collapsed": true
   },
   "source": [
    "## Comment\n",
    "마지막 과제를 풀면서 너무 어려웠지만 파이썬의 모든 문법을 처음부터 다시 한번 복습하게 되었고 많은 생각을 할 수 있어서 파이썬 코딩능력 향상에 도움이 된 것 같습니다."
   ]
  },
  {
   "cell_type": "code",
   "execution_count": null,
   "metadata": {
    "collapsed": true
   },
   "outputs": [],
   "source": []
  }
 ],
 "metadata": {
  "kernelspec": {
   "display_name": "Python 2",
   "language": "python",
   "name": "python2"
  },
  "language_info": {
   "codemirror_mode": {
    "name": "ipython",
    "version": 2
   },
   "file_extension": ".py",
   "mimetype": "text/x-python",
   "name": "python",
   "nbconvert_exporter": "python",
   "pygments_lexer": "ipython2",
   "version": "2.7.9"
  }
 },
 "nbformat": 4,
 "nbformat_minor": 0
}
